{
 "cells": [
  {
   "cell_type": "markdown",
   "id": "97eb3a60-0af1-4f59-9dd6-0be8dfde93e6",
   "metadata": {},
   "source": [
    "# Introduction\n",
    "\n",
    "`pyiron_ontology` uses the `owlready2` library to build up pyiron-specific ontologies, and provides some extra tools to help you leverage these.\n",
    "\n",
    "At present, the only ontology implemented is for the realm of atomistic calculations, and the scope of this ontology is still fairly limited.\n",
    "\n",
    "First, let's import `pyiron_ontology` and grab the atomistics ontology (an `owlready2.namespace.Ontology` object) we define in there"
   ]
  },
  {
   "cell_type": "code",
   "execution_count": 1,
   "id": "8c7000fd-0c77-4b8a-b1fc-8abde3bfe3b0",
   "metadata": {},
   "outputs": [],
   "source": [
    "import pyiron_ontology as po"
   ]
  },
  {
   "cell_type": "code",
   "execution_count": 2,
   "id": "c1fcd3b6-64df-48d6-8c61-5c1c40434088",
   "metadata": {},
   "outputs": [],
   "source": [
    "onto = po.dynamic.atomistics()"
   ]
  },
  {
   "cell_type": "markdown",
   "id": "84ab7a12-d976-4e24-aaf8-ccfe6b553def",
   "metadata": {},
   "source": [
    "We can look at various properties of the ontology, just like other owl ontologies, e.g. the classes and individuals defined in this space.\n",
    "\n",
    "There are four key-classes common to all ontologies made in the scope of `pyiron_ontology`: `Generic`, `Input`, `Function`, and `Output`. `Generic` is the parent class used for defining domain knowledge; the remaining three are used to represent how computations are performed in any knowledge-space. (You'll also see `PyironOntoThing`, `Parameter`, `WorkflowThing`, and `IO` are parent classes used under the hood).\n",
    "\n",
    "`Generic` will be heavily sub-classed in each specific ontology, and then instantiated and paired with inputs and outputs so that we will know what sort of information is moving around our computation graphs. The workflow elements will (so far) only be instantiated, defining all the possible calculation available.\n",
    "\n",
    "Let's first look at the classes for our atomistics knowledge-space:"
   ]
  },
  {
   "cell_type": "code",
   "execution_count": 3,
   "id": "29b57b66-a385-4fbc-9429-0c89638b838d",
   "metadata": {},
   "outputs": [
    {
     "data": {
      "text/plain": [
       "[atomistics.PyironOntoThing,\n",
       " atomistics.Parameter,\n",
       " atomistics.Generic,\n",
       " atomistics.WorkflowThing,\n",
       " atomistics.Function,\n",
       " atomistics.IO,\n",
       " atomistics.Output,\n",
       " atomistics.Input,\n",
       " atomistics.AtomisticsFunction,\n",
       " atomistics.UserInput,\n",
       " atomistics.PyironObject,\n",
       " atomistics.PhysicalProperty,\n",
       " atomistics.ChemicalElement,\n",
       " atomistics.MaterialProperty,\n",
       " atomistics.BulkModulus,\n",
       " atomistics.BPrime,\n",
       " atomistics.SurfaceEnergy,\n",
       " atomistics.Dimensional,\n",
       " atomistics.OneD,\n",
       " atomistics.TwoD,\n",
       " atomistics.ThreeD,\n",
       " atomistics.Structure,\n",
       " atomistics.Defected,\n",
       " atomistics.HasDislocation,\n",
       " atomistics.HasVacancy,\n",
       " atomistics.HasInterface,\n",
       " atomistics.HasGB,\n",
       " atomistics.HasSurface,\n",
       " atomistics.HasPB,\n",
       " atomistics.Bulk,\n",
       " atomistics.PyironProject,\n",
       " atomistics.AtomisticsProject,\n",
       " atomistics.PyironJob,\n",
       " atomistics.AtomisticsJob,\n",
       " atomistics.Lammps,\n",
       " atomistics.Vasp]"
      ]
     },
     "execution_count": 3,
     "metadata": {},
     "output_type": "execute_result"
    }
   ],
   "source": [
    "list(onto.classes())"
   ]
  },
  {
   "cell_type": "markdown",
   "id": "f596c62c-602a-4814-8735-e01e23f7675a",
   "metadata": {},
   "source": [
    "We can also look at the individuals. Some of these should have very descriptive names -- these are the `Input`, `Output`, and `Function` individuals. The rest are instances of our `Generic` class (and its children) and receive their name automatically."
   ]
  },
  {
   "cell_type": "code",
   "execution_count": 4,
   "id": "aff4fb1a-b2e6-469d-b2a1-5b42f1b2faf3",
   "metadata": {},
   "outputs": [
    {
     "data": {
      "text/plain": [
       "[atomistics.project,\n",
       " atomistics.project_input_name,\n",
       " atomistics.project_output_atomistics_project,\n",
       " atomistics.bulk_structure,\n",
       " atomistics.generic1,\n",
       " atomistics.bulk_structure_input_element,\n",
       " atomistics.structure1,\n",
       " atomistics.bulk_structure_output_structure,\n",
       " atomistics.surface_structure,\n",
       " atomistics.generic2,\n",
       " atomistics.surface_structure_input_element,\n",
       " atomistics.structure2,\n",
       " atomistics.surface_structure_output_structure,\n",
       " atomistics.lammps,\n",
       " atomistics.structure3,\n",
       " atomistics.lammps_input_structure,\n",
       " atomistics.lammps1,\n",
       " atomistics.lammps_output_job,\n",
       " atomistics.vasp,\n",
       " atomistics.generic3,\n",
       " atomistics.vasp_input_structure,\n",
       " atomistics.vasp1,\n",
       " atomistics.vasp_output_job,\n",
       " atomistics.murnaghan,\n",
       " atomistics.atomisticsproject1,\n",
       " atomistics.murnaghan_input_project,\n",
       " atomistics.atomisticsjob1,\n",
       " atomistics.structure4,\n",
       " atomistics.murnaghan_input_job,\n",
       " atomistics.bulkmodulus1,\n",
       " atomistics.murnaghan_output_bulk_modulus,\n",
       " atomistics.bprime1,\n",
       " atomistics.murnaghan_output_b_prime,\n",
       " atomistics.surface_energy,\n",
       " atomistics.atomisticsjob2,\n",
       " atomistics.bulk1,\n",
       " atomistics.surface_energy_input_bulk_job,\n",
       " atomistics.atomisticsjob3,\n",
       " atomistics.hassurface1,\n",
       " atomistics.surface_energy_input_slab_job,\n",
       " atomistics.surfaceenergy1,\n",
       " atomistics.surface_energy_output_surface_energy]"
      ]
     },
     "execution_count": 4,
     "metadata": {},
     "output_type": "execute_result"
    }
   ],
   "source": [
    "list(onto.individuals())"
   ]
  },
  {
   "cell_type": "markdown",
   "id": "c9b41d5b-1e6c-40df-ab96-4b45d5b2d626",
   "metadata": {},
   "source": [
    "We can make the usual owlready queries of these objects, e.g."
   ]
  },
  {
   "cell_type": "code",
   "execution_count": 5,
   "id": "6318547e-7345-4e1a-82f1-a6cf47f245d6",
   "metadata": {},
   "outputs": [
    {
     "data": {
      "text/plain": [
       "[atomistics.Input,\n",
       " atomistics.IO,\n",
       " atomistics.Parameter,\n",
       " atomistics.WorkflowThing,\n",
       " atomistics.PyironOntoThing,\n",
       " owl.Thing]"
      ]
     },
     "execution_count": 5,
     "metadata": {},
     "output_type": "execute_result"
    }
   ],
   "source": [
    "onto.vasp_input_structure.INDIRECT_is_a"
   ]
  },
  {
   "cell_type": "code",
   "execution_count": 6,
   "id": "e86f526d-0c69-4e2e-9ae1-018ccd78d23a",
   "metadata": {},
   "outputs": [
    {
     "data": {
      "text/plain": [
       "[atomistics.Parameter,\n",
       " atomistics.Generic,\n",
       " atomistics.Dimensional,\n",
       " atomistics.PyironObject,\n",
       " atomistics.Structure,\n",
       " atomistics.PyironOntoThing,\n",
       " atomistics.ThreeD,\n",
       " owl.Thing]"
      ]
     },
     "execution_count": 6,
     "metadata": {},
     "output_type": "execute_result"
    }
   ],
   "source": [
    "onto.vasp_input_structure.generic.INDIRECT_is_a"
   ]
  },
  {
   "cell_type": "markdown",
   "id": "dd2b9abf-ac9a-44aa-bd74-6840a2405e10",
   "metadata": {},
   "source": [
    "We can also look into some of the atomistics-specific relationships that have been defined:"
   ]
  },
  {
   "cell_type": "code",
   "execution_count": 7,
   "id": "827238e7-4772-4f94-901e-be17edbad66e",
   "metadata": {},
   "outputs": [
    {
     "data": {
      "text/plain": [
       "([atomistics.vasp_input_structure], None, [atomistics.vasp_input_structure])"
      ]
     },
     "execution_count": 7,
     "metadata": {},
     "output_type": "execute_result"
    }
   ],
   "source": [
    "onto.vasp.mandatory_inputs, onto.optional_inputs, onto.vasp.inputs"
   ]
  },
  {
   "cell_type": "code",
   "execution_count": 8,
   "id": "2f2b3307-ebd3-4029-8a47-487e7de6fad1",
   "metadata": {},
   "outputs": [
    {
     "data": {
      "text/plain": [
       "[atomistics.vasp_output_job]"
      ]
     },
     "execution_count": 8,
     "metadata": {},
     "output_type": "execute_result"
    }
   ],
   "source": [
    "onto.vasp.outputs"
   ]
  },
  {
   "cell_type": "markdown",
   "id": "9e042ea5-a70a-496c-b51e-efdef37e7fba",
   "metadata": {},
   "source": [
    "and we can chain these queries together in meaningful ways:"
   ]
  },
  {
   "cell_type": "code",
   "execution_count": 9,
   "id": "c1c9359f-a346-4b48-8b8b-a83583801e25",
   "metadata": {},
   "outputs": [
    {
     "name": "stdout",
     "output_type": "stream",
     "text": [
      "some_code atomistics.vasp\n",
      "first_input atomistics.vasp_input_structure\n",
      "appears_elsewhere [atomistics.vasp_input_structure]\n",
      "can_come_from [atomistics.surface_structure_output_structure, atomistics.bulk_structure_output_structure]\n",
      "which_is_produced_by atomistics.surface_structure\n"
     ]
    }
   ],
   "source": [
    "some_code = onto.vasp\n",
    "first_input = some_code.mandatory_inputs[0]\n",
    "appears_elsewhere = first_input.generic.parameters\n",
    "can_come_from = first_input.get_sources()\n",
    "which_is_produced_by = can_come_from[0].output_of\n",
    "print('some_code', some_code)\n",
    "print('first_input', first_input)\n",
    "print('appears_elsewhere', appears_elsewhere)\n",
    "print('can_come_from', can_come_from)\n",
    "print('which_is_produced_by', which_is_produced_by)"
   ]
  },
  {
   "cell_type": "markdown",
   "id": "47b26d66-fd19-4605-b2ea-1203d472dfa2",
   "metadata": {},
   "source": [
    "This is powerful, but can be a bit unwieldly. \n",
    "\n",
    "`pyiron_ontology` also comes with helper tools for building this sort of chain, or \"workflow\" in a guided or automatic way.\n",
    "\n",
    "First, let's see all the possible chains for getting input to a Lammps calculation:"
   ]
  },
  {
   "cell_type": "code",
   "execution_count": 10,
   "id": "026309ed-91eb-4ce5-baee-f50a9e98164f",
   "metadata": {},
   "outputs": [
    {
     "name": "stdout",
     "output_type": "stream",
     "text": [
      "lammps\n",
      "\tlammps_input_structure\n",
      "\t\tsurface_structure_output_structure\n",
      "\t\t\tsurface_structure\n",
      "\t\tbulk_structure_output_structure\n",
      "\t\t\tbulk_structure\n"
     ]
    }
   ],
   "source": [
    "onto.lammps.get_source_tree().render()"
   ]
  },
  {
   "cell_type": "markdown",
   "id": "5aaea0f0-5244-4f3f-b40a-8a8b494f518d",
   "metadata": {},
   "source": [
    "This tool also passes requirements upstream in the workflow. For instance, we see above that Lammps can take either bulk-like or non-bulk-like structure input. Instead of querying the ontology about what's needed to run a particular code, let's ask for a workflow to produce a particular material property: the bulk modulus. In this case, we know the workflow only makes sense if the structures going into it are bulk-like!\n",
    "\n",
    "When we ask for this workflow, we again see Lammps (and Vasp) coming up as part of our tree, but now we see that it is precluded from taking surface structures because the condition for a bulk-like structure got passed up through our workflow!\n",
    "\n",
    "(Note, these tools only work on _individuals_, so we'll just reinstantiate a copy of our `BulkModulus` generic class and query that)"
   ]
  },
  {
   "cell_type": "code",
   "execution_count": 11,
   "id": "97deb339-a99c-4e37-b452-e2f4d722b412",
   "metadata": {},
   "outputs": [
    {
     "name": "stdout",
     "output_type": "stream",
     "text": [
      "bulkmodulus2\n",
      "\tmurnaghan_output_bulk_modulus\n",
      "\t\tmurnaghan\n",
      "\t\t\tmurnaghan_input_project\n",
      "\t\t\tmurnaghan_input_job\n",
      "\t\t\t\tvasp_output_job\n",
      "\t\t\t\t\tvasp\n",
      "\t\t\t\t\t\tvasp_input_structure\n",
      "\t\t\t\t\t\t\tbulk_structure_output_structure\n",
      "\t\t\t\t\t\t\t\tbulk_structure\n",
      "\t\t\t\tlammps_output_job\n",
      "\t\t\t\t\tlammps\n",
      "\t\t\t\t\t\tlammps_input_structure\n",
      "\t\t\t\t\t\t\tbulk_structure_output_structure\n",
      "\t\t\t\t\t\t\t\tbulk_structure\n"
     ]
    }
   ],
   "source": [
    "onto.BulkModulus().get_source_tree().render()"
   ]
  },
  {
   "cell_type": "markdown",
   "id": "b77df807-500a-4608-9d4f-11c9ca392f86",
   "metadata": {},
   "source": [
    "Instead of seeing *all* possible paths, we can build one particular path iteratively, looking at the choices available at each step and selecting which one we want:"
   ]
  },
  {
   "cell_type": "code",
   "execution_count": 12,
   "id": "6a437427-16a4-4d19-9262-98555bb2e0eb",
   "metadata": {},
   "outputs": [],
   "source": [
    "b_prime = onto.BPrime()"
   ]
  },
  {
   "cell_type": "code",
   "execution_count": 13,
   "id": "39d7a305-2f51-446f-8d2a-260cb6a20b01",
   "metadata": {},
   "outputs": [
    {
     "data": {
      "text/plain": [
       "(<pyiron_ontology.workflow.NodeTree at 0x7ff5a081a3a0>,\n",
       " [atomistics.murnaghan_output_b_prime])"
      ]
     },
     "execution_count": 13,
     "metadata": {},
     "output_type": "execute_result"
    }
   ],
   "source": [
    "b_prime.get_source_path()"
   ]
  },
  {
   "cell_type": "code",
   "execution_count": 14,
   "id": "93654029-b279-4a17-83ca-41ab486cb08b",
   "metadata": {},
   "outputs": [
    {
     "data": {
      "text/plain": [
       "(<pyiron_ontology.workflow.NodeTree at 0x7ff5a080b6a0>, [atomistics.murnaghan])"
      ]
     },
     "execution_count": 14,
     "metadata": {},
     "output_type": "execute_result"
    }
   ],
   "source": [
    "b_prime.get_source_path(0)"
   ]
  },
  {
   "cell_type": "code",
   "execution_count": 15,
   "id": "5fe5141b-4325-4fce-8460-b6f16eba1040",
   "metadata": {},
   "outputs": [
    {
     "data": {
      "text/plain": [
       "(<pyiron_ontology.workflow.NodeTree at 0x7ff5a081a7c0>,\n",
       " [atomistics.murnaghan_input_project, atomistics.murnaghan_input_job])"
      ]
     },
     "execution_count": 15,
     "metadata": {},
     "output_type": "execute_result"
    }
   ],
   "source": [
    "b_prime.get_source_path(0, 0) "
   ]
  },
  {
   "cell_type": "markdown",
   "id": "d82d895e-fe79-4f9e-832b-2542cf09d5ed",
   "metadata": {},
   "source": [
    "The project is a bit of a boring path to follow, so let's choose `1` here to follow the job path:"
   ]
  },
  {
   "cell_type": "code",
   "execution_count": 16,
   "id": "a757e745-357c-418a-a830-0c03eaba8368",
   "metadata": {},
   "outputs": [
    {
     "data": {
      "text/plain": [
       "(<pyiron_ontology.workflow.NodeTree at 0x7ff5a081a0a0>,\n",
       " [atomistics.vasp_output_job, atomistics.lammps_output_job])"
      ]
     },
     "execution_count": 16,
     "metadata": {},
     "output_type": "execute_result"
    }
   ],
   "source": [
    "b_prime.get_source_path(0, 0, 1)"
   ]
  },
  {
   "cell_type": "code",
   "execution_count": 17,
   "id": "a9e5e89e-28b3-4935-a08f-48c3828acff7",
   "metadata": {},
   "outputs": [
    {
     "data": {
      "text/plain": [
       "(<pyiron_ontology.workflow.NodeTree at 0x7ff5a07909d0>, [atomistics.lammps])"
      ]
     },
     "execution_count": 17,
     "metadata": {},
     "output_type": "execute_result"
    }
   ],
   "source": [
    "b_prime.get_source_path(0, 0, 1, 1)"
   ]
  },
  {
   "cell_type": "code",
   "execution_count": 18,
   "id": "b25f3e40-03ea-4b27-bd74-c19cae2e6737",
   "metadata": {},
   "outputs": [
    {
     "data": {
      "text/plain": [
       "(<pyiron_ontology.workflow.NodeTree at 0x7ff5a080bf10>,\n",
       " [atomistics.lammps_input_structure])"
      ]
     },
     "execution_count": 18,
     "metadata": {},
     "output_type": "execute_result"
    }
   ],
   "source": [
    "b_prime.get_source_path(0, 0, 1, 1, 0)"
   ]
  },
  {
   "cell_type": "code",
   "execution_count": 19,
   "id": "e2cd25f5-cd73-4f2d-9de5-76d97188aee3",
   "metadata": {},
   "outputs": [
    {
     "data": {
      "text/plain": [
       "(<pyiron_ontology.workflow.NodeTree at 0x7ff5a050aa60>,\n",
       " [atomistics.bulk_structure_output_structure])"
      ]
     },
     "execution_count": 19,
     "metadata": {},
     "output_type": "execute_result"
    }
   ],
   "source": [
    "b_prime.get_source_path(0, 0, 1, 1, 0, 0)"
   ]
  },
  {
   "cell_type": "code",
   "execution_count": 20,
   "id": "1f8ecf63-9397-41d1-8ae3-1ecece042c7a",
   "metadata": {},
   "outputs": [
    {
     "data": {
      "text/plain": [
       "(<pyiron_ontology.workflow.NodeTree at 0x7ff5a081aeb0>,\n",
       " [atomistics.bulk_structure])"
      ]
     },
     "execution_count": 20,
     "metadata": {},
     "output_type": "execute_result"
    }
   ],
   "source": [
    "b_prime.get_source_path(0, 0, 1, 1, 0, 0, 0)"
   ]
  },
  {
   "cell_type": "code",
   "execution_count": 21,
   "id": "28eaa288-2fd2-42c3-8489-9549ce706f42",
   "metadata": {},
   "outputs": [
    {
     "data": {
      "text/plain": [
       "(<pyiron_ontology.workflow.NodeTree at 0x7ff5a08161c0>, [])"
      ]
     },
     "execution_count": 21,
     "metadata": {},
     "output_type": "execute_result"
    }
   ],
   "source": [
    "b_prime.get_source_path(0, 0, 1, 1, 0, 0, 0, 0)"
   ]
  },
  {
   "cell_type": "code",
   "execution_count": 22,
   "id": "4ee032ab-75b1-49f0-92f1-c90aa5c89a72",
   "metadata": {},
   "outputs": [
    {
     "name": "stdout",
     "output_type": "stream",
     "text": [
      "bprime2\n",
      "\tmurnaghan_output_b_prime\n",
      "\t\tmurnaghan\n",
      "\t\t\tmurnaghan_input_job\n",
      "\t\t\t\tlammps_output_job\n",
      "\t\t\t\t\tlammps\n",
      "\t\t\t\t\t\tlammps_input_structure\n",
      "\t\t\t\t\t\t\tbulk_structure_output_structure\n",
      "\t\t\t\t\t\t\t\tbulk_structure\n"
     ]
    }
   ],
   "source": [
    "path, _ = b_prime.get_source_path(0, 0, 1, 1, 0, 0, 0, 0)\n",
    "path.render()"
   ]
  },
  {
   "cell_type": "markdown",
   "id": "f3de4a85-2d97-4349-8de1-f75779a8becb",
   "metadata": {},
   "source": [
    "Note: this only traces _one path_ of the required input to get to the result we originally queried -- as noted above where we ignored the project input; you need to choose paths for _all_ the required input at each `Function` step of the path."
   ]
  },
  {
   "cell_type": "markdown",
   "id": "ce0eb416-0c33-48a0-b111-5493cbec22b8",
   "metadata": {},
   "source": [
    "# Working with pyiron data\n",
    "\n",
    "We also have tools for leveraging the ontology to search through existing pyiron data in your storage and database \n",
    "\n",
    "Here we'll need import `pyiron_atomistics.Project` so we can create some data to work with."
   ]
  },
  {
   "cell_type": "code",
   "execution_count": 23,
   "id": "81d4f04a-1ed3-43a0-8a82-dbfbe4c14cf3",
   "metadata": {},
   "outputs": [
    {
     "data": {
      "application/vnd.jupyter.widget-view+json": {
       "model_id": "fb715b5e1eec4460a5865451510a0f86",
       "version_major": 2,
       "version_minor": 0
      },
      "text/plain": []
     },
     "metadata": {},
     "output_type": "display_data"
    }
   ],
   "source": [
    "from pyiron_ontology import AtomisticsReasoner\n",
    "from pyiron_atomistics import Project\n",
    "import numpy as np"
   ]
  },
  {
   "cell_type": "code",
   "execution_count": 24,
   "id": "3f284ae6-0e17-42ab-9c77-e27f54efe07c",
   "metadata": {},
   "outputs": [],
   "source": [
    "reasoner = AtomisticsReasoner(onto) "
   ]
  },
  {
   "cell_type": "markdown",
   "id": "6885ca20-2375-4e3f-8bff-b088b8ad2129",
   "metadata": {},
   "source": [
    "Next, we'll produce some data and then use the a tool on the reasoner to search over it for data that matches a particular ontological property.\n",
    "\n",
    "First, we'll need to produce some data to search over. In this case, let's calculate the bulk modulus for a couple of alloys with varying Nickle content. On a single-core laptop, this might take two or three minutes."
   ]
  },
  {
   "cell_type": "code",
   "execution_count": 31,
   "id": "02c6daf2-3982-4d54-b168-8265ab845f6c",
   "metadata": {},
   "outputs": [
    {
     "data": {
      "application/vnd.jupyter.widget-view+json": {
       "model_id": "11f309f1dc214abc9641a997723e07af",
       "version_major": 2,
       "version_minor": 0
      },
      "text/plain": [
       "  0%|          | 0/2 [00:00<?, ?it/s]"
      ]
     },
     "metadata": {},
     "output_type": "display_data"
    }
   ],
   "source": [
    "pr = Project('example')\n",
    "pr.remove_jobs(silently=True, recursive=True)"
   ]
  },
  {
   "cell_type": "markdown",
   "id": "8ef8ecd8-729c-4dc1-af4c-599baaf07826",
   "metadata": {},
   "source": [
    "So that we can compare results for different compositions, let's quickly find a potential contains all our elements and use it consistently."
   ]
  },
  {
   "cell_type": "code",
   "execution_count": 32,
   "id": "f8e8989b-7570-4b1c-a1ec-1e3663d7bf08",
   "metadata": {},
   "outputs": [],
   "source": [
    "host = \"Cu\"\n",
    "solutes = [\"Ag\", \"Ni\"]\n",
    "all_species = pr.atomistics.structure.bulk(host, cubic=True)\n",
    "all_species[0] = solutes[0]\n",
    "all_species[1] = solutes[1]\n",
    "\n",
    "from pyiron_atomistics.lammps import list_potentials\n",
    "potential = list_potentials(all_species)[0]"
   ]
  },
  {
   "cell_type": "code",
   "execution_count": 33,
   "id": "02c36634-bedb-40e9-904a-3d813c54f881",
   "metadata": {
    "tags": []
   },
   "outputs": [
    {
     "name": "stdout",
     "output_type": "stream",
     "text": [
      "The job Murn_Al_Cu_frac0d00 was saved and received the ID: 296\n"
     ]
    },
    {
     "name": "stderr",
     "output_type": "stream",
     "text": [
      "2023-02-24 16:03:43,931 - pyiron_log - WARNING - Job aborted\n",
      "2023-02-24 16:03:43,938 - pyiron_log - WARNING - LAMMPS (10 Feb 2021)\n",
      "Reading data file ...\n",
      "  orthogonal box = (0.0000000 0.0000000 0.0000000) to (11.730696 11.730696 11.730696)\n",
      "  1 by 1 by 1 MPI processor grid\n",
      "  reading atoms ...\n",
      "  108 atoms\n",
      "  read_data CPU = 0.001 seconds\n",
      "ERROR: KIM ModelCreate failed (src/KIM/pair_kim.cpp:848)\n",
      "Last command: pair_style kim EMT_Asap_Standard_JacobsenStoltzeNorskov_1996_AlAgAuCuNiPdPt__MO_115316750986_001\n",
      "\n"
     ]
    },
    {
     "name": "stdout",
     "output_type": "stream",
     "text": [
      "The job Murn_Al_Cu_frac0d00_0_9 was saved and received the ID: 297\n"
     ]
    },
    {
     "ename": "RuntimeError",
     "evalue": "['LAMMPS (10 Feb 2021)\\n', 'Reading data file ...\\n', '  orthogonal box = (0.0000000 0.0000000 0.0000000) to (11.730696 11.730696 11.730696)\\n', '  1 by 1 by 1 MPI processor grid\\n', '  reading atoms ...\\n', '  108 atoms\\n', '  read_data CPU = 0.001 seconds\\n', 'ERROR: KIM ModelCreate failed (src/KIM/pair_kim.cpp:848)\\n', 'Last command: pair_style kim EMT_Asap_Standard_JacobsenStoltzeNorskov_1996_AlAgAuCuNiPdPt__MO_115316750986_001\\n']",
     "output_type": "error",
     "traceback": [
      "\u001b[0;31m---------------------------------------------------------------------------\u001b[0m",
      "\u001b[0;31mCalledProcessError\u001b[0m                        Traceback (most recent call last)",
      "\u001b[0;32m~/work/pyiron/pyiron_base/pyiron_base/jobs/job/runfunction.py\u001b[0m in \u001b[0;36mexecute_job_with_external_executable\u001b[0;34m(job)\u001b[0m\n\u001b[1;32m    488\u001b[0m     \u001b[0;32mtry\u001b[0m\u001b[0;34m:\u001b[0m\u001b[0;34m\u001b[0m\u001b[0;34m\u001b[0m\u001b[0m\n\u001b[0;32m--> 489\u001b[0;31m         out = subprocess.run(\n\u001b[0m\u001b[1;32m    490\u001b[0m             \u001b[0mexecutable\u001b[0m\u001b[0;34m,\u001b[0m\u001b[0;34m\u001b[0m\u001b[0;34m\u001b[0m\u001b[0m\n",
      "\u001b[0;32m~/anaconda3/envs/pyiron_38/lib/python3.8/subprocess.py\u001b[0m in \u001b[0;36mrun\u001b[0;34m(input, capture_output, timeout, check, *popenargs, **kwargs)\u001b[0m\n\u001b[1;32m    515\u001b[0m         \u001b[0;32mif\u001b[0m \u001b[0mcheck\u001b[0m \u001b[0;32mand\u001b[0m \u001b[0mretcode\u001b[0m\u001b[0;34m:\u001b[0m\u001b[0;34m\u001b[0m\u001b[0;34m\u001b[0m\u001b[0m\n\u001b[0;32m--> 516\u001b[0;31m             raise CalledProcessError(retcode, process.args,\n\u001b[0m\u001b[1;32m    517\u001b[0m                                      output=stdout, stderr=stderr)\n",
      "\u001b[0;31mCalledProcessError\u001b[0m: Command '/Users/huber/anaconda3/envs/pyiron_38/share/pyiron/lammps/bin/run_lammps_2020.03.03.sh' returned non-zero exit status 1.",
      "\nDuring handling of the above exception, another exception occurred:\n",
      "\u001b[0;31mRuntimeError\u001b[0m                              Traceback (most recent call last)",
      "\u001b[0;32m<ipython-input-33-255c75202df8>\u001b[0m in \u001b[0;36m<module>\u001b[0;34m\u001b[0m\n\u001b[1;32m     15\u001b[0m         \u001b[0;32mtry\u001b[0m\u001b[0;34m:\u001b[0m\u001b[0;34m\u001b[0m\u001b[0;34m\u001b[0m\u001b[0m\n\u001b[0;32m---> 16\u001b[0;31m             \u001b[0mmurn\u001b[0m\u001b[0;34m.\u001b[0m\u001b[0mrun\u001b[0m\u001b[0;34m(\u001b[0m\u001b[0;34m)\u001b[0m\u001b[0;34m\u001b[0m\u001b[0;34m\u001b[0m\u001b[0m\n\u001b[0m\u001b[1;32m     17\u001b[0m         \u001b[0;32mexcept\u001b[0m\u001b[0;34m:\u001b[0m\u001b[0;34m\u001b[0m\u001b[0;34m\u001b[0m\u001b[0m\n",
      "\u001b[0;32m~/work/pyiron/pyiron_base/pyiron_base/utils/deprecate.py\u001b[0m in \u001b[0;36mdecorated\u001b[0;34m(*args, **kwargs)\u001b[0m\n\u001b[1;32m    170\u001b[0m                     )\n\u001b[0;32m--> 171\u001b[0;31m             \u001b[0;32mreturn\u001b[0m \u001b[0mfunction\u001b[0m\u001b[0;34m(\u001b[0m\u001b[0;34m*\u001b[0m\u001b[0margs\u001b[0m\u001b[0;34m,\u001b[0m \u001b[0;34m**\u001b[0m\u001b[0mkwargs\u001b[0m\u001b[0;34m)\u001b[0m\u001b[0;34m\u001b[0m\u001b[0;34m\u001b[0m\u001b[0m\n\u001b[0m\u001b[1;32m    172\u001b[0m \u001b[0;34m\u001b[0m\u001b[0m\n",
      "\u001b[0;32m~/work/pyiron/pyiron_base/pyiron_base/jobs/job/generic.py\u001b[0m in \u001b[0;36mrun\u001b[0;34m(self, delete_existing_job, repair, debug, run_mode, run_again)\u001b[0m\n\u001b[1;32m    695\u001b[0m                 \u001b[0;32melif\u001b[0m \u001b[0mstatus\u001b[0m \u001b[0;34m==\u001b[0m \u001b[0;34m\"initialized\"\u001b[0m\u001b[0;34m:\u001b[0m\u001b[0;34m\u001b[0m\u001b[0;34m\u001b[0m\u001b[0m\n\u001b[0;32m--> 696\u001b[0;31m                     \u001b[0mself\u001b[0m\u001b[0;34m.\u001b[0m\u001b[0m_run_if_new\u001b[0m\u001b[0;34m(\u001b[0m\u001b[0mdebug\u001b[0m\u001b[0;34m=\u001b[0m\u001b[0mdebug\u001b[0m\u001b[0;34m)\u001b[0m\u001b[0;34m\u001b[0m\u001b[0;34m\u001b[0m\u001b[0m\n\u001b[0m\u001b[1;32m    697\u001b[0m                 \u001b[0;32melif\u001b[0m \u001b[0mstatus\u001b[0m \u001b[0;34m==\u001b[0m \u001b[0;34m\"created\"\u001b[0m\u001b[0;34m:\u001b[0m\u001b[0;34m\u001b[0m\u001b[0;34m\u001b[0m\u001b[0m\n",
      "\u001b[0;32m~/work/pyiron/pyiron_base/pyiron_base/jobs/master/parallel.py\u001b[0m in \u001b[0;36m_run_if_new\u001b[0;34m(self, debug)\u001b[0m\n\u001b[1;32m    361\u001b[0m         \u001b[0mself\u001b[0m\u001b[0;34m.\u001b[0m\u001b[0msubmission_status\u001b[0m\u001b[0;34m.\u001b[0m\u001b[0msubmitted_jobs\u001b[0m \u001b[0;34m=\u001b[0m \u001b[0;36m0\u001b[0m\u001b[0;34m\u001b[0m\u001b[0;34m\u001b[0m\u001b[0m\n\u001b[0;32m--> 362\u001b[0;31m         \u001b[0msuper\u001b[0m\u001b[0;34m(\u001b[0m\u001b[0;34m)\u001b[0m\u001b[0;34m.\u001b[0m\u001b[0m_run_if_new\u001b[0m\u001b[0;34m(\u001b[0m\u001b[0mdebug\u001b[0m\u001b[0;34m=\u001b[0m\u001b[0mdebug\u001b[0m\u001b[0;34m)\u001b[0m\u001b[0;34m\u001b[0m\u001b[0;34m\u001b[0m\u001b[0m\n\u001b[0m\u001b[1;32m    363\u001b[0m \u001b[0;34m\u001b[0m\u001b[0m\n",
      "\u001b[0;32m~/work/pyiron/pyiron_base/pyiron_base/jobs/job/generic.py\u001b[0m in \u001b[0;36m_run_if_new\u001b[0;34m(self, debug)\u001b[0m\n\u001b[1;32m   1223\u001b[0m         \"\"\"\n\u001b[0;32m-> 1224\u001b[0;31m         \u001b[0mrun_job_with_status_initialized\u001b[0m\u001b[0;34m(\u001b[0m\u001b[0mjob\u001b[0m\u001b[0;34m=\u001b[0m\u001b[0mself\u001b[0m\u001b[0;34m,\u001b[0m \u001b[0mdebug\u001b[0m\u001b[0;34m=\u001b[0m\u001b[0mdebug\u001b[0m\u001b[0;34m)\u001b[0m\u001b[0;34m\u001b[0m\u001b[0;34m\u001b[0m\u001b[0m\n\u001b[0m\u001b[1;32m   1225\u001b[0m \u001b[0;34m\u001b[0m\u001b[0m\n",
      "\u001b[0;32m~/work/pyiron/pyiron_base/pyiron_base/jobs/job/runfunction.py\u001b[0m in \u001b[0;36mrun_job_with_status_initialized\u001b[0;34m(job, debug)\u001b[0m\n\u001b[1;32m     75\u001b[0m         \u001b[0mjob\u001b[0m\u001b[0;34m.\u001b[0m\u001b[0msave\u001b[0m\u001b[0;34m(\u001b[0m\u001b[0;34m)\u001b[0m\u001b[0;34m\u001b[0m\u001b[0;34m\u001b[0m\u001b[0m\n\u001b[0;32m---> 76\u001b[0;31m         \u001b[0mjob\u001b[0m\u001b[0;34m.\u001b[0m\u001b[0mrun\u001b[0m\u001b[0;34m(\u001b[0m\u001b[0;34m)\u001b[0m\u001b[0;34m\u001b[0m\u001b[0;34m\u001b[0m\u001b[0m\n\u001b[0m\u001b[1;32m     77\u001b[0m \u001b[0;34m\u001b[0m\u001b[0m\n",
      "\u001b[0;32m~/work/pyiron/pyiron_base/pyiron_base/utils/deprecate.py\u001b[0m in \u001b[0;36mdecorated\u001b[0;34m(*args, **kwargs)\u001b[0m\n\u001b[1;32m    170\u001b[0m                     )\n\u001b[0;32m--> 171\u001b[0;31m             \u001b[0;32mreturn\u001b[0m \u001b[0mfunction\u001b[0m\u001b[0;34m(\u001b[0m\u001b[0;34m*\u001b[0m\u001b[0margs\u001b[0m\u001b[0;34m,\u001b[0m \u001b[0;34m**\u001b[0m\u001b[0mkwargs\u001b[0m\u001b[0;34m)\u001b[0m\u001b[0;34m\u001b[0m\u001b[0;34m\u001b[0m\u001b[0m\n\u001b[0m\u001b[1;32m    172\u001b[0m \u001b[0;34m\u001b[0m\u001b[0m\n",
      "\u001b[0;32m~/work/pyiron/pyiron_base/pyiron_base/jobs/job/generic.py\u001b[0m in \u001b[0;36mrun\u001b[0;34m(self, delete_existing_job, repair, debug, run_mode, run_again)\u001b[0m\n\u001b[1;32m    697\u001b[0m                 \u001b[0;32melif\u001b[0m \u001b[0mstatus\u001b[0m \u001b[0;34m==\u001b[0m \u001b[0;34m\"created\"\u001b[0m\u001b[0;34m:\u001b[0m\u001b[0;34m\u001b[0m\u001b[0;34m\u001b[0m\u001b[0m\n\u001b[0;32m--> 698\u001b[0;31m                     \u001b[0mself\u001b[0m\u001b[0;34m.\u001b[0m\u001b[0m_run_if_created\u001b[0m\u001b[0;34m(\u001b[0m\u001b[0;34m)\u001b[0m\u001b[0;34m\u001b[0m\u001b[0;34m\u001b[0m\u001b[0m\n\u001b[0m\u001b[1;32m    699\u001b[0m                 \u001b[0;32melif\u001b[0m \u001b[0mstatus\u001b[0m \u001b[0;34m==\u001b[0m \u001b[0;34m\"submitted\"\u001b[0m\u001b[0;34m:\u001b[0m\u001b[0;34m\u001b[0m\u001b[0;34m\u001b[0m\u001b[0m\n",
      "\u001b[0;32m~/work/pyiron/pyiron_base/pyiron_base/jobs/job/generic.py\u001b[0m in \u001b[0;36m_run_if_created\u001b[0;34m(self)\u001b[0m\n\u001b[1;32m   1234\u001b[0m         \"\"\"\n\u001b[0;32m-> 1235\u001b[0;31m         \u001b[0;32mreturn\u001b[0m \u001b[0mrun_job_with_status_created\u001b[0m\u001b[0;34m(\u001b[0m\u001b[0mjob\u001b[0m\u001b[0;34m=\u001b[0m\u001b[0mself\u001b[0m\u001b[0;34m)\u001b[0m\u001b[0;34m\u001b[0m\u001b[0;34m\u001b[0m\u001b[0m\n\u001b[0m\u001b[1;32m   1236\u001b[0m \u001b[0;34m\u001b[0m\u001b[0m\n",
      "\u001b[0;32m~/work/pyiron/pyiron_base/pyiron_base/jobs/job/runfunction.py\u001b[0m in \u001b[0;36mrun_job_with_status_created\u001b[0;34m(job)\u001b[0m\n\u001b[1;32m     98\u001b[0m     \u001b[0;32melif\u001b[0m \u001b[0mjob\u001b[0m\u001b[0;34m.\u001b[0m\u001b[0mserver\u001b[0m\u001b[0;34m.\u001b[0m\u001b[0mrun_mode\u001b[0m\u001b[0;34m.\u001b[0m\u001b[0mmodal\u001b[0m\u001b[0;34m:\u001b[0m\u001b[0;34m\u001b[0m\u001b[0;34m\u001b[0m\u001b[0m\n\u001b[0;32m---> 99\u001b[0;31m         \u001b[0mjob\u001b[0m\u001b[0;34m.\u001b[0m\u001b[0mrun_static\u001b[0m\u001b[0;34m(\u001b[0m\u001b[0;34m)\u001b[0m\u001b[0;34m\u001b[0m\u001b[0;34m\u001b[0m\u001b[0m\n\u001b[0m\u001b[1;32m    100\u001b[0m     \u001b[0;32melif\u001b[0m \u001b[0mjob\u001b[0m\u001b[0;34m.\u001b[0m\u001b[0mserver\u001b[0m\u001b[0;34m.\u001b[0m\u001b[0mrun_mode\u001b[0m\u001b[0;34m.\u001b[0m\u001b[0msrun\u001b[0m\u001b[0;34m:\u001b[0m\u001b[0;34m\u001b[0m\u001b[0;34m\u001b[0m\u001b[0m\n",
      "\u001b[0;32m~/work/pyiron/pyiron_base/pyiron_base/jobs/master/parallel.py\u001b[0m in \u001b[0;36mrun_static\u001b[0;34m(self)\u001b[0m\n\u001b[1;32m    551\u001b[0m                 ):\n\u001b[0;32m--> 552\u001b[0;31m                     \u001b[0mself\u001b[0m\u001b[0;34m.\u001b[0m\u001b[0m_run_if_master_modal_child_modal\u001b[0m\u001b[0;34m(\u001b[0m\u001b[0mjob\u001b[0m\u001b[0;34m)\u001b[0m\u001b[0;34m\u001b[0m\u001b[0;34m\u001b[0m\u001b[0m\n\u001b[0m\u001b[1;32m    553\u001b[0m                 \u001b[0;32melif\u001b[0m \u001b[0mself\u001b[0m\u001b[0;34m.\u001b[0m\u001b[0mserver\u001b[0m\u001b[0;34m.\u001b[0m\u001b[0mrun_mode\u001b[0m\u001b[0;34m.\u001b[0m\u001b[0mmodal\u001b[0m \u001b[0;32mand\u001b[0m \u001b[0mjob\u001b[0m\u001b[0;34m.\u001b[0m\u001b[0mserver\u001b[0m\u001b[0;34m.\u001b[0m\u001b[0mrun_mode\u001b[0m\u001b[0;34m.\u001b[0m\u001b[0mnon_modal\u001b[0m\u001b[0;34m:\u001b[0m\u001b[0;34m\u001b[0m\u001b[0;34m\u001b[0m\u001b[0m\n",
      "\u001b[0;32m~/work/pyiron/pyiron_base/pyiron_base/jobs/master/parallel.py\u001b[0m in \u001b[0;36m_run_if_master_modal_child_modal\u001b[0;34m(self, job)\u001b[0m\n\u001b[1;32m    467\u001b[0m                 \u001b[0mself\u001b[0m\u001b[0;34m.\u001b[0m\u001b[0msubmission_status\u001b[0m\u001b[0;34m.\u001b[0m\u001b[0msubmit_next\u001b[0m\u001b[0;34m(\u001b[0m\u001b[0;34m)\u001b[0m\u001b[0;34m\u001b[0m\u001b[0;34m\u001b[0m\u001b[0m\n\u001b[0;32m--> 468\u001b[0;31m                 \u001b[0mjob\u001b[0m\u001b[0;34m.\u001b[0m\u001b[0mrun\u001b[0m\u001b[0;34m(\u001b[0m\u001b[0;34m)\u001b[0m\u001b[0;34m\u001b[0m\u001b[0;34m\u001b[0m\u001b[0m\n\u001b[0m\u001b[1;32m    469\u001b[0m                 self._logger.info(\n",
      "\u001b[0;32m~/work/pyiron/pyiron_base/pyiron_base/utils/deprecate.py\u001b[0m in \u001b[0;36mdecorated\u001b[0;34m(*args, **kwargs)\u001b[0m\n\u001b[1;32m    170\u001b[0m                     )\n\u001b[0;32m--> 171\u001b[0;31m             \u001b[0;32mreturn\u001b[0m \u001b[0mfunction\u001b[0m\u001b[0;34m(\u001b[0m\u001b[0;34m*\u001b[0m\u001b[0margs\u001b[0m\u001b[0;34m,\u001b[0m \u001b[0;34m**\u001b[0m\u001b[0mkwargs\u001b[0m\u001b[0;34m)\u001b[0m\u001b[0;34m\u001b[0m\u001b[0;34m\u001b[0m\u001b[0m\n\u001b[0m\u001b[1;32m    172\u001b[0m \u001b[0;34m\u001b[0m\u001b[0m\n",
      "\u001b[0;32m~/work/pyiron/pyiron_base/pyiron_base/jobs/job/generic.py\u001b[0m in \u001b[0;36mrun\u001b[0;34m(self, delete_existing_job, repair, debug, run_mode, run_again)\u001b[0m\n\u001b[1;32m    695\u001b[0m                 \u001b[0;32melif\u001b[0m \u001b[0mstatus\u001b[0m \u001b[0;34m==\u001b[0m \u001b[0;34m\"initialized\"\u001b[0m\u001b[0;34m:\u001b[0m\u001b[0;34m\u001b[0m\u001b[0;34m\u001b[0m\u001b[0m\n\u001b[0;32m--> 696\u001b[0;31m                     \u001b[0mself\u001b[0m\u001b[0;34m.\u001b[0m\u001b[0m_run_if_new\u001b[0m\u001b[0;34m(\u001b[0m\u001b[0mdebug\u001b[0m\u001b[0;34m=\u001b[0m\u001b[0mdebug\u001b[0m\u001b[0;34m)\u001b[0m\u001b[0;34m\u001b[0m\u001b[0;34m\u001b[0m\u001b[0m\n\u001b[0m\u001b[1;32m    697\u001b[0m                 \u001b[0;32melif\u001b[0m \u001b[0mstatus\u001b[0m \u001b[0;34m==\u001b[0m \u001b[0;34m\"created\"\u001b[0m\u001b[0;34m:\u001b[0m\u001b[0;34m\u001b[0m\u001b[0;34m\u001b[0m\u001b[0m\n",
      "\u001b[0;32m~/work/pyiron/pyiron_base/pyiron_base/jobs/job/generic.py\u001b[0m in \u001b[0;36m_run_if_new\u001b[0;34m(self, debug)\u001b[0m\n\u001b[1;32m   1223\u001b[0m         \"\"\"\n\u001b[0;32m-> 1224\u001b[0;31m         \u001b[0mrun_job_with_status_initialized\u001b[0m\u001b[0;34m(\u001b[0m\u001b[0mjob\u001b[0m\u001b[0;34m=\u001b[0m\u001b[0mself\u001b[0m\u001b[0;34m,\u001b[0m \u001b[0mdebug\u001b[0m\u001b[0;34m=\u001b[0m\u001b[0mdebug\u001b[0m\u001b[0;34m)\u001b[0m\u001b[0;34m\u001b[0m\u001b[0;34m\u001b[0m\u001b[0m\n\u001b[0m\u001b[1;32m   1225\u001b[0m \u001b[0;34m\u001b[0m\u001b[0m\n",
      "\u001b[0;32m~/work/pyiron/pyiron_base/pyiron_base/jobs/job/runfunction.py\u001b[0m in \u001b[0;36mrun_job_with_status_initialized\u001b[0;34m(job, debug)\u001b[0m\n\u001b[1;32m     75\u001b[0m         \u001b[0mjob\u001b[0m\u001b[0;34m.\u001b[0m\u001b[0msave\u001b[0m\u001b[0;34m(\u001b[0m\u001b[0;34m)\u001b[0m\u001b[0;34m\u001b[0m\u001b[0;34m\u001b[0m\u001b[0m\n\u001b[0;32m---> 76\u001b[0;31m         \u001b[0mjob\u001b[0m\u001b[0;34m.\u001b[0m\u001b[0mrun\u001b[0m\u001b[0;34m(\u001b[0m\u001b[0;34m)\u001b[0m\u001b[0;34m\u001b[0m\u001b[0;34m\u001b[0m\u001b[0m\n\u001b[0m\u001b[1;32m     77\u001b[0m \u001b[0;34m\u001b[0m\u001b[0m\n",
      "\u001b[0;32m~/work/pyiron/pyiron_base/pyiron_base/utils/deprecate.py\u001b[0m in \u001b[0;36mdecorated\u001b[0;34m(*args, **kwargs)\u001b[0m\n\u001b[1;32m    170\u001b[0m                     )\n\u001b[0;32m--> 171\u001b[0;31m             \u001b[0;32mreturn\u001b[0m \u001b[0mfunction\u001b[0m\u001b[0;34m(\u001b[0m\u001b[0;34m*\u001b[0m\u001b[0margs\u001b[0m\u001b[0;34m,\u001b[0m \u001b[0;34m**\u001b[0m\u001b[0mkwargs\u001b[0m\u001b[0;34m)\u001b[0m\u001b[0;34m\u001b[0m\u001b[0;34m\u001b[0m\u001b[0m\n\u001b[0m\u001b[1;32m    172\u001b[0m \u001b[0;34m\u001b[0m\u001b[0m\n",
      "\u001b[0;32m~/work/pyiron/pyiron_base/pyiron_base/jobs/job/generic.py\u001b[0m in \u001b[0;36mrun\u001b[0;34m(self, delete_existing_job, repair, debug, run_mode, run_again)\u001b[0m\n\u001b[1;32m    697\u001b[0m                 \u001b[0;32melif\u001b[0m \u001b[0mstatus\u001b[0m \u001b[0;34m==\u001b[0m \u001b[0;34m\"created\"\u001b[0m\u001b[0;34m:\u001b[0m\u001b[0;34m\u001b[0m\u001b[0;34m\u001b[0m\u001b[0m\n\u001b[0;32m--> 698\u001b[0;31m                     \u001b[0mself\u001b[0m\u001b[0;34m.\u001b[0m\u001b[0m_run_if_created\u001b[0m\u001b[0;34m(\u001b[0m\u001b[0;34m)\u001b[0m\u001b[0;34m\u001b[0m\u001b[0;34m\u001b[0m\u001b[0m\n\u001b[0m\u001b[1;32m    699\u001b[0m                 \u001b[0;32melif\u001b[0m \u001b[0mstatus\u001b[0m \u001b[0;34m==\u001b[0m \u001b[0;34m\"submitted\"\u001b[0m\u001b[0;34m:\u001b[0m\u001b[0;34m\u001b[0m\u001b[0;34m\u001b[0m\u001b[0m\n",
      "\u001b[0;32m~/work/pyiron/pyiron_base/pyiron_base/jobs/job/generic.py\u001b[0m in \u001b[0;36m_run_if_created\u001b[0;34m(self)\u001b[0m\n\u001b[1;32m   1234\u001b[0m         \"\"\"\n\u001b[0;32m-> 1235\u001b[0;31m         \u001b[0;32mreturn\u001b[0m \u001b[0mrun_job_with_status_created\u001b[0m\u001b[0;34m(\u001b[0m\u001b[0mjob\u001b[0m\u001b[0;34m=\u001b[0m\u001b[0mself\u001b[0m\u001b[0;34m)\u001b[0m\u001b[0;34m\u001b[0m\u001b[0;34m\u001b[0m\u001b[0m\n\u001b[0m\u001b[1;32m   1236\u001b[0m \u001b[0;34m\u001b[0m\u001b[0m\n",
      "\u001b[0;32m~/work/pyiron/pyiron_base/pyiron_base/jobs/job/runfunction.py\u001b[0m in \u001b[0;36mrun_job_with_status_created\u001b[0;34m(job)\u001b[0m\n\u001b[1;32m     98\u001b[0m     \u001b[0;32melif\u001b[0m \u001b[0mjob\u001b[0m\u001b[0;34m.\u001b[0m\u001b[0mserver\u001b[0m\u001b[0;34m.\u001b[0m\u001b[0mrun_mode\u001b[0m\u001b[0;34m.\u001b[0m\u001b[0mmodal\u001b[0m\u001b[0;34m:\u001b[0m\u001b[0;34m\u001b[0m\u001b[0;34m\u001b[0m\u001b[0m\n\u001b[0;32m---> 99\u001b[0;31m         \u001b[0mjob\u001b[0m\u001b[0;34m.\u001b[0m\u001b[0mrun_static\u001b[0m\u001b[0;34m(\u001b[0m\u001b[0;34m)\u001b[0m\u001b[0;34m\u001b[0m\u001b[0;34m\u001b[0m\u001b[0m\n\u001b[0m\u001b[1;32m    100\u001b[0m     \u001b[0;32melif\u001b[0m \u001b[0mjob\u001b[0m\u001b[0;34m.\u001b[0m\u001b[0mserver\u001b[0m\u001b[0;34m.\u001b[0m\u001b[0mrun_mode\u001b[0m\u001b[0;34m.\u001b[0m\u001b[0msrun\u001b[0m\u001b[0;34m:\u001b[0m\u001b[0;34m\u001b[0m\u001b[0;34m\u001b[0m\u001b[0m\n",
      "\u001b[0;32m~/work/pyiron/pyiron_base/pyiron_base/jobs/job/generic.py\u001b[0m in \u001b[0;36mrun_static\u001b[0;34m(self)\u001b[0m\n\u001b[1;32m    735\u001b[0m         \"\"\"\n\u001b[0;32m--> 736\u001b[0;31m         \u001b[0mexecute_job_with_external_executable\u001b[0m\u001b[0;34m(\u001b[0m\u001b[0mjob\u001b[0m\u001b[0;34m=\u001b[0m\u001b[0mself\u001b[0m\u001b[0;34m)\u001b[0m\u001b[0;34m\u001b[0m\u001b[0;34m\u001b[0m\u001b[0m\n\u001b[0m\u001b[1;32m    737\u001b[0m \u001b[0;34m\u001b[0m\u001b[0m\n",
      "\u001b[0;32m~/work/pyiron/pyiron_base/pyiron_base/jobs/job/runfunction.py\u001b[0m in \u001b[0;36mwrapper\u001b[0;34m(job)\u001b[0m\n\u001b[1;32m    460\u001b[0m             \u001b[0mjob\u001b[0m\u001b[0;34m.\u001b[0m\u001b[0mproject\u001b[0m\u001b[0;34m.\u001b[0m\u001b[0mdb\u001b[0m\u001b[0;34m.\u001b[0m\u001b[0mitem_update\u001b[0m\u001b[0;34m(\u001b[0m\u001b[0;34m{\u001b[0m\u001b[0;34m\"timestart\"\u001b[0m\u001b[0;34m:\u001b[0m \u001b[0mdatetime\u001b[0m\u001b[0;34m.\u001b[0m\u001b[0mnow\u001b[0m\u001b[0;34m(\u001b[0m\u001b[0;34m)\u001b[0m\u001b[0;34m}\u001b[0m\u001b[0;34m,\u001b[0m \u001b[0mjob\u001b[0m\u001b[0;34m.\u001b[0m\u001b[0mjob_id\u001b[0m\u001b[0;34m)\u001b[0m\u001b[0;34m\u001b[0m\u001b[0;34m\u001b[0m\u001b[0m\n\u001b[0;32m--> 461\u001b[0;31m             \u001b[0mfunc\u001b[0m\u001b[0;34m(\u001b[0m\u001b[0mjob\u001b[0m\u001b[0;34m)\u001b[0m\u001b[0;34m\u001b[0m\u001b[0;34m\u001b[0m\u001b[0m\n\u001b[0m\u001b[1;32m    462\u001b[0m             \u001b[0mjob\u001b[0m\u001b[0;34m.\u001b[0m\u001b[0mproject\u001b[0m\u001b[0;34m.\u001b[0m\u001b[0mdb\u001b[0m\u001b[0;34m.\u001b[0m\u001b[0mitem_update\u001b[0m\u001b[0;34m(\u001b[0m\u001b[0mjob\u001b[0m\u001b[0;34m.\u001b[0m\u001b[0m_runtime\u001b[0m\u001b[0;34m(\u001b[0m\u001b[0;34m)\u001b[0m\u001b[0;34m,\u001b[0m \u001b[0mjob\u001b[0m\u001b[0;34m.\u001b[0m\u001b[0mjob_id\u001b[0m\u001b[0;34m)\u001b[0m\u001b[0;34m\u001b[0m\u001b[0;34m\u001b[0m\u001b[0m\n",
      "\u001b[0;32m~/work/pyiron/pyiron_base/pyiron_base/jobs/job/runfunction.py\u001b[0m in \u001b[0;36mexecute_job_with_external_executable\u001b[0;34m(job)\u001b[0m\n\u001b[1;32m    498\u001b[0m     \u001b[0;32mexcept\u001b[0m \u001b[0msubprocess\u001b[0m\u001b[0;34m.\u001b[0m\u001b[0mCalledProcessError\u001b[0m \u001b[0;32mas\u001b[0m \u001b[0me\u001b[0m\u001b[0;34m:\u001b[0m\u001b[0;34m\u001b[0m\u001b[0;34m\u001b[0m\u001b[0m\n\u001b[0;32m--> 499\u001b[0;31m         \u001b[0mout\u001b[0m\u001b[0;34m,\u001b[0m \u001b[0mjob_crashed\u001b[0m \u001b[0;34m=\u001b[0m \u001b[0mhandle_failed_job\u001b[0m\u001b[0;34m(\u001b[0m\u001b[0mjob\u001b[0m\u001b[0;34m=\u001b[0m\u001b[0mjob\u001b[0m\u001b[0;34m,\u001b[0m \u001b[0merror\u001b[0m\u001b[0;34m=\u001b[0m\u001b[0me\u001b[0m\u001b[0;34m)\u001b[0m\u001b[0;34m\u001b[0m\u001b[0;34m\u001b[0m\u001b[0m\n\u001b[0m\u001b[1;32m    500\u001b[0m \u001b[0;34m\u001b[0m\u001b[0m\n",
      "\u001b[0;32m~/work/pyiron/pyiron_base/pyiron_base/jobs/job/runfunction.py\u001b[0m in \u001b[0;36mhandle_failed_job\u001b[0;34m(job, error)\u001b[0m\n\u001b[1;32m    552\u001b[0m             \u001b[0mstate\u001b[0m\u001b[0;34m.\u001b[0m\u001b[0mdatabase\u001b[0m\u001b[0;34m.\u001b[0m\u001b[0mclose_connection\u001b[0m\u001b[0;34m(\u001b[0m\u001b[0;34m)\u001b[0m\u001b[0;34m\u001b[0m\u001b[0;34m\u001b[0m\u001b[0m\n\u001b[0;32m--> 553\u001b[0;31m         \u001b[0;32mraise\u001b[0m \u001b[0mRuntimeError\u001b[0m\u001b[0;34m(\u001b[0m\u001b[0;34m\"Job aborted\"\u001b[0m\u001b[0;34m)\u001b[0m\u001b[0;34m\u001b[0m\u001b[0;34m\u001b[0m\u001b[0m\n\u001b[0m\u001b[1;32m    554\u001b[0m     \u001b[0;32melse\u001b[0m\u001b[0;34m:\u001b[0m\u001b[0;34m\u001b[0m\u001b[0;34m\u001b[0m\u001b[0m\n",
      "\u001b[0;31mRuntimeError\u001b[0m: Job aborted",
      "\nDuring handling of the above exception, another exception occurred:\n",
      "\u001b[0;31mRuntimeError\u001b[0m                              Traceback (most recent call last)",
      "\u001b[0;32m<ipython-input-33-255c75202df8>\u001b[0m in \u001b[0;36m<module>\u001b[0;34m\u001b[0m\n\u001b[1;32m     20\u001b[0m             ) as f:\n\u001b[1;32m     21\u001b[0m                 \u001b[0mmsg\u001b[0m \u001b[0;34m=\u001b[0m \u001b[0mf\u001b[0m\u001b[0;34m.\u001b[0m\u001b[0mreadlines\u001b[0m\u001b[0;34m(\u001b[0m\u001b[0;34m)\u001b[0m\u001b[0;34m\u001b[0m\u001b[0;34m\u001b[0m\u001b[0m\n\u001b[0;32m---> 22\u001b[0;31m             \u001b[0;32mraise\u001b[0m \u001b[0mRuntimeError\u001b[0m\u001b[0;34m(\u001b[0m\u001b[0mmsg\u001b[0m\u001b[0;34m)\u001b[0m\u001b[0;34m\u001b[0m\u001b[0;34m\u001b[0m\u001b[0m\n\u001b[0m",
      "\u001b[0;31mRuntimeError\u001b[0m: ['LAMMPS (10 Feb 2021)\\n', 'Reading data file ...\\n', '  orthogonal box = (0.0000000 0.0000000 0.0000000) to (11.730696 11.730696 11.730696)\\n', '  1 by 1 by 1 MPI processor grid\\n', '  reading atoms ...\\n', '  108 atoms\\n', '  read_data CPU = 0.001 seconds\\n', 'ERROR: KIM ModelCreate failed (src/KIM/pair_kim.cpp:848)\\n', 'Last command: pair_style kim EMT_Asap_Standard_JacobsenStoltzeNorskov_1996_AlAgAuCuNiPdPt__MO_115316750986_001\\n']"
     ]
    }
   ],
   "source": [
    "for solute in solutes:\n",
    "    for frac in [0., 0.10, 0.25]:\n",
    "        ref = pr.atomistics.job.Lammps(f\"Lammps_{host}_{solute}_frac{frac:.2f}\".replace(\".\", \"d\"))\n",
    "        ref.structure = pr.atomistics.structure.bulk(host, cubic=True).repeat(3)\n",
    "        random_ids = np.random.choice(\n",
    "            np.arange(len(ref.structure), dtype=int), \n",
    "            int(frac * len(ref.structure))\n",
    "        )\n",
    "        ref.structure[random_ids] = solute\n",
    "        ref.potential = potential\n",
    "\n",
    "        murn = pr.atomistics.job.Murnaghan(f\"Murn_{host}_{solute}_frac{frac:.2f}\".replace(\".\", \"d\"))\n",
    "        murn.input['num_points']=7\n",
    "        murn.ref_job = ref\n",
    "        try:\n",
    "            murn.run()\n",
    "        except:\n",
    "            with open(\n",
    "                f\"./{pr.name}/{murn.name}_hdf5/{murn.name}_0_9_hdf5/{murn.name}_0_9/error.msg\"\n",
    "            ) as f:\n",
    "                msg = f.readlines()\n",
    "            raise RuntimeError(msg)"
   ]
  },
  {
   "cell_type": "markdown",
   "id": "7c20eac0-3bf0-45ed-8651-bc4544184885",
   "metadata": {},
   "source": [
    "Now let's search the pyiron database for instances of some of our physically-meaningful properties:"
   ]
  },
  {
   "cell_type": "code",
   "execution_count": null,
   "id": "33bd612c-b761-4490-ab19-2e6e503d88a8",
   "metadata": {},
   "outputs": [],
   "source": [
    "reasoner.search_database_for_property(onto.BulkModulus(), pr)"
   ]
  },
  {
   "cell_type": "markdown",
   "id": "b3afd055-59b5-4f0f-84b3-d2d7e7824575",
   "metadata": {},
   "source": [
    "We can also filter our search by chemistry:"
   ]
  },
  {
   "cell_type": "code",
   "execution_count": null,
   "id": "53793bba-bec3-41df-806a-63642e4ba39d",
   "metadata": {},
   "outputs": [],
   "source": [
    "reasoner.search_database_for_property(onto.BPrime(), pr, select_alloy=\"Cu\")"
   ]
  },
  {
   "cell_type": "markdown",
   "id": "200790a7-46ee-4f9b-bcb4-302dcfdad8b6",
   "metadata": {},
   "source": [
    "# Cleanup"
   ]
  },
  {
   "cell_type": "code",
   "execution_count": null,
   "id": "3aea218a-9c08-449e-83c6-dbfc9799ed88",
   "metadata": {},
   "outputs": [],
   "source": [
    "# pr.remove_jobs_silently(recursive=True)\n",
    "# pr.remove(enable=True)"
   ]
  },
  {
   "cell_type": "code",
   "execution_count": null,
   "id": "d9eecd65-fabb-4ae5-b2d2-beaf8fdacd71",
   "metadata": {},
   "outputs": [],
   "source": []
  },
  {
   "cell_type": "code",
   "execution_count": null,
   "id": "5bae352f-70b0-4607-989d-00ea940b625a",
   "metadata": {},
   "outputs": [],
   "source": []
  }
 ],
 "metadata": {
  "kernelspec": {
   "display_name": "Python 3",
   "language": "python",
   "name": "python3"
  },
  "language_info": {
   "codemirror_mode": {
    "name": "ipython",
    "version": 3
   },
   "file_extension": ".py",
   "mimetype": "text/x-python",
   "name": "python",
   "nbconvert_exporter": "python",
   "pygments_lexer": "ipython3",
   "version": "3.8.8"
  }
 },
 "nbformat": 4,
 "nbformat_minor": 5
}
