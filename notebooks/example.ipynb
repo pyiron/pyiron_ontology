{
 "cells": [
  {
   "cell_type": "markdown",
   "id": "97eb3a60-0af1-4f59-9dd6-0be8dfde93e6",
   "metadata": {},
   "source": [
    "# Introduction\n",
    "\n",
    "`pyiron_ontology` uses the `owlready2` library to build up pyiron-specific ontologies, and provides some extra tools to help you leverage these.\n",
    "\n",
    "At present, the only ontology implemented is for the realm of atomistic calculations, and the scope of this ontology is still fairly limited.\n",
    "\n",
    "First, let's import `pyiron_ontology` and grab the atomistics ontology (an `owlready2.namespace.Ontology` object) we define in there"
   ]
  },
  {
   "cell_type": "code",
   "execution_count": 1,
   "id": "8c7000fd-0c77-4b8a-b1fc-8abde3bfe3b0",
   "metadata": {},
   "outputs": [],
   "source": [
    "import pyiron_ontology as po"
   ]
  },
  {
   "cell_type": "code",
   "execution_count": 2,
   "id": "c1fcd3b6-64df-48d6-8c61-5c1c40434088",
   "metadata": {},
   "outputs": [],
   "source": [
    "onto = po.dynamic.atomistics()"
   ]
  },
  {
   "cell_type": "markdown",
   "id": "84ab7a12-d976-4e24-aaf8-ccfe6b553def",
   "metadata": {},
   "source": [
    "We can look at various properties of the ontology, just like other owl ontologies, e.g. the classes and individuals defined in this space.\n",
    "\n",
    "There are four key-classes common to all ontologies made in the scope of `pyiron_ontology`: `Generic`, `Input`, `Function`, and `Output`. `Generic` is the parent class used for defining domain knowledge; the remaining three are used to represent how computations are performed in any knowledge-space. (You'll also see `PyironOntoThing`, `Parameter`, `WorkflowThing`, and `IO` are parent classes used under the hood).\n",
    "\n",
    "`Generic` will be heavily sub-classed in each specific ontology, and then instantiated and paired with inputs and outputs so that we will know what sort of information is moving around our computation graphs. The workflow elements will (so far) only be instantiated, defining all the possible calculation available.\n",
    "\n",
    "Let's first look at the classes for our atomistics knowledge-space:"
   ]
  },
  {
   "cell_type": "code",
   "execution_count": 3,
   "id": "29b57b66-a385-4fbc-9429-0c89638b838d",
   "metadata": {},
   "outputs": [
    {
     "data": {
      "text/plain": [
       "[atomistics.PyironOntoThing,\n",
       " atomistics.Parameter,\n",
       " atomistics.Generic,\n",
       " atomistics.WorkflowThing,\n",
       " atomistics.Function,\n",
       " atomistics.IO,\n",
       " atomistics.Output,\n",
       " atomistics.Input,\n",
       " atomistics.AtomisticsFunction,\n",
       " atomistics.UserInput,\n",
       " atomistics.PyironObject,\n",
       " atomistics.PhysicalProperty,\n",
       " atomistics.ChemicalElement,\n",
       " atomistics.MaterialProperty,\n",
       " atomistics.BulkModulus,\n",
       " atomistics.BPrime,\n",
       " atomistics.SurfaceEnergy,\n",
       " atomistics.Dimensional,\n",
       " atomistics.OneD,\n",
       " atomistics.TwoD,\n",
       " atomistics.ThreeD,\n",
       " atomistics.Structure,\n",
       " atomistics.Defected,\n",
       " atomistics.HasDislocation,\n",
       " atomistics.HasVacancy,\n",
       " atomistics.HasInterface,\n",
       " atomistics.HasGB,\n",
       " atomistics.HasSurface,\n",
       " atomistics.HasPB,\n",
       " atomistics.Bulk,\n",
       " atomistics.PyironProject,\n",
       " atomistics.AtomisticsProject,\n",
       " atomistics.PyironJob,\n",
       " atomistics.AtomisticsJob,\n",
       " atomistics.Lammps,\n",
       " atomistics.Vasp]"
      ]
     },
     "execution_count": 3,
     "metadata": {},
     "output_type": "execute_result"
    }
   ],
   "source": [
    "list(onto.classes())"
   ]
  },
  {
   "cell_type": "markdown",
   "id": "f596c62c-602a-4814-8735-e01e23f7675a",
   "metadata": {},
   "source": [
    "We can also look at the individuals. Some of these should have very descriptive names -- these are the `Input`, `Output`, and `Function` individuals. The rest are instances of our `Generic` class (and its children) and receive their name automatically."
   ]
  },
  {
   "cell_type": "code",
   "execution_count": 4,
   "id": "aff4fb1a-b2e6-469d-b2a1-5b42f1b2faf3",
   "metadata": {},
   "outputs": [
    {
     "data": {
      "text/plain": [
       "[atomistics.project,\n",
       " atomistics.project_input_name,\n",
       " atomistics.project_output_atomistics_project,\n",
       " atomistics.bulk_structure,\n",
       " atomistics.generic1,\n",
       " atomistics.bulk_structure_input_element,\n",
       " atomistics.structure1,\n",
       " atomistics.bulk_structure_output_structure,\n",
       " atomistics.surface_structure,\n",
       " atomistics.generic2,\n",
       " atomistics.surface_structure_input_element,\n",
       " atomistics.structure2,\n",
       " atomistics.surface_structure_output_structure,\n",
       " atomistics.lammps,\n",
       " atomistics.structure3,\n",
       " atomistics.lammps_input_structure,\n",
       " atomistics.lammps1,\n",
       " atomistics.lammps_output_job,\n",
       " atomistics.vasp,\n",
       " atomistics.generic3,\n",
       " atomistics.vasp_input_structure,\n",
       " atomistics.vasp1,\n",
       " atomistics.vasp_output_job,\n",
       " atomistics.murnaghan,\n",
       " atomistics.atomisticsproject1,\n",
       " atomistics.murnaghan_input_project,\n",
       " atomistics.atomisticsjob1,\n",
       " atomistics.structure4,\n",
       " atomistics.murnaghan_input_job,\n",
       " atomistics.bulkmodulus1,\n",
       " atomistics.murnaghan_output_bulk_modulus,\n",
       " atomistics.bprime1,\n",
       " atomistics.murnaghan_output_b_prime,\n",
       " atomistics.surface_energy,\n",
       " atomistics.atomisticsjob2,\n",
       " atomistics.bulk1,\n",
       " atomistics.surface_energy_input_bulk_job,\n",
       " atomistics.atomisticsjob3,\n",
       " atomistics.hassurface1,\n",
       " atomistics.surface_energy_input_slab_job,\n",
       " atomistics.surfaceenergy1,\n",
       " atomistics.surface_energy_output_surface_energy]"
      ]
     },
     "execution_count": 4,
     "metadata": {},
     "output_type": "execute_result"
    }
   ],
   "source": [
    "list(onto.individuals())"
   ]
  },
  {
   "cell_type": "markdown",
   "id": "c9b41d5b-1e6c-40df-ab96-4b45d5b2d626",
   "metadata": {},
   "source": [
    "We can make the usual owlready queries of these objects, e.g."
   ]
  },
  {
   "cell_type": "code",
   "execution_count": 5,
   "id": "6318547e-7345-4e1a-82f1-a6cf47f245d6",
   "metadata": {},
   "outputs": [
    {
     "data": {
      "text/plain": [
       "[atomistics.Parameter,\n",
       " atomistics.WorkflowThing,\n",
       " atomistics.Input,\n",
       " owl.Thing,\n",
       " atomistics.PyironOntoThing,\n",
       " atomistics.IO]"
      ]
     },
     "execution_count": 5,
     "metadata": {},
     "output_type": "execute_result"
    }
   ],
   "source": [
    "onto.vasp_input_structure.INDIRECT_is_a"
   ]
  },
  {
   "cell_type": "code",
   "execution_count": 6,
   "id": "e86f526d-0c69-4e2e-9ae1-018ccd78d23a",
   "metadata": {},
   "outputs": [
    {
     "data": {
      "text/plain": [
       "[atomistics.Structure,\n",
       " atomistics.Parameter,\n",
       " atomistics.Generic,\n",
       " atomistics.Dimensional,\n",
       " atomistics.PyironObject,\n",
       " owl.Thing,\n",
       " atomistics.ThreeD,\n",
       " atomistics.PyironOntoThing]"
      ]
     },
     "execution_count": 6,
     "metadata": {},
     "output_type": "execute_result"
    }
   ],
   "source": [
    "onto.vasp_input_structure.generic.INDIRECT_is_a"
   ]
  },
  {
   "cell_type": "markdown",
   "id": "dd2b9abf-ac9a-44aa-bd74-6840a2405e10",
   "metadata": {},
   "source": [
    "We can also look into some of the atomistics-specific relationships that have been defined:"
   ]
  },
  {
   "cell_type": "code",
   "execution_count": 7,
   "id": "827238e7-4772-4f94-901e-be17edbad66e",
   "metadata": {},
   "outputs": [
    {
     "data": {
      "text/plain": [
       "([atomistics.vasp_input_structure], None, [atomistics.vasp_input_structure])"
      ]
     },
     "execution_count": 7,
     "metadata": {},
     "output_type": "execute_result"
    }
   ],
   "source": [
    "onto.vasp.mandatory_inputs, onto.optional_inputs, onto.vasp.inputs"
   ]
  },
  {
   "cell_type": "code",
   "execution_count": 8,
   "id": "2f2b3307-ebd3-4029-8a47-487e7de6fad1",
   "metadata": {},
   "outputs": [
    {
     "data": {
      "text/plain": [
       "[atomistics.vasp_output_job]"
      ]
     },
     "execution_count": 8,
     "metadata": {},
     "output_type": "execute_result"
    }
   ],
   "source": [
    "onto.vasp.outputs"
   ]
  },
  {
   "cell_type": "markdown",
   "id": "9e042ea5-a70a-496c-b51e-efdef37e7fba",
   "metadata": {},
   "source": [
    "and we can chain these queries together in meaningful ways:"
   ]
  },
  {
   "cell_type": "code",
   "execution_count": 9,
   "id": "c1c9359f-a346-4b48-8b8b-a83583801e25",
   "metadata": {},
   "outputs": [
    {
     "name": "stdout",
     "output_type": "stream",
     "text": [
      "some_code atomistics.vasp\n",
      "first_input atomistics.vasp_input_structure\n",
      "appears_elsewhere [atomistics.vasp_input_structure]\n",
      "can_come_from [atomistics.bulk_structure_output_structure, atomistics.surface_structure_output_structure]\n",
      "which_is_produced_by atomistics.bulk_structure\n"
     ]
    }
   ],
   "source": [
    "some_code = onto.vasp\n",
    "first_input = some_code.mandatory_inputs[0]\n",
    "appears_elsewhere = first_input.generic.parameters\n",
    "can_come_from = first_input.get_sources()\n",
    "which_is_produced_by = can_come_from[0].output_of\n",
    "print('some_code', some_code)\n",
    "print('first_input', first_input)\n",
    "print('appears_elsewhere', appears_elsewhere)\n",
    "print('can_come_from', can_come_from)\n",
    "print('which_is_produced_by', which_is_produced_by)"
   ]
  },
  {
   "cell_type": "markdown",
   "id": "47b26d66-fd19-4605-b2ea-1203d472dfa2",
   "metadata": {},
   "source": [
    "This is powerful, but can be a bit unwieldly. \n",
    "\n",
    "`pyiron_ontology` also comes with helper tools for building this sort of chain, or \"workflow\" in a guided or automatic way.\n",
    "\n",
    "First, let's see all the possible chains for getting input to a Lammps calculation:"
   ]
  },
  {
   "cell_type": "code",
   "execution_count": 10,
   "id": "026309ed-91eb-4ce5-baee-f50a9e98164f",
   "metadata": {},
   "outputs": [
    {
     "name": "stdout",
     "output_type": "stream",
     "text": [
      "lammps\n",
      "\tlammps_input_structure\n",
      "\t\tbulk_structure_output_structure\n",
      "\t\t\tbulk_structure\n",
      "\t\tsurface_structure_output_structure\n",
      "\t\t\tsurface_structure\n"
     ]
    }
   ],
   "source": [
    "onto.lammps.get_source_tree().render()"
   ]
  },
  {
   "cell_type": "markdown",
   "id": "5aaea0f0-5244-4f3f-b40a-8a8b494f518d",
   "metadata": {},
   "source": [
    "This tool also passes requirements upstream in the workflow. For instance, we see above that Lammps can take either bulk-like or non-bulk-like structure input. Instead of querying the ontology about what's needed to run a particular code, let's ask for a workflow to produce a particular material property: the bulk modulus. In this case, we know the workflow only makes sense if the structures going into it are bulk-like!\n",
    "\n",
    "When we ask for this workflow, we again see Lammps (and Vasp) coming up as part of our tree, but now we see that it is precluded from taking surface structures because the condition for a bulk-like structure got passed up through our workflow!\n",
    "\n",
    "(Note, these tools only work on _individuals_, so we'll just reinstantiate a copy of our `BulkModulus` generic class and query that)"
   ]
  },
  {
   "cell_type": "code",
   "execution_count": 11,
   "id": "97deb339-a99c-4e37-b452-e2f4d722b412",
   "metadata": {},
   "outputs": [
    {
     "name": "stdout",
     "output_type": "stream",
     "text": [
      "bulkmodulus2\n",
      "\tmurnaghan_output_bulk_modulus\n",
      "\t\tmurnaghan\n",
      "\t\t\tmurnaghan_input_project\n",
      "\t\t\tmurnaghan_input_job\n",
      "\t\t\t\tvasp_output_job\n",
      "\t\t\t\t\tvasp\n",
      "\t\t\t\t\t\tvasp_input_structure\n",
      "\t\t\t\t\t\t\tbulk_structure_output_structure\n",
      "\t\t\t\t\t\t\t\tbulk_structure\n",
      "\t\t\t\tlammps_output_job\n",
      "\t\t\t\t\tlammps\n",
      "\t\t\t\t\t\tlammps_input_structure\n",
      "\t\t\t\t\t\t\tbulk_structure_output_structure\n",
      "\t\t\t\t\t\t\t\tbulk_structure\n"
     ]
    }
   ],
   "source": [
    "onto.BulkModulus().get_source_tree().render()"
   ]
  },
  {
   "cell_type": "markdown",
   "id": "b77df807-500a-4608-9d4f-11c9ca392f86",
   "metadata": {},
   "source": [
    "Instead of seeing *all* possible paths, we can build one particular path iteratively, looking at the choices available at each step and selecting which one we want:"
   ]
  },
  {
   "cell_type": "code",
   "execution_count": 12,
   "id": "6a437427-16a4-4d19-9262-98555bb2e0eb",
   "metadata": {},
   "outputs": [],
   "source": [
    "b_prime = onto.BPrime()"
   ]
  },
  {
   "cell_type": "code",
   "execution_count": 13,
   "id": "39d7a305-2f51-446f-8d2a-260cb6a20b01",
   "metadata": {},
   "outputs": [
    {
     "data": {
      "text/plain": [
       "(<pyiron_ontology.workflow.NodeTree at 0x7faeff903cd0>,\n",
       " [atomistics.murnaghan_output_b_prime])"
      ]
     },
     "execution_count": 13,
     "metadata": {},
     "output_type": "execute_result"
    }
   ],
   "source": [
    "b_prime.get_source_path()"
   ]
  },
  {
   "cell_type": "code",
   "execution_count": 14,
   "id": "93654029-b279-4a17-83ca-41ab486cb08b",
   "metadata": {},
   "outputs": [
    {
     "data": {
      "text/plain": [
       "(<pyiron_ontology.workflow.NodeTree at 0x7faeff900580>, [atomistics.murnaghan])"
      ]
     },
     "execution_count": 14,
     "metadata": {},
     "output_type": "execute_result"
    }
   ],
   "source": [
    "b_prime.get_source_path(0)"
   ]
  },
  {
   "cell_type": "code",
   "execution_count": 15,
   "id": "5fe5141b-4325-4fce-8460-b6f16eba1040",
   "metadata": {},
   "outputs": [
    {
     "data": {
      "text/plain": [
       "(<pyiron_ontology.workflow.NodeTree at 0x7faeff9032b0>,\n",
       " [atomistics.murnaghan_input_project, atomistics.murnaghan_input_job])"
      ]
     },
     "execution_count": 15,
     "metadata": {},
     "output_type": "execute_result"
    }
   ],
   "source": [
    "b_prime.get_source_path(0, 0) "
   ]
  },
  {
   "cell_type": "markdown",
   "id": "d82d895e-fe79-4f9e-832b-2542cf09d5ed",
   "metadata": {},
   "source": [
    "The project is a bit of a boring path to follow, so let's choose `1` here to follow the job path:"
   ]
  },
  {
   "cell_type": "code",
   "execution_count": 16,
   "id": "a757e745-357c-418a-a830-0c03eaba8368",
   "metadata": {},
   "outputs": [
    {
     "data": {
      "text/plain": [
       "(<pyiron_ontology.workflow.NodeTree at 0x7faeff9034f0>,\n",
       " [atomistics.vasp_output_job, atomistics.lammps_output_job])"
      ]
     },
     "execution_count": 16,
     "metadata": {},
     "output_type": "execute_result"
    }
   ],
   "source": [
    "b_prime.get_source_path(0, 0, 1)"
   ]
  },
  {
   "cell_type": "code",
   "execution_count": 17,
   "id": "a9e5e89e-28b3-4935-a08f-48c3828acff7",
   "metadata": {},
   "outputs": [
    {
     "data": {
      "text/plain": [
       "(<pyiron_ontology.workflow.NodeTree at 0x7faeff88b700>, [atomistics.lammps])"
      ]
     },
     "execution_count": 17,
     "metadata": {},
     "output_type": "execute_result"
    }
   ],
   "source": [
    "b_prime.get_source_path(0, 0, 1, 1)"
   ]
  },
  {
   "cell_type": "code",
   "execution_count": 18,
   "id": "b25f3e40-03ea-4b27-bd74-c19cae2e6737",
   "metadata": {},
   "outputs": [
    {
     "data": {
      "text/plain": [
       "(<pyiron_ontology.workflow.NodeTree at 0x7faeff9003a0>,\n",
       " [atomistics.lammps_input_structure])"
      ]
     },
     "execution_count": 18,
     "metadata": {},
     "output_type": "execute_result"
    }
   ],
   "source": [
    "b_prime.get_source_path(0, 0, 1, 1, 0)"
   ]
  },
  {
   "cell_type": "code",
   "execution_count": 19,
   "id": "e2cd25f5-cd73-4f2d-9de5-76d97188aee3",
   "metadata": {},
   "outputs": [
    {
     "data": {
      "text/plain": [
       "(<pyiron_ontology.workflow.NodeTree at 0x7faeff88b970>,\n",
       " [atomistics.bulk_structure_output_structure])"
      ]
     },
     "execution_count": 19,
     "metadata": {},
     "output_type": "execute_result"
    }
   ],
   "source": [
    "b_prime.get_source_path(0, 0, 1, 1, 0, 0)"
   ]
  },
  {
   "cell_type": "code",
   "execution_count": 20,
   "id": "1f8ecf63-9397-41d1-8ae3-1ecece042c7a",
   "metadata": {},
   "outputs": [
    {
     "data": {
      "text/plain": [
       "(<pyiron_ontology.workflow.NodeTree at 0x7faeff688250>,\n",
       " [atomistics.bulk_structure])"
      ]
     },
     "execution_count": 20,
     "metadata": {},
     "output_type": "execute_result"
    }
   ],
   "source": [
    "b_prime.get_source_path(0, 0, 1, 1, 0, 0, 0)"
   ]
  },
  {
   "cell_type": "code",
   "execution_count": 21,
   "id": "28eaa288-2fd2-42c3-8489-9549ce706f42",
   "metadata": {},
   "outputs": [
    {
     "data": {
      "text/plain": [
       "(<pyiron_ontology.workflow.NodeTree at 0x7faeff6662b0>, [])"
      ]
     },
     "execution_count": 21,
     "metadata": {},
     "output_type": "execute_result"
    }
   ],
   "source": [
    "b_prime.get_source_path(0, 0, 1, 1, 0, 0, 0, 0)"
   ]
  },
  {
   "cell_type": "code",
   "execution_count": 22,
   "id": "4ee032ab-75b1-49f0-92f1-c90aa5c89a72",
   "metadata": {},
   "outputs": [
    {
     "name": "stdout",
     "output_type": "stream",
     "text": [
      "bprime2\n",
      "\tmurnaghan_output_b_prime\n",
      "\t\tmurnaghan\n",
      "\t\t\tmurnaghan_input_job\n",
      "\t\t\t\tlammps_output_job\n",
      "\t\t\t\t\tlammps\n",
      "\t\t\t\t\t\tlammps_input_structure\n",
      "\t\t\t\t\t\t\tbulk_structure_output_structure\n",
      "\t\t\t\t\t\t\t\tbulk_structure\n"
     ]
    }
   ],
   "source": [
    "path, _ = b_prime.get_source_path(0, 0, 1, 1, 0, 0, 0, 0)\n",
    "path.render()"
   ]
  },
  {
   "cell_type": "markdown",
   "id": "f3de4a85-2d97-4349-8de1-f75779a8becb",
   "metadata": {},
   "source": [
    "Note: this only traces _one path_ of the required input to get to the result we originally queried -- as noted above where we ignored the project input; you need to choose paths for _all_ the required input at each `Function` step of the path."
   ]
  },
  {
   "cell_type": "markdown",
   "id": "ce0eb416-0c33-48a0-b111-5493cbec22b8",
   "metadata": {},
   "source": [
    "# Working with pyiron data\n",
    "\n",
    "We also have tools for leveraging the ontology to search through existing pyiron data in your storage and database \n",
    "\n",
    "Here we'll need import `pyiron_atomistics.Project` so we can create some data to work with."
   ]
  },
  {
   "cell_type": "code",
   "execution_count": 23,
   "id": "81d4f04a-1ed3-43a0-8a82-dbfbe4c14cf3",
   "metadata": {},
   "outputs": [
    {
     "data": {
      "application/vnd.jupyter.widget-view+json": {
       "model_id": "dd334f26f7b04a30a501c7cbd98f61d3",
       "version_major": 2,
       "version_minor": 0
      },
      "text/plain": []
     },
     "metadata": {},
     "output_type": "display_data"
    }
   ],
   "source": [
    "from pyiron_ontology import AtomisticsReasoner\n",
    "from pyiron_atomistics import Project\n",
    "import numpy as np"
   ]
  },
  {
   "cell_type": "code",
   "execution_count": 24,
   "id": "3f284ae6-0e17-42ab-9c77-e27f54efe07c",
   "metadata": {},
   "outputs": [],
   "source": [
    "reasoner = AtomisticsReasoner(onto) "
   ]
  },
  {
   "cell_type": "markdown",
   "id": "6885ca20-2375-4e3f-8bff-b088b8ad2129",
   "metadata": {},
   "source": [
    "Next, we'll produce some data and then use the a tool on the reasoner to search over it for data that matches a particular ontological property.\n",
    "\n",
    "First, we'll need to produce some data to search over. In this case, let's calculate the bulk modulus for a couple of alloys with varying Nickle content. On a single-core laptop, this might take two or three minutes."
   ]
  },
  {
   "cell_type": "code",
   "execution_count": 25,
   "id": "02c6daf2-3982-4d54-b168-8265ab845f6c",
   "metadata": {},
   "outputs": [],
   "source": [
    "pr = Project('example')\n",
    "pr.remove_jobs(silently=True, recursive=True)"
   ]
  },
  {
   "cell_type": "markdown",
   "id": "8ef8ecd8-729c-4dc1-af4c-599baaf07826",
   "metadata": {},
   "source": [
    "So that we can compare results for different compositions, let's quickly find a potential contains all our elements and use it consistently."
   ]
  },
  {
   "cell_type": "code",
   "execution_count": 26,
   "id": "f8e8989b-7570-4b1c-a1ec-1e3663d7bf08",
   "metadata": {},
   "outputs": [],
   "source": [
    "host = \"Cu\"\n",
    "solutes = [\"Ag\", \"Ni\"]\n",
    "all_species = pr.atomistics.structure.bulk(host, cubic=True)\n",
    "all_species[0] = solutes[0]\n",
    "all_species[1] = solutes[1]\n",
    "\n",
    "from pyiron_atomistics.lammps import list_potentials\n",
    "potential = list_potentials(all_species)[0]"
   ]
  },
  {
   "cell_type": "code",
   "execution_count": 27,
   "id": "02c36634-bedb-40e9-904a-3d813c54f881",
   "metadata": {
    "tags": []
   },
   "outputs": [
    {
     "name": "stdout",
     "output_type": "stream",
     "text": [
      "The job Murn_Cu_Ag_frac0d00 was saved and received the ID: 296\n",
      "The job Murn_Cu_Ag_frac0d00_0_9 was saved and received the ID: 297\n",
      "The job Murn_Cu_Ag_frac0d00_0_9333333 was saved and received the ID: 298\n",
      "The job Murn_Cu_Ag_frac0d00_0_9666667 was saved and received the ID: 299\n",
      "The job Murn_Cu_Ag_frac0d00_1_0 was saved and received the ID: 300\n",
      "The job Murn_Cu_Ag_frac0d00_1_0333333 was saved and received the ID: 301\n",
      "The job Murn_Cu_Ag_frac0d00_1_0666667 was saved and received the ID: 302\n",
      "The job Murn_Cu_Ag_frac0d00_1_1 was saved and received the ID: 303\n",
      "The job Murn_Cu_Ag_frac0d10 was saved and received the ID: 304\n",
      "The job Murn_Cu_Ag_frac0d10_0_9 was saved and received the ID: 305\n",
      "The job Murn_Cu_Ag_frac0d10_0_9333333 was saved and received the ID: 306\n",
      "The job Murn_Cu_Ag_frac0d10_0_9666667 was saved and received the ID: 307\n",
      "The job Murn_Cu_Ag_frac0d10_1_0 was saved and received the ID: 308\n",
      "The job Murn_Cu_Ag_frac0d10_1_0333333 was saved and received the ID: 309\n",
      "The job Murn_Cu_Ag_frac0d10_1_0666667 was saved and received the ID: 310\n",
      "The job Murn_Cu_Ag_frac0d10_1_1 was saved and received the ID: 311\n",
      "The job Murn_Cu_Ag_frac0d25 was saved and received the ID: 312\n",
      "The job Murn_Cu_Ag_frac0d25_0_9 was saved and received the ID: 313\n",
      "The job Murn_Cu_Ag_frac0d25_0_9333333 was saved and received the ID: 314\n",
      "The job Murn_Cu_Ag_frac0d25_0_9666667 was saved and received the ID: 315\n",
      "The job Murn_Cu_Ag_frac0d25_1_0 was saved and received the ID: 316\n",
      "The job Murn_Cu_Ag_frac0d25_1_0333333 was saved and received the ID: 317\n",
      "The job Murn_Cu_Ag_frac0d25_1_0666667 was saved and received the ID: 318\n",
      "The job Murn_Cu_Ag_frac0d25_1_1 was saved and received the ID: 319\n"
     ]
    },
    {
     "name": "stderr",
     "output_type": "stream",
     "text": [
      "2023-02-24 15:10:37,742 - pyiron_log - WARNING - Minimum could not be found!\n"
     ]
    },
    {
     "name": "stdout",
     "output_type": "stream",
     "text": [
      "The job Murn_Cu_Ni_frac0d00 was saved and received the ID: 320\n",
      "The job Murn_Cu_Ni_frac0d00_0_9 was saved and received the ID: 321\n",
      "The job Murn_Cu_Ni_frac0d00_0_9333333 was saved and received the ID: 322\n",
      "The job Murn_Cu_Ni_frac0d00_0_9666667 was saved and received the ID: 323\n",
      "The job Murn_Cu_Ni_frac0d00_1_0 was saved and received the ID: 324\n",
      "The job Murn_Cu_Ni_frac0d00_1_0333333 was saved and received the ID: 325\n",
      "The job Murn_Cu_Ni_frac0d00_1_0666667 was saved and received the ID: 326\n",
      "The job Murn_Cu_Ni_frac0d00_1_1 was saved and received the ID: 327\n",
      "The job Murn_Cu_Ni_frac0d10 was saved and received the ID: 328\n",
      "The job Murn_Cu_Ni_frac0d10_0_9 was saved and received the ID: 329\n",
      "The job Murn_Cu_Ni_frac0d10_0_9333333 was saved and received the ID: 330\n",
      "The job Murn_Cu_Ni_frac0d10_0_9666667 was saved and received the ID: 331\n",
      "The job Murn_Cu_Ni_frac0d10_1_0 was saved and received the ID: 332\n",
      "The job Murn_Cu_Ni_frac0d10_1_0333333 was saved and received the ID: 333\n",
      "The job Murn_Cu_Ni_frac0d10_1_0666667 was saved and received the ID: 334\n",
      "The job Murn_Cu_Ni_frac0d10_1_1 was saved and received the ID: 335\n",
      "The job Murn_Cu_Ni_frac0d25 was saved and received the ID: 336\n",
      "The job Murn_Cu_Ni_frac0d25_0_9 was saved and received the ID: 337\n",
      "The job Murn_Cu_Ni_frac0d25_0_9333333 was saved and received the ID: 338\n",
      "The job Murn_Cu_Ni_frac0d25_0_9666667 was saved and received the ID: 339\n",
      "The job Murn_Cu_Ni_frac0d25_1_0 was saved and received the ID: 340\n",
      "The job Murn_Cu_Ni_frac0d25_1_0333333 was saved and received the ID: 341\n",
      "The job Murn_Cu_Ni_frac0d25_1_0666667 was saved and received the ID: 342\n",
      "The job Murn_Cu_Ni_frac0d25_1_1 was saved and received the ID: 343\n"
     ]
    }
   ],
   "source": [
    "for solute in solutes:\n",
    "    for frac in [0., 0.10, 0.25]:\n",
    "        ref = pr.atomistics.job.Lammps(f\"Lammps_{host}_{solute}_frac{frac:.2f}\".replace(\".\", \"d\"))\n",
    "        ref.structure = pr.atomistics.structure.bulk(host, cubic=True).repeat(3)\n",
    "        random_ids = np.random.choice(\n",
    "            np.arange(len(ref.structure), dtype=int), \n",
    "            int(frac * len(ref.structure))\n",
    "        )\n",
    "        ref.structure[random_ids] = solute\n",
    "        ref.potential = potential\n",
    "\n",
    "        murn = pr.atomistics.job.Murnaghan(f\"Murn_{host}_{solute}_frac{frac:.2f}\".replace(\".\", \"d\"))\n",
    "        murn.input['num_points']=7\n",
    "        murn.ref_job = ref\n",
    "        murn.run()"
   ]
  },
  {
   "cell_type": "markdown",
   "id": "7c20eac0-3bf0-45ed-8651-bc4544184885",
   "metadata": {},
   "source": [
    "Now let's search the pyiron database for instances of some of our physically-meaningful properties:"
   ]
  },
  {
   "cell_type": "code",
   "execution_count": 28,
   "id": "33bd612c-b761-4490-ab19-2e6e503d88a8",
   "metadata": {},
   "outputs": [
    {
     "data": {
      "text/html": [
       "<div>\n",
       "<style scoped>\n",
       "    .dataframe tbody tr th:only-of-type {\n",
       "        vertical-align: middle;\n",
       "    }\n",
       "\n",
       "    .dataframe tbody tr th {\n",
       "        vertical-align: top;\n",
       "    }\n",
       "\n",
       "    .dataframe thead th {\n",
       "        text-align: right;\n",
       "    }\n",
       "</style>\n",
       "<table border=\"1\" class=\"dataframe\">\n",
       "  <thead>\n",
       "    <tr style=\"text-align: right;\">\n",
       "      <th></th>\n",
       "      <th>Chemical Formula</th>\n",
       "      <th>atomistics.BulkModulus</th>\n",
       "      <th>unit</th>\n",
       "      <th>Engine</th>\n",
       "    </tr>\n",
       "  </thead>\n",
       "  <tbody>\n",
       "    <tr>\n",
       "      <th>0</th>\n",
       "      <td>Cu108</td>\n",
       "      <td>141.949581</td>\n",
       "      <td>GPa</td>\n",
       "      <td>Lammps</td>\n",
       "    </tr>\n",
       "    <tr>\n",
       "      <th>1</th>\n",
       "      <td>Ag9Cu99</td>\n",
       "      <td>134.436849</td>\n",
       "      <td>GPa</td>\n",
       "      <td>Lammps</td>\n",
       "    </tr>\n",
       "    <tr>\n",
       "      <th>2</th>\n",
       "      <td>Ag23Cu85</td>\n",
       "      <td>NaN</td>\n",
       "      <td>GPa</td>\n",
       "      <td>Lammps</td>\n",
       "    </tr>\n",
       "    <tr>\n",
       "      <th>3</th>\n",
       "      <td>Cu108</td>\n",
       "      <td>141.949581</td>\n",
       "      <td>GPa</td>\n",
       "      <td>Lammps</td>\n",
       "    </tr>\n",
       "    <tr>\n",
       "      <th>4</th>\n",
       "      <td>Cu100Ni8</td>\n",
       "      <td>145.466199</td>\n",
       "      <td>GPa</td>\n",
       "      <td>Lammps</td>\n",
       "    </tr>\n",
       "    <tr>\n",
       "      <th>5</th>\n",
       "      <td>Cu86Ni22</td>\n",
       "      <td>151.484981</td>\n",
       "      <td>GPa</td>\n",
       "      <td>Lammps</td>\n",
       "    </tr>\n",
       "  </tbody>\n",
       "</table>\n",
       "</div>"
      ],
      "text/plain": [
       "  Chemical Formula  atomistics.BulkModulus unit  Engine\n",
       "0            Cu108              141.949581  GPa  Lammps\n",
       "1          Ag9Cu99              134.436849  GPa  Lammps\n",
       "2         Ag23Cu85                     NaN  GPa  Lammps\n",
       "3            Cu108              141.949581  GPa  Lammps\n",
       "4         Cu100Ni8              145.466199  GPa  Lammps\n",
       "5         Cu86Ni22              151.484981  GPa  Lammps"
      ]
     },
     "execution_count": 28,
     "metadata": {},
     "output_type": "execute_result"
    }
   ],
   "source": [
    "reasoner.search_database_for_property(onto.BulkModulus(), pr)"
   ]
  },
  {
   "cell_type": "markdown",
   "id": "b3afd055-59b5-4f0f-84b3-d2d7e7824575",
   "metadata": {},
   "source": [
    "We can also filter our search by chemistry:"
   ]
  },
  {
   "cell_type": "code",
   "execution_count": 29,
   "id": "53793bba-bec3-41df-806a-63642e4ba39d",
   "metadata": {},
   "outputs": [
    {
     "data": {
      "text/html": [
       "<div>\n",
       "<style scoped>\n",
       "    .dataframe tbody tr th:only-of-type {\n",
       "        vertical-align: middle;\n",
       "    }\n",
       "\n",
       "    .dataframe tbody tr th {\n",
       "        vertical-align: top;\n",
       "    }\n",
       "\n",
       "    .dataframe thead th {\n",
       "        text-align: right;\n",
       "    }\n",
       "</style>\n",
       "<table border=\"1\" class=\"dataframe\">\n",
       "  <thead>\n",
       "    <tr style=\"text-align: right;\">\n",
       "      <th></th>\n",
       "      <th>Chemical Formula</th>\n",
       "      <th>atomistics.BPrime</th>\n",
       "      <th>unit</th>\n",
       "      <th>Engine</th>\n",
       "    </tr>\n",
       "  </thead>\n",
       "  <tbody>\n",
       "    <tr>\n",
       "      <th>0</th>\n",
       "      <td>Cu108</td>\n",
       "      <td>4.393195</td>\n",
       "      <td>None</td>\n",
       "      <td>Lammps</td>\n",
       "    </tr>\n",
       "    <tr>\n",
       "      <th>1</th>\n",
       "      <td>Ag9Cu99</td>\n",
       "      <td>6.169798</td>\n",
       "      <td>None</td>\n",
       "      <td>Lammps</td>\n",
       "    </tr>\n",
       "    <tr>\n",
       "      <th>2</th>\n",
       "      <td>Ag23Cu85</td>\n",
       "      <td>NaN</td>\n",
       "      <td>None</td>\n",
       "      <td>Lammps</td>\n",
       "    </tr>\n",
       "    <tr>\n",
       "      <th>3</th>\n",
       "      <td>Cu108</td>\n",
       "      <td>4.393195</td>\n",
       "      <td>None</td>\n",
       "      <td>Lammps</td>\n",
       "    </tr>\n",
       "    <tr>\n",
       "      <th>4</th>\n",
       "      <td>Cu100Ni8</td>\n",
       "      <td>4.320935</td>\n",
       "      <td>None</td>\n",
       "      <td>Lammps</td>\n",
       "    </tr>\n",
       "    <tr>\n",
       "      <th>5</th>\n",
       "      <td>Cu86Ni22</td>\n",
       "      <td>4.167212</td>\n",
       "      <td>None</td>\n",
       "      <td>Lammps</td>\n",
       "    </tr>\n",
       "  </tbody>\n",
       "</table>\n",
       "</div>"
      ],
      "text/plain": [
       "  Chemical Formula  atomistics.BPrime  unit  Engine\n",
       "0            Cu108           4.393195  None  Lammps\n",
       "1          Ag9Cu99           6.169798  None  Lammps\n",
       "2         Ag23Cu85                NaN  None  Lammps\n",
       "3            Cu108           4.393195  None  Lammps\n",
       "4         Cu100Ni8           4.320935  None  Lammps\n",
       "5         Cu86Ni22           4.167212  None  Lammps"
      ]
     },
     "execution_count": 29,
     "metadata": {},
     "output_type": "execute_result"
    }
   ],
   "source": [
    "reasoner.search_database_for_property(onto.BPrime(), pr, select_alloy=\"Cu\")"
   ]
  },
  {
   "cell_type": "markdown",
   "id": "200790a7-46ee-4f9b-bcb4-302dcfdad8b6",
   "metadata": {},
   "source": [
    "# Cleanup"
   ]
  },
  {
   "cell_type": "code",
   "execution_count": 30,
   "id": "3aea218a-9c08-449e-83c6-dbfc9799ed88",
   "metadata": {},
   "outputs": [
    {
     "name": "stderr",
     "output_type": "stream",
     "text": [
      "<ipython-input-30-18562755bd1e>:1: DeprecationWarning: pyiron_base.project.generic.remove_jobs_silently is deprecated: Use pr.remove_jobs(silently=True) rather than pr.remove_jobs_silently()..\n",
      "  pr.remove_jobs_silently(recursive=True)\n"
     ]
    },
    {
     "data": {
      "application/vnd.jupyter.widget-view+json": {
       "model_id": "063d4175f9bb497b843c4ff14a4d9f20",
       "version_major": 2,
       "version_minor": 0
      },
      "text/plain": [
       "  0%|          | 0/48 [00:00<?, ?it/s]"
      ]
     },
     "metadata": {},
     "output_type": "display_data"
    }
   ],
   "source": [
    "pr.remove_jobs_silently(recursive=True)\n",
    "pr.remove(enable=True)"
   ]
  },
  {
   "cell_type": "code",
   "execution_count": null,
   "id": "d9eecd65-fabb-4ae5-b2d2-beaf8fdacd71",
   "metadata": {},
   "outputs": [],
   "source": []
  }
 ],
 "metadata": {
  "kernelspec": {
   "display_name": "Python 3",
   "language": "python",
   "name": "python3"
  },
  "language_info": {
   "codemirror_mode": {
    "name": "ipython",
    "version": 3
   },
   "file_extension": ".py",
   "mimetype": "text/x-python",
   "name": "python",
   "nbconvert_exporter": "python",
   "pygments_lexer": "ipython3",
   "version": "3.8.8"
  }
 },
 "nbformat": 4,
 "nbformat_minor": 5
}
