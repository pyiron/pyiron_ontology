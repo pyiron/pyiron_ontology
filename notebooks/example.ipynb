{
 "cells": [
  {
   "cell_type": "markdown",
   "id": "87e71d66-a3ee-4687-8667-93e5a0636801",
   "metadata": {},
   "source": []
  },
  {
   "cell_type": "code",
   "execution_count": 1,
   "id": "0165d183-c183-4ead-8487-78c26de80fda",
   "metadata": {},
   "outputs": [],
   "source": [
    "from pyiron_ontology import AtomisticsReasoner, atomistics_onto as onto"
   ]
  },
  {
   "cell_type": "code",
   "execution_count": 2,
   "id": "cc8cb235-7681-4a18-9cc9-ff6d091af922",
   "metadata": {},
   "outputs": [],
   "source": [
    "reasoner = AtomisticsReasoner(onto) "
   ]
  },
  {
   "cell_type": "code",
   "execution_count": 3,
   "id": "a517d788-b88e-40e7-823d-c8fca78f185c",
   "metadata": {},
   "outputs": [
    {
     "name": "stdout",
     "output_type": "stream",
     "text": [
      "(Target, Executable, Req. Inputs) (note: Target == None --> Use the Executable as input)\n",
      "\n",
      "(pyiron.Murnaghan/output/equilibrium_bulk_modulus, pyiron.Murnaghan, [pyiron.Murnaghan/ref_job])\n",
      "\t(None, pyiron.VASP, [pyiron.VASP/input/structure])\n",
      "\t\t(pyiron.CreateStructureBulk/output/structure, pyiron.CreateStructureBulk, [pyiron.CreateStructureBulk/input/element])\n",
      "\t\t\tUser input\n",
      "\t(None, pyiron.LAMMPS, [pyiron.LAMMPS/input/structure])\n",
      "\t\t(pyiron.CreateStructureBulk/output/structure, pyiron.CreateStructureBulk, [pyiron.CreateStructureBulk/input/element])\n",
      "\t\t\tUser input\n"
     ]
    }
   ],
   "source": [
    "bulk_modulus_worflows = reasoner.build_tree(onto.Bulk_modulus)\n",
    "bulk_modulus_worflows.render()"
   ]
  },
  {
   "cell_type": "code",
   "execution_count": null,
   "id": "4ac9390f-0d60-4317-961a-6993cc9b2e19",
   "metadata": {},
   "outputs": [],
   "source": []
  }
 ],
 "metadata": {
  "kernelspec": {
   "display_name": "Python 3",
   "language": "python",
   "name": "python3"
  },
  "language_info": {
   "codemirror_mode": {
    "name": "ipython",
    "version": 3
   },
   "file_extension": ".py",
   "mimetype": "text/x-python",
   "name": "python",
   "nbconvert_exporter": "python",
   "pygments_lexer": "ipython3",
   "version": "3.8.8"
  }
 },
 "nbformat": 4,
 "nbformat_minor": 5
}
