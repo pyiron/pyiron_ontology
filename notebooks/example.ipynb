{
 "cells": [
  {
   "cell_type": "markdown",
   "id": "97eb3a60-0af1-4f59-9dd6-0be8dfde93e6",
   "metadata": {},
   "source": [
    "# Introduction\n",
    "\n",
    "`pyiron_ontology` uses the `owlready2` library to build up pyiron-specific ontologies, and provides some extra tools to help you leverage these.\n",
    "\n",
    "At present, the only ontology implemented is for the realm of atomistic calculations, and the scope of this ontology is still fairly limited.\n",
    "\n",
    "First, let's import the ontology (an `owlready2.namespace.Ontology` object we define in the `pyiron_atomistics` repository on GitHub"
   ]
  },
  {
   "cell_type": "code",
   "execution_count": 1,
   "id": "8c7000fd-0c77-4b8a-b1fc-8abde3bfe3b0",
   "metadata": {},
   "outputs": [],
   "source": [
    "from pyiron_ontology import atomistics_onto as onto"
   ]
  },
  {
   "cell_type": "markdown",
   "id": "84ab7a12-d976-4e24-aaf8-ccfe6b553def",
   "metadata": {},
   "source": [
    "We can look at various properties of the ontology, just like other owl ontologies, e.g. the classes and individuals defined in this space:"
   ]
  },
  {
   "cell_type": "code",
   "execution_count": 5,
   "id": "29b57b66-a385-4fbc-9429-0c89638b838d",
   "metadata": {},
   "outputs": [
    {
     "data": {
      "text/plain": [
       "[pyiron.PyObject,\n",
       " pyiron.Parameter,\n",
       " pyiron.InputParameter,\n",
       " pyiron.OutputParameter,\n",
       " pyiron.GenericParameter,\n",
       " pyiron.Code,\n",
       " pyiron.Label]"
      ]
     },
     "execution_count": 5,
     "metadata": {},
     "output_type": "execute_result"
    }
   ],
   "source": [
    "list(onto.classes())"
   ]
  },
  {
   "cell_type": "code",
   "execution_count": 6,
   "id": "aff4fb1a-b2e6-469d-b2a1-5b42f1b2faf3",
   "metadata": {},
   "outputs": [
    {
     "data": {
      "text/plain": [
       "[pyiron.Atomistic,\n",
       " pyiron.lCode,\n",
       " pyiron.DFT,\n",
       " pyiron.MaterialProperty,\n",
       " pyiron.PeriodicBoundaryConditions,\n",
       " pyiron.UserInput,\n",
       " pyiron.Bulk3dStructure,\n",
       " pyiron.AtomisticEnergyCalculator,\n",
       " pyiron.ChemicalElement,\n",
       " pyiron.AtomicStructure,\n",
       " pyiron.Executable,\n",
       " pyiron.CreateStructureBulk,\n",
       " pyiron.CreateStructureBulk/input/element,\n",
       " pyiron.CreateStructureBulk/output/structure,\n",
       " pyiron.CreateSurface,\n",
       " pyiron.CreateSurface/input/element,\n",
       " pyiron.CreateSurface/output/structure,\n",
       " pyiron.Bulk_modulus,\n",
       " pyiron.B_prime,\n",
       " pyiron.Murnaghan,\n",
       " pyiron.Murnaghan/output/equilibrium_bulk_modulus,\n",
       " pyiron.Murnaghan/output/equilibrium_b_prime,\n",
       " pyiron.Murnaghan/ref_job,\n",
       " pyiron.EnergyCutoff,\n",
       " pyiron.VASP,\n",
       " pyiron.ENCUT,\n",
       " pyiron.IBRAV,\n",
       " pyiron.VASP/input/structure,\n",
       " pyiron.ETOT,\n",
       " pyiron.LAMMPS,\n",
       " pyiron.LAMMPS/input/structure]"
      ]
     },
     "execution_count": 6,
     "metadata": {},
     "output_type": "execute_result"
    }
   ],
   "source": [
    "list(onto.individuals())"
   ]
  },
  {
   "cell_type": "markdown",
   "id": "c9b41d5b-1e6c-40df-ab96-4b45d5b2d626",
   "metadata": {},
   "source": [
    "We can make the usual owlready queries of these objects, e.g."
   ]
  },
  {
   "cell_type": "code",
   "execution_count": 8,
   "id": "6318547e-7345-4e1a-82f1-a6cf47f245d6",
   "metadata": {},
   "outputs": [
    {
     "data": {
      "text/plain": [
       "[pyiron.Atomistic, pyiron.lCode, pyiron.DFT]"
      ]
     },
     "execution_count": 8,
     "metadata": {},
     "output_type": "execute_result"
    }
   ],
   "source": [
    "onto.VASP.domain"
   ]
  },
  {
   "cell_type": "code",
   "execution_count": 7,
   "id": "e86f526d-0c69-4e2e-9ae1-018ccd78d23a",
   "metadata": {},
   "outputs": [
    {
     "data": {
      "text/plain": [
       "[pyiron.Code,\n",
       " pyiron.has_conditions.only(owl.Nothing),\n",
       " pyiron.has_transitive_conditions.only(owl.Nothing),\n",
       " pyiron.has_options.only(OneOf([pyiron.Bulk3dStructure, pyiron.AtomisticEnergyCalculator])),\n",
       " pyiron.is_in_domains.only(OneOf([pyiron.Atomistic, pyiron.lCode, pyiron.DFT])),\n",
       " pyiron.has_generic_parameter.only(OneOf([pyiron.Executable])),\n",
       " pyiron.has_input.only(OneOf([pyiron.ENCUT, pyiron.IBRAV])),\n",
       " pyiron.has_mandatory_input.only(OneOf([pyiron.VASP/input/structure])),\n",
       " pyiron.has_output.only(owl.Nothing)]"
      ]
     },
     "execution_count": 7,
     "metadata": {},
     "output_type": "execute_result"
    }
   ],
   "source": [
    "onto.VASP.is_a"
   ]
  },
  {
   "cell_type": "markdown",
   "id": "dd2b9abf-ac9a-44aa-bd74-6840a2405e10",
   "metadata": {},
   "source": [
    "We can also look into some of the atomistics-specific relationships that have been defined:"
   ]
  },
  {
   "cell_type": "code",
   "execution_count": 10,
   "id": "827238e7-4772-4f94-901e-be17edbad66e",
   "metadata": {},
   "outputs": [
    {
     "data": {
      "text/plain": [
       "[pyiron.VASP/input/structure]"
      ]
     },
     "execution_count": 10,
     "metadata": {},
     "output_type": "execute_result"
    }
   ],
   "source": [
    "onto.VASP.mandatory_input"
   ]
  },
  {
   "cell_type": "markdown",
   "id": "9e042ea5-a70a-496c-b51e-efdef37e7fba",
   "metadata": {},
   "source": [
    "and we can chain these queries together in meaningful ways:"
   ]
  },
  {
   "cell_type": "code",
   "execution_count": 25,
   "id": "c1c9359f-a346-4b48-8b8b-a83583801e25",
   "metadata": {},
   "outputs": [
    {
     "name": "stdout",
     "output_type": "stream",
     "text": [
      "some_code pyiron.VASP\n",
      "first_input pyiron.VASP/input/structure\n",
      "appears_elsewhere [pyiron.CreateStructureBulk/output/structure, pyiron.CreateSurface/output/structure, pyiron.VASP/input/structure, pyiron.LAMMPS/input/structure]\n",
      "can_come_from [pyiron.CreateStructureBulk/output/structure]\n",
      "which_is_produced_by [pyiron.CreateStructureBulk]\n"
     ]
    }
   ],
   "source": [
    "some_code = onto.VASP\n",
    "first_input = some_code.mandatory_input[0]\n",
    "appears_elsewhere = first_input.generic_parameter[0].has_parameters\n",
    "can_come_from = first_input.consistent_output(first_input.has_transitive_conditions)\n",
    "which_is_produced_by = can_come_from[0].output_of\n",
    "print('some_code', some_code)\n",
    "print('first_input', first_input)\n",
    "print('appears_elsewhere', appears_elsewhere)\n",
    "print('can_come_from', can_come_from)\n",
    "print('which_is_produced_by', which_is_produced_by)"
   ]
  },
  {
   "cell_type": "markdown",
   "id": "47b26d66-fd19-4605-b2ea-1203d472dfa2",
   "metadata": {},
   "source": [
    "This is powerful, but can be a bit unwieldly. \n",
    "`pyiron_ontology` also comes back with a special helper class for performing reasoning that is specific to this ontology and makes it easier to perform some helpful ontological queries and pyiron database and storage interactions.\n",
    "Let's import that and use it.\n",
    "\n",
    "We'll also import `pyiron_atomistics.Project` so we can create some data to work with."
   ]
  },
  {
   "cell_type": "code",
   "execution_count": 26,
   "id": "81d4f04a-1ed3-43a0-8a82-dbfbe4c14cf3",
   "metadata": {},
   "outputs": [
    {
     "data": {
      "application/vnd.jupyter.widget-view+json": {
       "model_id": "7860e7682ab84280a23a973fc7fad673",
       "version_major": 2,
       "version_minor": 0
      },
      "text/plain": []
     },
     "metadata": {},
     "output_type": "display_data"
    }
   ],
   "source": [
    "from pyiron_ontology import AtomisticsReasoner\n",
    "from pyiron_atomistics import Project\n",
    "import numpy as np"
   ]
  },
  {
   "cell_type": "code",
   "execution_count": 27,
   "id": "3f284ae6-0e17-42ab-9c77-e27f54efe07c",
   "metadata": {},
   "outputs": [],
   "source": [
    "reasoner = AtomisticsReasoner(onto) "
   ]
  },
  {
   "cell_type": "markdown",
   "id": "bb438c65-aa3f-4c1a-be77-6adb0304309f",
   "metadata": {},
   "source": [
    "First, we'll use the reasoner to automatically build a tree of possible workflows that all end in the generation of a particular parameter:"
   ]
  },
  {
   "cell_type": "code",
   "execution_count": 28,
   "id": "a517d788-b88e-40e7-823d-c8fca78f185c",
   "metadata": {},
   "outputs": [
    {
     "name": "stdout",
     "output_type": "stream",
     "text": [
      "(Target, Executable, Req. Inputs) (note: Target == None --> Use the Executable as input)\n",
      "\n",
      "(pyiron.Murnaghan/output/equilibrium_bulk_modulus, pyiron.Murnaghan, [pyiron.Murnaghan/ref_job])\n",
      "\t(None, pyiron.VASP, [pyiron.VASP/input/structure])\n",
      "\t\t(pyiron.CreateStructureBulk/output/structure, pyiron.CreateStructureBulk, [pyiron.CreateStructureBulk/input/element])\n",
      "\t\t\tUser input\n",
      "\t(None, pyiron.LAMMPS, [pyiron.LAMMPS/input/structure])\n",
      "\t\t(pyiron.CreateStructureBulk/output/structure, pyiron.CreateStructureBulk, [pyiron.CreateStructureBulk/input/element])\n",
      "\t\t\tUser input\n"
     ]
    }
   ],
   "source": [
    "bulk_modulus_worflows = reasoner.build_tree(onto.Bulk_modulus)\n",
    "bulk_modulus_worflows.render()"
   ]
  },
  {
   "cell_type": "markdown",
   "id": "6885ca20-2375-4e3f-8bff-b088b8ad2129",
   "metadata": {},
   "source": [
    "Next, we'll produce some data and then use the a tool on the reasoner to search over it for data that matches a particular ontological property.\n",
    "\n",
    "First, we'll need to produce some data to search over. In this case, let's calculate the bulk modulus for a couple of alloys with varying Nickle content. On a single-core laptop, this might take two or three minutes."
   ]
  },
  {
   "cell_type": "code",
   "execution_count": 29,
   "id": "02c6daf2-3982-4d54-b168-8265ab845f6c",
   "metadata": {},
   "outputs": [
    {
     "name": "stdin",
     "output_type": "stream",
     "text": [
      "Are you sure you want to delete all jobs from 'example'? y/(n) y\n"
     ]
    }
   ],
   "source": [
    "pr = Project('example')\n",
    "pr.remove_jobs(recursive=True)"
   ]
  },
  {
   "cell_type": "code",
   "execution_count": 30,
   "id": "02c36634-bedb-40e9-904a-3d813c54f881",
   "metadata": {
    "collapsed": true,
    "jupyter": {
     "outputs_hidden": true
    },
    "tags": []
   },
   "outputs": [
    {
     "name": "stdout",
     "output_type": "stream",
     "text": [
      "The job Murn_hostAl_frac0d00 was saved and received the ID: 274\n",
      "The job Murn_hostAl_frac0d00_0_9 was saved and received the ID: 275\n",
      "The job Murn_hostAl_frac0d00_0_9333333 was saved and received the ID: 276\n",
      "The job Murn_hostAl_frac0d00_0_9666667 was saved and received the ID: 277\n",
      "The job Murn_hostAl_frac0d00_1_0 was saved and received the ID: 278\n",
      "The job Murn_hostAl_frac0d00_1_0333333 was saved and received the ID: 279\n",
      "The job Murn_hostAl_frac0d00_1_0666667 was saved and received the ID: 280\n",
      "The job Murn_hostAl_frac0d00_1_1 was saved and received the ID: 281\n",
      "The job Murn_hostAl_frac0d10 was saved and received the ID: 282\n",
      "The job Murn_hostAl_frac0d10_0_9 was saved and received the ID: 283\n",
      "The job Murn_hostAl_frac0d10_0_9333333 was saved and received the ID: 284\n",
      "The job Murn_hostAl_frac0d10_0_9666667 was saved and received the ID: 285\n",
      "The job Murn_hostAl_frac0d10_1_0 was saved and received the ID: 286\n",
      "The job Murn_hostAl_frac0d10_1_0333333 was saved and received the ID: 287\n",
      "The job Murn_hostAl_frac0d10_1_0666667 was saved and received the ID: 288\n",
      "The job Murn_hostAl_frac0d10_1_1 was saved and received the ID: 289\n",
      "The job Murn_hostAl_frac0d25 was saved and received the ID: 290\n",
      "The job Murn_hostAl_frac0d25_0_9 was saved and received the ID: 291\n",
      "The job Murn_hostAl_frac0d25_0_9333333 was saved and received the ID: 292\n",
      "The job Murn_hostAl_frac0d25_0_9666667 was saved and received the ID: 293\n",
      "The job Murn_hostAl_frac0d25_1_0 was saved and received the ID: 294\n",
      "The job Murn_hostAl_frac0d25_1_0333333 was saved and received the ID: 295\n",
      "The job Murn_hostAl_frac0d25_1_0666667 was saved and received the ID: 296\n",
      "The job Murn_hostAl_frac0d25_1_1 was saved and received the ID: 297\n"
     ]
    },
    {
     "name": "stderr",
     "output_type": "stream",
     "text": [
      "2023-01-20 15:28:33,975 - pyiron_log - WARNING - Minimum could not be found!\n"
     ]
    },
    {
     "name": "stdout",
     "output_type": "stream",
     "text": [
      "The job Murn_hostCu_frac0d00 was saved and received the ID: 298\n",
      "The job Murn_hostCu_frac0d00_0_9 was saved and received the ID: 299\n",
      "The job Murn_hostCu_frac0d00_0_9333333 was saved and received the ID: 300\n",
      "The job Murn_hostCu_frac0d00_0_9666667 was saved and received the ID: 301\n",
      "The job Murn_hostCu_frac0d00_1_0 was saved and received the ID: 302\n",
      "The job Murn_hostCu_frac0d00_1_0333333 was saved and received the ID: 303\n",
      "The job Murn_hostCu_frac0d00_1_0666667 was saved and received the ID: 304\n",
      "The job Murn_hostCu_frac0d00_1_1 was saved and received the ID: 305\n",
      "The job Murn_hostCu_frac0d10 was saved and received the ID: 306\n",
      "The job Murn_hostCu_frac0d10_0_9 was saved and received the ID: 307\n",
      "The job Murn_hostCu_frac0d10_0_9333333 was saved and received the ID: 308\n",
      "The job Murn_hostCu_frac0d10_0_9666667 was saved and received the ID: 309\n",
      "The job Murn_hostCu_frac0d10_1_0 was saved and received the ID: 310\n",
      "The job Murn_hostCu_frac0d10_1_0333333 was saved and received the ID: 311\n",
      "The job Murn_hostCu_frac0d10_1_0666667 was saved and received the ID: 312\n",
      "The job Murn_hostCu_frac0d10_1_1 was saved and received the ID: 313\n",
      "The job Murn_hostCu_frac0d25 was saved and received the ID: 314\n",
      "The job Murn_hostCu_frac0d25_0_9 was saved and received the ID: 315\n",
      "The job Murn_hostCu_frac0d25_0_9333333 was saved and received the ID: 316\n",
      "The job Murn_hostCu_frac0d25_0_9666667 was saved and received the ID: 317\n",
      "The job Murn_hostCu_frac0d25_1_0 was saved and received the ID: 318\n",
      "The job Murn_hostCu_frac0d25_1_0333333 was saved and received the ID: 319\n",
      "The job Murn_hostCu_frac0d25_1_0666667 was saved and received the ID: 320\n",
      "The job Murn_hostCu_frac0d25_1_1 was saved and received the ID: 321\n"
     ]
    }
   ],
   "source": [
    "for host in ['Al', 'Cu']:\n",
    "    for frac in [0., 0.10, 0.25]:\n",
    "        ref = pr.atomistics.job.Lammps(f\"Lammps_host{host}_frac{frac:.2f}\".replace(\".\", \"d\"))\n",
    "        ref.structure = pr.atomistics.structure.bulk(host, cubic=True).repeat(3)\n",
    "        random_ids = np.random.choice(\n",
    "            np.arange(len(ref.structure), dtype=int), \n",
    "            int(frac * len(ref.structure))\n",
    "        )\n",
    "        ref.structure[random_ids] = \"Ni\"\n",
    "        ref.potential = ref.list_potentials()[0]\n",
    "\n",
    "        murn = pr.atomistics.job.Murnaghan(f\"Murn_host{host}_frac{frac:.2f}\".replace(\".\", \"d\"))\n",
    "        murn.input['num_points']=7\n",
    "        murn.ref_job = ref\n",
    "        murn.run()"
   ]
  },
  {
   "cell_type": "markdown",
   "id": "7c20eac0-3bf0-45ed-8651-bc4544184885",
   "metadata": {},
   "source": [
    "Now let's search the pyiron database for instances of some of our physically-meaningful properties:"
   ]
  },
  {
   "cell_type": "code",
   "execution_count": 31,
   "id": "33bd612c-b761-4490-ab19-2e6e503d88a8",
   "metadata": {},
   "outputs": [
    {
     "data": {
      "text/html": [
       "<div>\n",
       "<style scoped>\n",
       "    .dataframe tbody tr th:only-of-type {\n",
       "        vertical-align: middle;\n",
       "    }\n",
       "\n",
       "    .dataframe tbody tr th {\n",
       "        vertical-align: top;\n",
       "    }\n",
       "\n",
       "    .dataframe thead th {\n",
       "        text-align: right;\n",
       "    }\n",
       "</style>\n",
       "<table border=\"1\" class=\"dataframe\">\n",
       "  <thead>\n",
       "    <tr style=\"text-align: right;\">\n",
       "      <th></th>\n",
       "      <th>Chemical Formula</th>\n",
       "      <th>Bulk_modulus [MPa]</th>\n",
       "      <th>Engine</th>\n",
       "    </tr>\n",
       "  </thead>\n",
       "  <tbody>\n",
       "    <tr>\n",
       "      <th>0</th>\n",
       "      <td>Al108</td>\n",
       "      <td>81146.527225</td>\n",
       "      <td>Lammps</td>\n",
       "    </tr>\n",
       "    <tr>\n",
       "      <th>1</th>\n",
       "      <td>Al98Ni10</td>\n",
       "      <td>85981.780141</td>\n",
       "      <td>Lammps</td>\n",
       "    </tr>\n",
       "    <tr>\n",
       "      <th>2</th>\n",
       "      <td>Al86Ni22</td>\n",
       "      <td>NaN</td>\n",
       "      <td>Lammps</td>\n",
       "    </tr>\n",
       "    <tr>\n",
       "      <th>3</th>\n",
       "      <td>Cu108</td>\n",
       "      <td>141955.804050</td>\n",
       "      <td>Lammps</td>\n",
       "    </tr>\n",
       "    <tr>\n",
       "      <th>4</th>\n",
       "      <td>Cu99Ni9</td>\n",
       "      <td>146404.417486</td>\n",
       "      <td>Lammps</td>\n",
       "    </tr>\n",
       "    <tr>\n",
       "      <th>5</th>\n",
       "      <td>Cu84Ni24</td>\n",
       "      <td>150269.234954</td>\n",
       "      <td>Lammps</td>\n",
       "    </tr>\n",
       "  </tbody>\n",
       "</table>\n",
       "</div>"
      ],
      "text/plain": [
       "  Chemical Formula  Bulk_modulus [MPa]  Engine\n",
       "0            Al108        81146.527225  Lammps\n",
       "1         Al98Ni10        85981.780141  Lammps\n",
       "2         Al86Ni22                 NaN  Lammps\n",
       "3            Cu108       141955.804050  Lammps\n",
       "4          Cu99Ni9       146404.417486  Lammps\n",
       "5         Cu84Ni24       150269.234954  Lammps"
      ]
     },
     "execution_count": 31,
     "metadata": {},
     "output_type": "execute_result"
    }
   ],
   "source": [
    "reasoner.search_database_for_property(onto.Bulk_modulus, pr)"
   ]
  },
  {
   "cell_type": "markdown",
   "id": "b3afd055-59b5-4f0f-84b3-d2d7e7824575",
   "metadata": {},
   "source": [
    "We can also filter our search by chemistry:"
   ]
  },
  {
   "cell_type": "code",
   "execution_count": 32,
   "id": "53793bba-bec3-41df-806a-63642e4ba39d",
   "metadata": {},
   "outputs": [
    {
     "data": {
      "text/html": [
       "<div>\n",
       "<style scoped>\n",
       "    .dataframe tbody tr th:only-of-type {\n",
       "        vertical-align: middle;\n",
       "    }\n",
       "\n",
       "    .dataframe tbody tr th {\n",
       "        vertical-align: top;\n",
       "    }\n",
       "\n",
       "    .dataframe thead th {\n",
       "        text-align: right;\n",
       "    }\n",
       "</style>\n",
       "<table border=\"1\" class=\"dataframe\">\n",
       "  <thead>\n",
       "    <tr style=\"text-align: right;\">\n",
       "      <th></th>\n",
       "      <th>Chemical Formula</th>\n",
       "      <th>B_prime [1]</th>\n",
       "      <th>Engine</th>\n",
       "    </tr>\n",
       "  </thead>\n",
       "  <tbody>\n",
       "    <tr>\n",
       "      <th>0</th>\n",
       "      <td>Cu108</td>\n",
       "      <td>4.394886</td>\n",
       "      <td>Lammps</td>\n",
       "    </tr>\n",
       "    <tr>\n",
       "      <th>1</th>\n",
       "      <td>Cu99Ni9</td>\n",
       "      <td>4.497053</td>\n",
       "      <td>Lammps</td>\n",
       "    </tr>\n",
       "    <tr>\n",
       "      <th>2</th>\n",
       "      <td>Cu84Ni24</td>\n",
       "      <td>3.649895</td>\n",
       "      <td>Lammps</td>\n",
       "    </tr>\n",
       "  </tbody>\n",
       "</table>\n",
       "</div>"
      ],
      "text/plain": [
       "  Chemical Formula  B_prime [1]  Engine\n",
       "0            Cu108     4.394886  Lammps\n",
       "1          Cu99Ni9     4.497053  Lammps\n",
       "2         Cu84Ni24     3.649895  Lammps"
      ]
     },
     "execution_count": 32,
     "metadata": {},
     "output_type": "execute_result"
    }
   ],
   "source": [
    "reasoner.search_database_for_property(onto.B_prime, pr, select_alloy=\"Cu\")"
   ]
  },
  {
   "cell_type": "markdown",
   "id": "200790a7-46ee-4f9b-bcb4-302dcfdad8b6",
   "metadata": {},
   "source": [
    "# Cleanup"
   ]
  },
  {
   "cell_type": "code",
   "execution_count": 33,
   "id": "3aea218a-9c08-449e-83c6-dbfc9799ed88",
   "metadata": {},
   "outputs": [
    {
     "name": "stderr",
     "output_type": "stream",
     "text": [
      "<ipython-input-33-18562755bd1e>:1: DeprecationWarning: pyiron_base.project.generic.remove_jobs_silently is deprecated: Use pr.remove_jobs(silently=True) rather than pr.remove_jobs_silently()..\n",
      "  pr.remove_jobs_silently(recursive=True)\n"
     ]
    },
    {
     "data": {
      "application/vnd.jupyter.widget-view+json": {
       "model_id": "645deb57fe6b4f4cafd1d8505336ef49",
       "version_major": 2,
       "version_minor": 0
      },
      "text/plain": [
       "  0%|          | 0/48 [00:00<?, ?it/s]"
      ]
     },
     "metadata": {},
     "output_type": "display_data"
    }
   ],
   "source": [
    "pr.remove_jobs_silently(recursive=True)\n",
    "pr.remove(enable=True)"
   ]
  },
  {
   "cell_type": "code",
   "execution_count": null,
   "id": "d9eecd65-fabb-4ae5-b2d2-beaf8fdacd71",
   "metadata": {},
   "outputs": [],
   "source": []
  }
 ],
 "metadata": {
  "kernelspec": {
   "display_name": "Python 3",
   "language": "python",
   "name": "python3"
  },
  "language_info": {
   "codemirror_mode": {
    "name": "ipython",
    "version": 3
   },
   "file_extension": ".py",
   "mimetype": "text/x-python",
   "name": "python",
   "nbconvert_exporter": "python",
   "pygments_lexer": "ipython3",
   "version": "3.8.8"
  }
 },
 "nbformat": 4,
 "nbformat_minor": 5
}
