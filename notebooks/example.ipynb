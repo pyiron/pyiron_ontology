{
 "cells": [
  {
   "cell_type": "markdown",
   "id": "97eb3a60-0af1-4f59-9dd6-0be8dfde93e6",
   "metadata": {},
   "source": [
    "# Introduction\n",
    "\n",
    "`pyiron_ontology` uses the `owlready2` library to build up pyiron-specific ontologies, and provides some extra tools to help you leverage these.\n",
    "\n",
    "At present, the only ontology implemented is for the realm of atomistic calculations, and the scope of this ontology is still fairly limited.\n",
    "\n",
    "First, let's import the ontology (an `owlready2.namespace.Ontology` object we define in the `pyiron_atomistics` repository on GitHub"
   ]
  },
  {
   "cell_type": "code",
   "execution_count": 1,
   "id": "8c7000fd-0c77-4b8a-b1fc-8abde3bfe3b0",
   "metadata": {},
   "outputs": [],
   "source": [
    "from pyiron_ontology import atomistics_onto as onto"
   ]
  },
  {
   "cell_type": "markdown",
   "id": "84ab7a12-d976-4e24-aaf8-ccfe6b553def",
   "metadata": {},
   "source": [
    "We can look at various properties of the ontology, just like other owl ontologies, e.g. the classes and individuals defined in this space:"
   ]
  },
  {
   "cell_type": "code",
   "execution_count": 2,
   "id": "29b57b66-a385-4fbc-9429-0c89638b838d",
   "metadata": {},
   "outputs": [
    {
     "data": {
      "text/plain": [
       "[pyiron_atomistics.PyObject,\n",
       " pyiron_atomistics.Parameter,\n",
       " pyiron_atomistics.InputParameter,\n",
       " pyiron_atomistics.OutputParameter,\n",
       " pyiron_atomistics.GenericParameter,\n",
       " pyiron_atomistics.Code,\n",
       " pyiron_atomistics.Label]"
      ]
     },
     "execution_count": 2,
     "metadata": {},
     "output_type": "execute_result"
    }
   ],
   "source": [
    "list(onto.classes())"
   ]
  },
  {
   "cell_type": "code",
   "execution_count": 3,
   "id": "aff4fb1a-b2e6-469d-b2a1-5b42f1b2faf3",
   "metadata": {},
   "outputs": [
    {
     "data": {
      "text/plain": [
       "[pyiron_atomistics.Atomistic,\n",
       " pyiron_atomistics.lCode,\n",
       " pyiron_atomistics.DFT,\n",
       " pyiron_atomistics.MaterialProperty,\n",
       " pyiron_atomistics.PeriodicBoundaryConditions,\n",
       " pyiron_atomistics.UserInput,\n",
       " pyiron_atomistics.Bulk3dStructure,\n",
       " pyiron_atomistics.AtomisticEnergyCalculator,\n",
       " pyiron_atomistics.ChemicalElement,\n",
       " pyiron_atomistics.AtomicStructure,\n",
       " pyiron_atomistics.Executable,\n",
       " pyiron_atomistics.Flag,\n",
       " pyiron_atomistics.CreateStructureBulk,\n",
       " pyiron_atomistics.CreateStructureBulk/input/element,\n",
       " pyiron_atomistics.CreateStructureBulk/output/structure,\n",
       " pyiron_atomistics.CreateSurface,\n",
       " pyiron_atomistics.CreateSurface/input/element,\n",
       " pyiron_atomistics.CreateSurface/output/structure,\n",
       " pyiron_atomistics.Bulk_modulus,\n",
       " pyiron_atomistics.B_prime,\n",
       " pyiron_atomistics.Murnaghan,\n",
       " pyiron_atomistics.Murnaghan/output/equilibrium_bulk_modulus,\n",
       " pyiron_atomistics.Murnaghan/output/equilibrium_b_prime,\n",
       " pyiron_atomistics.Murnaghan/ref_job,\n",
       " pyiron_atomistics.EnergyCutoff,\n",
       " pyiron_atomistics.VASP,\n",
       " pyiron_atomistics.ENCUT,\n",
       " pyiron_atomistics.IBRION,\n",
       " pyiron_atomistics.VASP/input/structure,\n",
       " pyiron_atomistics.ETOT,\n",
       " pyiron_atomistics.LAMMPS,\n",
       " pyiron_atomistics.LAMMPS/input/structure]"
      ]
     },
     "execution_count": 3,
     "metadata": {},
     "output_type": "execute_result"
    }
   ],
   "source": [
    "list(onto.individuals())"
   ]
  },
  {
   "cell_type": "markdown",
   "id": "c9b41d5b-1e6c-40df-ab96-4b45d5b2d626",
   "metadata": {},
   "source": [
    "We can make the usual owlready queries of these objects, e.g."
   ]
  },
  {
   "cell_type": "code",
   "execution_count": 4,
   "id": "6318547e-7345-4e1a-82f1-a6cf47f245d6",
   "metadata": {},
   "outputs": [
    {
     "data": {
      "text/plain": [
       "[pyiron_atomistics.Atomistic, pyiron_atomistics.lCode, pyiron_atomistics.DFT]"
      ]
     },
     "execution_count": 4,
     "metadata": {},
     "output_type": "execute_result"
    }
   ],
   "source": [
    "onto.VASP.domain"
   ]
  },
  {
   "cell_type": "code",
   "execution_count": 5,
   "id": "e86f526d-0c69-4e2e-9ae1-018ccd78d23a",
   "metadata": {},
   "outputs": [
    {
     "data": {
      "text/plain": [
       "[pyiron_atomistics.Code,\n",
       " pyiron_atomistics.has_conditions.only(owl.Nothing),\n",
       " pyiron_atomistics.has_transitive_conditions.only(owl.Nothing),\n",
       " pyiron_atomistics.has_options.only(OneOf([pyiron_atomistics.Bulk3dStructure, pyiron_atomistics.AtomisticEnergyCalculator])),\n",
       " pyiron_atomistics.is_in_domains.only(OneOf([pyiron_atomistics.Atomistic, pyiron_atomistics.lCode, pyiron_atomistics.DFT])),\n",
       " pyiron_atomistics.has_generic_parameter.only(OneOf([pyiron_atomistics.Executable])),\n",
       " pyiron_atomistics.has_input.only(OneOf([pyiron_atomistics.ENCUT, pyiron_atomistics.IBRION])),\n",
       " pyiron_atomistics.has_mandatory_input.only(OneOf([pyiron_atomistics.VASP/input/structure])),\n",
       " pyiron_atomistics.has_output.only(owl.Nothing)]"
      ]
     },
     "execution_count": 5,
     "metadata": {},
     "output_type": "execute_result"
    }
   ],
   "source": [
    "onto.VASP.is_a"
   ]
  },
  {
   "cell_type": "markdown",
   "id": "dd2b9abf-ac9a-44aa-bd74-6840a2405e10",
   "metadata": {},
   "source": [
    "We can also look into some of the atomistics-specific relationships that have been defined:"
   ]
  },
  {
   "cell_type": "code",
   "execution_count": 6,
   "id": "827238e7-4772-4f94-901e-be17edbad66e",
   "metadata": {},
   "outputs": [
    {
     "data": {
      "text/plain": [
       "[pyiron_atomistics.VASP/input/structure]"
      ]
     },
     "execution_count": 6,
     "metadata": {},
     "output_type": "execute_result"
    }
   ],
   "source": [
    "onto.VASP.mandatory_input"
   ]
  },
  {
   "cell_type": "markdown",
   "id": "9e042ea5-a70a-496c-b51e-efdef37e7fba",
   "metadata": {},
   "source": [
    "and we can chain these queries together in meaningful ways:"
   ]
  },
  {
   "cell_type": "code",
   "execution_count": 7,
   "id": "c1c9359f-a346-4b48-8b8b-a83583801e25",
   "metadata": {},
   "outputs": [
    {
     "name": "stdout",
     "output_type": "stream",
     "text": [
      "some_code pyiron_atomistics.VASP\n",
      "first_input pyiron_atomistics.VASP/input/structure\n",
      "appears_elsewhere [pyiron_atomistics.CreateStructureBulk/output/structure, pyiron_atomistics.CreateSurface/output/structure, pyiron_atomistics.VASP/input/structure, pyiron_atomistics.LAMMPS/input/structure]\n",
      "can_come_from [pyiron_atomistics.CreateStructureBulk/output/structure]\n",
      "which_is_produced_by [pyiron_atomistics.CreateStructureBulk]\n"
     ]
    }
   ],
   "source": [
    "some_code = onto.VASP\n",
    "first_input = some_code.mandatory_input[0]\n",
    "appears_elsewhere = first_input.generic_parameter[0].has_parameters\n",
    "can_come_from = first_input.get_sources(first_input.get_all_conditions())\n",
    "which_is_produced_by = can_come_from[0].output_of\n",
    "print('some_code', some_code)\n",
    "print('first_input', first_input)\n",
    "print('appears_elsewhere', appears_elsewhere)\n",
    "print('can_come_from', can_come_from)\n",
    "print('which_is_produced_by', which_is_produced_by)"
   ]
  },
  {
   "cell_type": "markdown",
   "id": "47b26d66-fd19-4605-b2ea-1203d472dfa2",
   "metadata": {},
   "source": [
    "This is powerful, but can be a bit unwieldly. \n",
    "\n",
    "`pyiron_ontology` also comes with helper tool for building this sort of chain, or \"workflow\" automatically."
   ]
  },
  {
   "cell_type": "code",
   "execution_count": 8,
   "id": "94c0fa93-33dc-4377-b9e7-dd628040187b",
   "metadata": {},
   "outputs": [],
   "source": [
    "from pyiron_ontology import build_atomistics_tree as build_tree"
   ]
  },
  {
   "cell_type": "markdown",
   "id": "c80eabee-61a5-4096-ae0b-fc6f6824349d",
   "metadata": {},
   "source": [
    "First, let's see all the possible chains for getting input to a Lammps calculation:"
   ]
  },
  {
   "cell_type": "code",
   "execution_count": 9,
   "id": "91f9f3af-c72e-4467-b0bc-52a511805235",
   "metadata": {},
   "outputs": [
    {
     "name": "stdout",
     "output_type": "stream",
     "text": [
      "pyiron_atomistics.LAMMPS\n",
      "\tpyiron_atomistics.LAMMPS/input/structure\n",
      "\t\tpyiron_atomistics.CreateStructureBulk/output/structure\n",
      "\t\t\tpyiron_atomistics.CreateStructureBulk\n",
      "\t\t\t\tpyiron_atomistics.CreateStructureBulk/input/element\n",
      "\t\tpyiron_atomistics.CreateSurface/output/structure\n",
      "\t\t\tpyiron_atomistics.CreateSurface\n",
      "\t\t\t\tpyiron_atomistics.CreateSurface/input/element\n"
     ]
    }
   ],
   "source": [
    "build_tree(onto.LAMMPS).render()"
   ]
  },
  {
   "cell_type": "markdown",
   "id": "5aaea0f0-5244-4f3f-b40a-8a8b494f518d",
   "metadata": {},
   "source": [
    "This tool also passes conditions transitively down. For instance, we see above that Lammps can take either bulk-like or non-bulk-like structure input. Instead of querying the ontology about what's needed to run a particular code, let's ask for a workflow to produce a particular material property: the bulk modulus. In this case, we know the workflow only makes sense if the structures going into it are bulk-like!\n",
    "\n",
    "When we ask for this workflow, we again see Lammps coming up as part of our tree, but now we see that it is precluded from taking surface structures because the condition for a bulk-like structure got passed down through our workflow!"
   ]
  },
  {
   "cell_type": "code",
   "execution_count": 10,
   "id": "97deb339-a99c-4e37-b452-e2f4d722b412",
   "metadata": {},
   "outputs": [
    {
     "name": "stdout",
     "output_type": "stream",
     "text": [
      "pyiron_atomistics.Bulk_modulus\n",
      "\tpyiron_atomistics.Murnaghan/output/equilibrium_bulk_modulus\n",
      "\t\tpyiron_atomistics.Murnaghan\n",
      "\t\t\tpyiron_atomistics.Murnaghan/ref_job\n",
      "\t\t\t\tpyiron_atomistics.VASP\n",
      "\t\t\t\t\tpyiron_atomistics.VASP/input/structure\n",
      "\t\t\t\tpyiron_atomistics.LAMMPS\n",
      "\t\t\t\t\tpyiron_atomistics.LAMMPS/input/structure\n"
     ]
    }
   ],
   "source": [
    "build_tree(onto.Bulk_modulus).render()"
   ]
  },
  {
   "cell_type": "markdown",
   "id": "ce0eb416-0c33-48a0-b111-5493cbec22b8",
   "metadata": {},
   "source": [
    "We also have tools for leveraging the ontology to search through existing pyiron data in your storage and database \n",
    "\n",
    "Here we'll need import `pyiron_atomistics.Project` so we can create some data to work with."
   ]
  },
  {
   "cell_type": "code",
   "execution_count": 11,
   "id": "81d4f04a-1ed3-43a0-8a82-dbfbe4c14cf3",
   "metadata": {},
   "outputs": [
    {
     "data": {
      "application/vnd.jupyter.widget-view+json": {
       "model_id": "111c342cce664d3aa3d1e7295d43f574",
       "version_major": 2,
       "version_minor": 0
      },
      "text/plain": []
     },
     "metadata": {},
     "output_type": "display_data"
    }
   ],
   "source": [
    "from pyiron_ontology import AtomisticsReasoner\n",
    "from pyiron_atomistics import Project\n",
    "import numpy as np"
   ]
  },
  {
   "cell_type": "code",
   "execution_count": 12,
   "id": "3f284ae6-0e17-42ab-9c77-e27f54efe07c",
   "metadata": {},
   "outputs": [],
   "source": [
    "reasoner = AtomisticsReasoner(onto) "
   ]
  },
  {
   "cell_type": "markdown",
   "id": "6885ca20-2375-4e3f-8bff-b088b8ad2129",
   "metadata": {},
   "source": [
    "Next, we'll produce some data and then use the a tool on the reasoner to search over it for data that matches a particular ontological property.\n",
    "\n",
    "First, we'll need to produce some data to search over. In this case, let's calculate the bulk modulus for a couple of alloys with varying Nickle content. On a single-core laptop, this might take two or three minutes."
   ]
  },
  {
   "cell_type": "code",
   "execution_count": 13,
   "id": "02c6daf2-3982-4d54-b168-8265ab845f6c",
   "metadata": {},
   "outputs": [
    {
     "name": "stdin",
     "output_type": "stream",
     "text": [
      "Are you sure you want to delete all jobs from 'example'? y/(n) y\n"
     ]
    }
   ],
   "source": [
    "pr = Project('example')\n",
    "pr.remove_jobs(recursive=True)"
   ]
  },
  {
   "cell_type": "code",
   "execution_count": 14,
   "id": "02c36634-bedb-40e9-904a-3d813c54f881",
   "metadata": {
    "tags": []
   },
   "outputs": [
    {
     "name": "stdout",
     "output_type": "stream",
     "text": [
      "The job Murn_hostAl_frac0d00 was saved and received the ID: 316\n",
      "The job Murn_hostAl_frac0d00_0_9 was saved and received the ID: 317\n",
      "The job Murn_hostAl_frac0d00_0_9333333 was saved and received the ID: 318\n",
      "The job Murn_hostAl_frac0d00_0_9666667 was saved and received the ID: 319\n",
      "The job Murn_hostAl_frac0d00_1_0 was saved and received the ID: 320\n",
      "The job Murn_hostAl_frac0d00_1_0333333 was saved and received the ID: 321\n",
      "The job Murn_hostAl_frac0d00_1_0666667 was saved and received the ID: 322\n",
      "The job Murn_hostAl_frac0d00_1_1 was saved and received the ID: 323\n",
      "The job Murn_hostAl_frac0d10 was saved and received the ID: 324\n",
      "The job Murn_hostAl_frac0d10_0_9 was saved and received the ID: 325\n",
      "The job Murn_hostAl_frac0d10_0_9333333 was saved and received the ID: 326\n",
      "The job Murn_hostAl_frac0d10_0_9666667 was saved and received the ID: 327\n",
      "The job Murn_hostAl_frac0d10_1_0 was saved and received the ID: 328\n",
      "The job Murn_hostAl_frac0d10_1_0333333 was saved and received the ID: 329\n",
      "The job Murn_hostAl_frac0d10_1_0666667 was saved and received the ID: 330\n",
      "The job Murn_hostAl_frac0d10_1_1 was saved and received the ID: 331\n",
      "The job Murn_hostAl_frac0d25 was saved and received the ID: 332\n",
      "The job Murn_hostAl_frac0d25_0_9 was saved and received the ID: 333\n",
      "The job Murn_hostAl_frac0d25_0_9333333 was saved and received the ID: 334\n",
      "The job Murn_hostAl_frac0d25_0_9666667 was saved and received the ID: 335\n",
      "The job Murn_hostAl_frac0d25_1_0 was saved and received the ID: 336\n",
      "The job Murn_hostAl_frac0d25_1_0333333 was saved and received the ID: 337\n",
      "The job Murn_hostAl_frac0d25_1_0666667 was saved and received the ID: 338\n",
      "The job Murn_hostAl_frac0d25_1_1 was saved and received the ID: 339\n"
     ]
    },
    {
     "name": "stderr",
     "output_type": "stream",
     "text": [
      "2023-01-25 12:46:20,393 - pyiron_log - WARNING - Minimum could not be found!\n"
     ]
    },
    {
     "name": "stdout",
     "output_type": "stream",
     "text": [
      "The job Murn_hostCu_frac0d00 was saved and received the ID: 340\n",
      "The job Murn_hostCu_frac0d00_0_9 was saved and received the ID: 341\n",
      "The job Murn_hostCu_frac0d00_0_9333333 was saved and received the ID: 342\n",
      "The job Murn_hostCu_frac0d00_0_9666667 was saved and received the ID: 343\n",
      "The job Murn_hostCu_frac0d00_1_0 was saved and received the ID: 344\n",
      "The job Murn_hostCu_frac0d00_1_0333333 was saved and received the ID: 345\n",
      "The job Murn_hostCu_frac0d00_1_0666667 was saved and received the ID: 346\n",
      "The job Murn_hostCu_frac0d00_1_1 was saved and received the ID: 347\n",
      "The job Murn_hostCu_frac0d10 was saved and received the ID: 348\n",
      "The job Murn_hostCu_frac0d10_0_9 was saved and received the ID: 349\n",
      "The job Murn_hostCu_frac0d10_0_9333333 was saved and received the ID: 350\n",
      "The job Murn_hostCu_frac0d10_0_9666667 was saved and received the ID: 351\n",
      "The job Murn_hostCu_frac0d10_1_0 was saved and received the ID: 352\n",
      "The job Murn_hostCu_frac0d10_1_0333333 was saved and received the ID: 353\n",
      "The job Murn_hostCu_frac0d10_1_0666667 was saved and received the ID: 354\n",
      "The job Murn_hostCu_frac0d10_1_1 was saved and received the ID: 355\n",
      "The job Murn_hostCu_frac0d25 was saved and received the ID: 356\n",
      "The job Murn_hostCu_frac0d25_0_9 was saved and received the ID: 357\n",
      "The job Murn_hostCu_frac0d25_0_9333333 was saved and received the ID: 358\n",
      "The job Murn_hostCu_frac0d25_0_9666667 was saved and received the ID: 359\n",
      "The job Murn_hostCu_frac0d25_1_0 was saved and received the ID: 360\n",
      "The job Murn_hostCu_frac0d25_1_0333333 was saved and received the ID: 361\n",
      "The job Murn_hostCu_frac0d25_1_0666667 was saved and received the ID: 362\n",
      "The job Murn_hostCu_frac0d25_1_1 was saved and received the ID: 363\n"
     ]
    }
   ],
   "source": [
    "for host in ['Al', 'Cu']:\n",
    "    for frac in [0., 0.10, 0.25]:\n",
    "        ref = pr.atomistics.job.Lammps(f\"Lammps_host{host}_frac{frac:.2f}\".replace(\".\", \"d\"))\n",
    "        ref.structure = pr.atomistics.structure.bulk(host, cubic=True).repeat(3)\n",
    "        random_ids = np.random.choice(\n",
    "            np.arange(len(ref.structure), dtype=int), \n",
    "            int(frac * len(ref.structure))\n",
    "        )\n",
    "        ref.structure[random_ids] = \"Ni\"\n",
    "        ref.potential = ref.list_potentials()[0]\n",
    "\n",
    "        murn = pr.atomistics.job.Murnaghan(f\"Murn_host{host}_frac{frac:.2f}\".replace(\".\", \"d\"))\n",
    "        murn.input['num_points']=7\n",
    "        murn.ref_job = ref\n",
    "        murn.run()"
   ]
  },
  {
   "cell_type": "markdown",
   "id": "7c20eac0-3bf0-45ed-8651-bc4544184885",
   "metadata": {},
   "source": [
    "Now let's search the pyiron database for instances of some of our physically-meaningful properties:"
   ]
  },
  {
   "cell_type": "code",
   "execution_count": 15,
   "id": "33bd612c-b761-4490-ab19-2e6e503d88a8",
   "metadata": {},
   "outputs": [
    {
     "data": {
      "text/html": [
       "<div>\n",
       "<style scoped>\n",
       "    .dataframe tbody tr th:only-of-type {\n",
       "        vertical-align: middle;\n",
       "    }\n",
       "\n",
       "    .dataframe tbody tr th {\n",
       "        vertical-align: top;\n",
       "    }\n",
       "\n",
       "    .dataframe thead th {\n",
       "        text-align: right;\n",
       "    }\n",
       "</style>\n",
       "<table border=\"1\" class=\"dataframe\">\n",
       "  <thead>\n",
       "    <tr style=\"text-align: right;\">\n",
       "      <th></th>\n",
       "      <th>Chemical Formula</th>\n",
       "      <th>Bulk_modulus [MPa]</th>\n",
       "      <th>Engine</th>\n",
       "    </tr>\n",
       "  </thead>\n",
       "  <tbody>\n",
       "    <tr>\n",
       "      <th>0</th>\n",
       "      <td>Al108</td>\n",
       "      <td>81146.527225</td>\n",
       "      <td>Lammps</td>\n",
       "    </tr>\n",
       "    <tr>\n",
       "      <th>1</th>\n",
       "      <td>Al99Ni9</td>\n",
       "      <td>85624.607595</td>\n",
       "      <td>Lammps</td>\n",
       "    </tr>\n",
       "    <tr>\n",
       "      <th>2</th>\n",
       "      <td>Al83Ni25</td>\n",
       "      <td>NaN</td>\n",
       "      <td>Lammps</td>\n",
       "    </tr>\n",
       "    <tr>\n",
       "      <th>3</th>\n",
       "      <td>Cu108</td>\n",
       "      <td>141955.804050</td>\n",
       "      <td>Lammps</td>\n",
       "    </tr>\n",
       "    <tr>\n",
       "      <th>4</th>\n",
       "      <td>Cu98Ni10</td>\n",
       "      <td>147202.959841</td>\n",
       "      <td>Lammps</td>\n",
       "    </tr>\n",
       "    <tr>\n",
       "      <th>5</th>\n",
       "      <td>Cu84Ni24</td>\n",
       "      <td>149854.281709</td>\n",
       "      <td>Lammps</td>\n",
       "    </tr>\n",
       "  </tbody>\n",
       "</table>\n",
       "</div>"
      ],
      "text/plain": [
       "  Chemical Formula  Bulk_modulus [MPa]  Engine\n",
       "0            Al108        81146.527225  Lammps\n",
       "1          Al99Ni9        85624.607595  Lammps\n",
       "2         Al83Ni25                 NaN  Lammps\n",
       "3            Cu108       141955.804050  Lammps\n",
       "4         Cu98Ni10       147202.959841  Lammps\n",
       "5         Cu84Ni24       149854.281709  Lammps"
      ]
     },
     "execution_count": 15,
     "metadata": {},
     "output_type": "execute_result"
    }
   ],
   "source": [
    "reasoner.search_database_for_property(onto.Bulk_modulus, pr)"
   ]
  },
  {
   "cell_type": "markdown",
   "id": "b3afd055-59b5-4f0f-84b3-d2d7e7824575",
   "metadata": {},
   "source": [
    "We can also filter our search by chemistry:"
   ]
  },
  {
   "cell_type": "code",
   "execution_count": 16,
   "id": "53793bba-bec3-41df-806a-63642e4ba39d",
   "metadata": {},
   "outputs": [
    {
     "data": {
      "text/html": [
       "<div>\n",
       "<style scoped>\n",
       "    .dataframe tbody tr th:only-of-type {\n",
       "        vertical-align: middle;\n",
       "    }\n",
       "\n",
       "    .dataframe tbody tr th {\n",
       "        vertical-align: top;\n",
       "    }\n",
       "\n",
       "    .dataframe thead th {\n",
       "        text-align: right;\n",
       "    }\n",
       "</style>\n",
       "<table border=\"1\" class=\"dataframe\">\n",
       "  <thead>\n",
       "    <tr style=\"text-align: right;\">\n",
       "      <th></th>\n",
       "      <th>Chemical Formula</th>\n",
       "      <th>B_prime [1]</th>\n",
       "      <th>Engine</th>\n",
       "    </tr>\n",
       "  </thead>\n",
       "  <tbody>\n",
       "    <tr>\n",
       "      <th>0</th>\n",
       "      <td>Cu108</td>\n",
       "      <td>4.394886</td>\n",
       "      <td>Lammps</td>\n",
       "    </tr>\n",
       "    <tr>\n",
       "      <th>1</th>\n",
       "      <td>Cu98Ni10</td>\n",
       "      <td>4.372170</td>\n",
       "      <td>Lammps</td>\n",
       "    </tr>\n",
       "    <tr>\n",
       "      <th>2</th>\n",
       "      <td>Cu84Ni24</td>\n",
       "      <td>3.697843</td>\n",
       "      <td>Lammps</td>\n",
       "    </tr>\n",
       "  </tbody>\n",
       "</table>\n",
       "</div>"
      ],
      "text/plain": [
       "  Chemical Formula  B_prime [1]  Engine\n",
       "0            Cu108     4.394886  Lammps\n",
       "1         Cu98Ni10     4.372170  Lammps\n",
       "2         Cu84Ni24     3.697843  Lammps"
      ]
     },
     "execution_count": 16,
     "metadata": {},
     "output_type": "execute_result"
    }
   ],
   "source": [
    "reasoner.search_database_for_property(onto.B_prime, pr, select_alloy=\"Cu\")"
   ]
  },
  {
   "cell_type": "markdown",
   "id": "200790a7-46ee-4f9b-bcb4-302dcfdad8b6",
   "metadata": {},
   "source": [
    "# Cleanup"
   ]
  },
  {
   "cell_type": "code",
   "execution_count": 17,
   "id": "3aea218a-9c08-449e-83c6-dbfc9799ed88",
   "metadata": {},
   "outputs": [
    {
     "name": "stderr",
     "output_type": "stream",
     "text": [
      "<ipython-input-17-18562755bd1e>:1: DeprecationWarning: pyiron_base.project.generic.remove_jobs_silently is deprecated: Use pr.remove_jobs(silently=True) rather than pr.remove_jobs_silently()..\n",
      "  pr.remove_jobs_silently(recursive=True)\n"
     ]
    },
    {
     "data": {
      "application/vnd.jupyter.widget-view+json": {
       "model_id": "9011eaae3ecc4719b886d3f0446d2742",
       "version_major": 2,
       "version_minor": 0
      },
      "text/plain": [
       "  0%|          | 0/48 [00:00<?, ?it/s]"
      ]
     },
     "metadata": {},
     "output_type": "display_data"
    }
   ],
   "source": [
    "pr.remove_jobs_silently(recursive=True)\n",
    "pr.remove(enable=True)"
   ]
  },
  {
   "cell_type": "code",
   "execution_count": null,
   "id": "d9eecd65-fabb-4ae5-b2d2-beaf8fdacd71",
   "metadata": {},
   "outputs": [],
   "source": []
  }
 ],
 "metadata": {
  "kernelspec": {
   "display_name": "Python 3",
   "language": "python",
   "name": "python3"
  },
  "language_info": {
   "codemirror_mode": {
    "name": "ipython",
    "version": 3
   },
   "file_extension": ".py",
   "mimetype": "text/x-python",
   "name": "python",
   "nbconvert_exporter": "python",
   "pygments_lexer": "ipython3",
   "version": "3.8.8"
  }
 },
 "nbformat": 4,
 "nbformat_minor": 5
}
