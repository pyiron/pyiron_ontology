{
 "cells": [
  {
   "cell_type": "markdown",
   "id": "afb3f9b8-d03b-4034-9d04-6a40083fad8f",
   "metadata": {},
   "source": [
    "# Create prototype owl database for pyiron (proof of concept)"
   ]
  },
  {
   "cell_type": "markdown",
   "id": "67460793-83ea-4fed-8a53-316a82169d7e",
   "metadata": {},
   "source": [
    "Aim: Demonstrate the key steps to build up a simple ontology using owlready2, apply a reasoner and store it in an owl file. I used here owlready since it appears to be presently the only tool where a reasoner is available (which is important for the ontology community). However, it would be easy to realize the same functionality with database tools such as sqlalchemy."
   ]
  },
  {
   "cell_type": "code",
   "execution_count": 1,
   "id": "9afb03f5-6147-46ca-86d6-f3cd2c55b95b",
   "metadata": {},
   "outputs": [],
   "source": [
    "import os\n",
    "\n",
    "import owlready2 as owl\n",
    "import pandas"
   ]
  },
  {
   "cell_type": "markdown",
   "id": "7a3a7811-5c67-4bb2-90f1-9506ade5bbe5",
   "metadata": {},
   "source": [
    "owlready2 depends on Java; you may already have a java executable and you are free to use it instead, but by default we will use the java executable provided by openjdk that was added to your conda environment when you installed pyiron_ontology (if you didn't have openjdk already)."
   ]
  },
  {
   "cell_type": "code",
   "execution_count": 2,
   "id": "6a9a3e16-c87d-40da-be0d-92c8927ca6c2",
   "metadata": {},
   "outputs": [],
   "source": [
    "# from shutil import which\n",
    "# which('java')\n",
    "owl.JAVA_EXE = os.path.join(os.environ.get(\"CONDA_PREFIX\"), \"lib\", \"jvm\", \"bin\", \"java\")"
   ]
  },
  {
   "cell_type": "markdown",
   "id": "64d8f76e-4348-4769-a0fd-3a3470ee04f3",
   "metadata": {},
   "source": [
    "## Construct owl file fully in python and convert it into a csv file"
   ]
  },
  {
   "cell_type": "markdown",
   "id": "48b4bf4b-7fdb-474d-9d1b-1559a3c5bc4d",
   "metadata": {},
   "source": [
    "This is useful for demonstration purposes. In the actual implementation we will start directly with the csv file that can be obtained e.g. from the pyironObject or from the ironFlow nodes."
   ]
  },
  {
   "cell_type": "code",
   "execution_count": 3,
   "id": "11b8366b-2866-4ea3-b300-8b54a10267eb",
   "metadata": {},
   "outputs": [],
   "source": [
    "onto = owl.get_ontology(\"file://pyiron.owl\")\n",
    "\n",
    "with onto:\n",
    "    class PyObject(owl.Thing):\n",
    "        comment = 'my pyiron object'\n",
    "    \n",
    "    class Parameter(PyObject):\n",
    "        @property\n",
    "        def description(self):\n",
    "            if len(self.generic_parameter) > 0:\n",
    "                return self.generic_parameter[0].description\n",
    "            \n",
    "    class InputParameter(Parameter): \n",
    "        # @property\n",
    "        def consistent_output(self, additional_conditions=None):\n",
    "            if additional_conditions is None:\n",
    "                conditions = self.has_conditions\n",
    "            else:\n",
    "                conditions = additional_conditions\n",
    "            if len(conditions) > 0:    \n",
    "                return [p for p in self.generic_parameter[0].has_parameters if is_subset(conditions, p.has_options)]\n",
    "                # return list(set.intersection(*map(set,[i.has_optional_objects for i in conditions])))\n",
    "            return self.generic_parameter[0].has_parameters\n",
    "\n",
    "    # class MandatoryInputParameter(InputParameter): pass         \n",
    "        \n",
    "    class OutputParameter(Parameter): pass\n",
    "    class GenericParameter(Parameter): \n",
    "        description = \"\"\n",
    "          \n",
    "    class Code(Parameter): pass\n",
    "        # generic_parameter=[Executable]\n",
    "    # class AtomicStructure(Parameter):\n",
    "    #     decription='Atomic structure. Contains at least positions and chemical species.'\n",
    "    class Label(PyObject): pass    \n",
    "    \n",
    "    class has_conditions(Parameter >> Label): pass\n",
    "    class has_transitive_conditions(Parameter >> Label): pass  # condition to fulfill to fulfill option in code \n",
    "    class has_options(Parameter >> Label): pass\n",
    "\n",
    "    class has_transitive_objects(Label >> Parameter):\n",
    "        inverse_property = has_transitive_conditions     \n",
    "        \n",
    "    class has_conditional_objects(Label >> Parameter):\n",
    "        inverse_property = has_conditions  \n",
    "        \n",
    "    class has_optional_objects(Label >> Parameter):\n",
    "        inverse_property = has_options    \n",
    "        \n",
    "    class has_symbol(GenericParameter >> str):\n",
    "        class_property_type = [\"some\"]\n",
    "        python_name = \"symbols\" \n",
    "        \n",
    "    class has_unit(Parameter >> str):\n",
    "        class_property_type = [\"some\"]\n",
    "        python_name = \"unit\"        \n",
    "        \n",
    "    class is_in_domains (Parameter >> Label): \n",
    "        class_property_type = [\"some\"]\n",
    "        python_name = \"domain\" \n",
    "        \n",
    "    class domain_has_codes(Label >> Parameter):\n",
    "        python_name = \"has_objects\" \n",
    "        inverse_property = is_in_domains   \n",
    "        \n",
    "    class has_generic_parameter(Parameter >> GenericParameter):\n",
    "        class_property_type = [\"some\"]\n",
    "        python_name = \"generic_parameter\" \n",
    "        \n",
    "    class generic_parameter_has(GenericParameter >> Parameter):\n",
    "        python_name = \"has_parameters\" \n",
    "        inverse_property = has_generic_parameter        \n",
    "        \n",
    "    class is_input_of (InputParameter >> Code):\n",
    "        class_property_type = [\"some\"]\n",
    "        python_name = \"input_in\"  \n",
    "        \n",
    "    class has_input (Code >> InputParameter):\n",
    "        python_name = \"input\" \n",
    "        inverse_property = is_input_of  \n",
    "        \n",
    "    class is_mandatory_input_of (InputParameter >> Code):\n",
    "        class_property_type = [\"some\"]\n",
    "        python_name = \"mandatory_input_in\"  \n",
    "        \n",
    "    class has_mandatory_input (Code >> InputParameter):\n",
    "        python_name = \"mandatory_input\" \n",
    "        inverse_property = is_mandatory_input_of          \n",
    "        \n",
    "    class is_output_of (OutputParameter >> Code):\n",
    "        class_property_type = [\"some\"]\n",
    "        python_name = \"output_of\"      # python name has to be unique (even for different class)\n",
    "        \n",
    "    class has_output (Code >> OutputParameter):\n",
    "        python_name = \"output\" \n",
    "        inverse_property = is_output_of          \n",
    "        \n",
    "    owl.AllDisjoint([InputParameter, OutputParameter, Label])\n",
    "    \n",
    "    \n",
    "lblAtomistic = Label(name='Atomistic')    \n",
    "lblCode = Label(name='lCode')\n",
    "lblDFT = Label(name='DFT')\n",
    "lblMaterialProperty = Label(name='MaterialProperty')\n",
    "lblPeriodicBoundaryConditions = Label(name='PeriodicBoundaryConditions')\n",
    "lblUserInput = Label(name='UserInput', comment='Easy to provide input. Can be used to start a workflow')\n",
    "lblBulk3DCrystal = Label(name='Bulk3dStructure', comment='Bulk 3d structure generated/needed. Has a well defined volume.')\n",
    "lblAtomisticEnergyCalculator = Label(name='AtomisticEnergyCalculator', comment='Code to compute the energy of an atomic structure')\n",
    "\n",
    "\n",
    "ChemicalElement = GenericParameter(name='ChemicalElement', \n",
    "                                   description='Single chemical element', \n",
    "                                   domain=[lblAtomistic, lblUserInput])\n",
    "AtomicStructure = GenericParameter(name='AtomicStructure', \n",
    "                                   description='Contains all information to construct an atomic structure (molecule, crystal, etc.)', \n",
    "                                   domain=[lblAtomistic])\n",
    "Executable = GenericParameter(name='Executable', description='Code that requires input and produces output', \n",
    "                                   domain=[])\n",
    "\n",
    "# Structure\n",
    "CreateStructureBulk = Code(name='CreateStructureBulk', \n",
    "                           domain=[lblAtomistic, lblCode], \n",
    "                           generic_parameter=[Executable]) \n",
    "CreateStructureBulk_element = InputParameter(name=f'{CreateStructureBulk.name}/input/element', \n",
    "                                             mandatory_input_in=[CreateStructureBulk], \n",
    "                                             generic_parameter=[ChemicalElement])  \n",
    "CreateStructureBulk_structure = OutputParameter(name=f'{CreateStructureBulk.name}/output/structure', output_of=[CreateStructureBulk]\n",
    "                                                , generic_parameter=[AtomicStructure], has_options=[lblBulk3DCrystal]) \n",
    "\n",
    "CreateSurface = Code(name='CreateSurface', \n",
    "                           domain=[lblAtomistic, lblCode], \n",
    "                           generic_parameter=[Executable]) \n",
    "CreateSurface_element = InputParameter(name=f'{CreateSurface.name}/input/element', \n",
    "                                             mandatory_input_in=[CreateSurface], \n",
    "                                             generic_parameter=[ChemicalElement])  \n",
    "CreateSurface_structure = OutputParameter(name=f'{CreateSurface.name}/output/structure', output_of=[CreateSurface]\n",
    "                                                , generic_parameter=[AtomicStructure], has_options=[]) \n",
    "\n",
    "\n",
    "# Murnaghan\n",
    "Bulkmodulus = GenericParameter(name='Bulk_modulus', \n",
    "                               description='https://en.wikipedia.org/wiki/Bulk_modulus', \n",
    "                               symbols=['B', 'K'], \n",
    "                               unit=['MPa'], \n",
    "                               domain=[lblMaterialProperty])\n",
    "Bprime = GenericParameter(name='B_prime', \n",
    "                          decription='First derivative of Bulk modulus with respect to volume', \n",
    "                          symbols=['Bprime'], \n",
    "                          unit=['1'], \n",
    "                          domain=[lblMaterialProperty])\n",
    "\n",
    "Murnaghan = Code(name='Murnaghan', \n",
    "                 domain=[lblAtomistic, lblCode], \n",
    "                 generic_parameter=[Executable]) \n",
    "Murnaghan_Bulkmodulus = OutputParameter(name=f'{Murnaghan.name}/output/equilibrium_bulk_modulus', \n",
    "                                        output_of=[Murnaghan], \n",
    "                                        generic_parameter=[Bulkmodulus], \n",
    "                                        unit=['GPa']) \n",
    "Murnaghan_Bprime = OutputParameter(name=f'{Murnaghan.name}/output/equilibrium_b_prime', \n",
    "                                   output_of=[Murnaghan], \n",
    "                                   generic_parameter=[Bprime])                                                                                                                                                                                                                                            \n",
    "Murnaghan_Ref_Job = InputParameter(name=f'{Murnaghan.name}/ref_job', \n",
    "                                   mandatory_input_in=[Murnaghan], \n",
    "                                   generic_parameter=[Executable], \n",
    "                                   has_conditions=[lblBulk3DCrystal, lblAtomisticEnergyCalculator])                                                                                                                      \n",
    "\n",
    "# DFT\n",
    "EnergyCutoff = GenericParameter(name='EnergyCutoff', \n",
    "                                description='The cutoff on the number of plane wave functions being utilized as basis functions to represent the wavefunction')\n",
    "\n",
    "VASP = Code(name='VASP', domain=[lblAtomistic, lblCode, lblDFT], \n",
    "            has_options=[lblBulk3DCrystal, lblAtomisticEnergyCalculator], \n",
    "            generic_parameter=[Executable])        \n",
    "VASP_ENCUT = InputParameter(name='ENCUT', \n",
    "                            input_in=[VASP], \n",
    "                            generic_parameter=[EnergyCutoff], \n",
    "                            unit=['eV']) \n",
    "VASP_IBRAV = InputParameter(name='IBRAV', \n",
    "                            input_in=[VASP]) \n",
    "VASP_Structure = InputParameter(name=f'{VASP.name}/input/structure', \n",
    "                                mandatory_input_in=[VASP], \n",
    "                                generic_parameter=[AtomicStructure], \n",
    "                                has_transitive_conditions=[lblBulk3DCrystal])   \n",
    "\n",
    "VASP_ETOT = OutputParameter(name='ETOT', output_of=[VASP]) \n",
    "\n",
    "# LAMMPS\n",
    "\n",
    "LAMMPS = Code(name='LAMMPS', domain=[lblAtomistic, lblCode], \n",
    "            has_options=[lblBulk3DCrystal, lblAtomisticEnergyCalculator], \n",
    "            generic_parameter=[Executable])        \n",
    "\n",
    "LAMMPS_Structure = InputParameter(name=f'{LAMMPS.name}/input/structure', \n",
    "                                mandatory_input_in=[LAMMPS], \n",
    "                                generic_parameter=[AtomicStructure], \n",
    "                                has_transitive_conditions=[lblBulk3DCrystal])   \n",
    "\n",
    "LAMMPS_ETOT = OutputParameter(name='ETOT', output_of=[LAMMPS]) \n",
    "\n",
    "owl.close_world(PyObject) \n",
    "owl.sync_reasoner_pellet(infer_property_values = True, infer_data_property_values = True, debug=0)\n",
    "\n",
    "onto.save()\n",
    "\n",
    "def is_subset(a, b):\n",
    "    return np.all([aa in b for aa in a])"
   ]
  },
  {
   "cell_type": "code",
   "execution_count": 4,
   "id": "92ae18c7-15e9-442e-8bea-fea9670c1d2a",
   "metadata": {},
   "outputs": [],
   "source": [
    "onto_orig = owl.get_ontology(\"file://pyiron.owl\").load()"
   ]
  },
  {
   "cell_type": "markdown",
   "id": "cdec3ccf-1f1c-40f6-81b2-97dd3369408b",
   "metadata": {},
   "source": [
    "#### A few code examples how to access ontology"
   ]
  },
  {
   "cell_type": "code",
   "execution_count": 5,
   "id": "d19d585b-9819-4e4e-848b-3e9d48db97f8",
   "metadata": {},
   "outputs": [],
   "source": [
    "individuals = list(onto_orig.individuals())"
   ]
  },
  {
   "cell_type": "code",
   "execution_count": 9,
   "id": "a1eb11de-0192-4b34-ac60-f401f8f49b91",
   "metadata": {},
   "outputs": [
    {
     "data": {
      "text/plain": [
       "(pyiron.is_in_domains,\n",
       " [(pyiron.Atomistic, pyiron.ChemicalElement),\n",
       "  (pyiron.UserInput, pyiron.ChemicalElement),\n",
       "  (pyiron.Atomistic, pyiron.AtomicStructure),\n",
       "  (pyiron.Atomistic, pyiron.CreateStructureBulk),\n",
       "  (pyiron.lCode, pyiron.CreateStructureBulk),\n",
       "  (pyiron.Atomistic, pyiron.CreateSurface),\n",
       "  (pyiron.lCode, pyiron.CreateSurface),\n",
       "  (pyiron.MaterialProperty, pyiron.Bulk_modulus),\n",
       "  (pyiron.MaterialProperty, pyiron.B_prime),\n",
       "  (pyiron.Atomistic, pyiron.Murnaghan),\n",
       "  (pyiron.lCode, pyiron.Murnaghan),\n",
       "  (pyiron.Atomistic, pyiron.VASP),\n",
       "  (pyiron.lCode, pyiron.VASP),\n",
       "  (pyiron.DFT, pyiron.VASP),\n",
       "  (pyiron.Atomistic, pyiron.LAMMPS),\n",
       "  (pyiron.lCode, pyiron.LAMMPS)])"
      ]
     },
     "execution_count": 11,
     "metadata": {},
     "output_type": "execute_result"
    }
   ],
   "source": [
    "i = individuals[0]\n",
    "ii = list(i.get_properties())[0]\n",
    "ii.inverse_property, list(ii.get_relations())"
   ]
  },
  {
   "cell_type": "markdown",
   "id": "7a8ca0ed-4d11-4adc-a189-b4d804a7279f",
   "metadata": {},
   "source": [
    "### Extract pandas Table and csv-file from ontology"
   ]
  },
  {
   "cell_type": "code",
   "execution_count": 14,
   "id": "affde145-a150-429a-8f30-8f5a221f48e6",
   "metadata": {},
   "outputs": [
    {
     "name": "stdout",
     "output_type": "stream",
     "text": [
      "pyiron.Bulk_modulus {'namespace': get_ontology(\"file://pyiron.owl#\"), '_name': 'Bulk_modulus', '_equivalent_to': [], 'storid': 345, 'is_a': [pyiron.GenericParameter, pyiron.has_conditions.only(owl.Nothing), pyiron.has_transitive_conditions.only(owl.Nothing), pyiron.has_options.only(owl.Nothing), pyiron.is_in_domains.only(OneOf([pyiron.MaterialProperty])), pyiron.has_generic_parameter.only(owl.Nothing), pyiron.generic_parameter_has.only(OneOf([pyiron.Murnaghan/output/equilibrium_bulk_modulus]))], 'description': 'https://en.wikipedia.org/wiki/Bulk_modulus', 'has_conditions': [], 'has_transitive_conditions': [], 'has_options': [], 'domain': [pyiron.MaterialProperty], 'generic_parameter': [], 'has_parameters': [pyiron.Murnaghan/output/equilibrium_bulk_modulus]} unit\n"
     ]
    },
    {
     "ename": "AttributeError",
     "evalue": "'is_functional_for' annotation property is not defined.",
     "output_type": "error",
     "traceback": [
      "\u001b[0;31m---------------------------------------------------------------------------\u001b[0m",
      "\u001b[0;31mAttributeError\u001b[0m                            Traceback (most recent call last)",
      "\u001b[0;32m<ipython-input-14-e8503661ea13>\u001b[0m in \u001b[0;36m<module>\u001b[0;34m\u001b[0m\n\u001b[1;32m     15\u001b[0m         \u001b[0mnew_item_lst\u001b[0m \u001b[0;34m=\u001b[0m \u001b[0;34m[\u001b[0m\u001b[0;34m]\u001b[0m\u001b[0;34m\u001b[0m\u001b[0;34m\u001b[0m\u001b[0m\n\u001b[1;32m     16\u001b[0m         \u001b[0;32mtry\u001b[0m\u001b[0;34m:\u001b[0m\u001b[0;34m\u001b[0m\u001b[0;34m\u001b[0m\u001b[0m\n\u001b[0;32m---> 17\u001b[0;31m             \u001b[0mitem_lst\u001b[0m \u001b[0;34m=\u001b[0m \u001b[0mgetattr\u001b[0m\u001b[0;34m(\u001b[0m\u001b[0mi\u001b[0m\u001b[0;34m,\u001b[0m \u001b[0mp\u001b[0m\u001b[0;34m.\u001b[0m\u001b[0mpython_name\u001b[0m\u001b[0;34m)\u001b[0m\u001b[0;34m\u001b[0m\u001b[0;34m\u001b[0m\u001b[0m\n\u001b[0m\u001b[1;32m     18\u001b[0m         \u001b[0;32mexcept\u001b[0m \u001b[0mAttributeError\u001b[0m\u001b[0;34m:\u001b[0m\u001b[0;34m\u001b[0m\u001b[0;34m\u001b[0m\u001b[0m\n\u001b[1;32m     19\u001b[0m             \u001b[0mprint\u001b[0m\u001b[0;34m(\u001b[0m\u001b[0mi\u001b[0m\u001b[0;34m,\u001b[0m \u001b[0mi\u001b[0m\u001b[0;34m.\u001b[0m\u001b[0m__dict__\u001b[0m\u001b[0;34m,\u001b[0m \u001b[0mp\u001b[0m\u001b[0;34m.\u001b[0m\u001b[0mpython_name\u001b[0m\u001b[0;34m)\u001b[0m\u001b[0;34m\u001b[0m\u001b[0;34m\u001b[0m\u001b[0m\n",
      "\u001b[0;32m~/anaconda3/envs/pyiron_38/lib/python3.8/site-packages/owlready2/individual.py\u001b[0m in \u001b[0;36m__getattr__\u001b[0;34m(self, attr)\u001b[0m\n\u001b[1;32m    294\u001b[0m         \u001b[0;32mif\u001b[0m \u001b[0mattr\u001b[0m \u001b[0;34m==\u001b[0m \u001b[0;34m\"equivalent_to\"\u001b[0m\u001b[0;34m:\u001b[0m \u001b[0;32mreturn\u001b[0m \u001b[0mself\u001b[0m\u001b[0;34m.\u001b[0m\u001b[0mget_equivalent_to\u001b[0m\u001b[0;34m(\u001b[0m\u001b[0;34m)\u001b[0m \u001b[0;31m# Needed\u001b[0m\u001b[0;34m\u001b[0m\u001b[0;34m\u001b[0m\u001b[0m\n\u001b[1;32m    295\u001b[0m         \u001b[0;32mraise\u001b[0m \u001b[0mAttributeError\u001b[0m\u001b[0;34m(\u001b[0m\u001b[0;34m\"'%s' property is not defined.\"\u001b[0m \u001b[0;34m%\u001b[0m \u001b[0mattr\u001b[0m\u001b[0;34m)\u001b[0m\u001b[0;34m\u001b[0m\u001b[0;34m\u001b[0m\u001b[0m\n\u001b[0;32m--> 296\u001b[0;31m       \u001b[0;32mif\u001b[0m \u001b[0mProp\u001b[0m\u001b[0;34m.\u001b[0m\u001b[0mis_functional_for\u001b[0m\u001b[0;34m(\u001b[0m\u001b[0mself\u001b[0m\u001b[0;34m.\u001b[0m\u001b[0m__class__\u001b[0m\u001b[0;34m)\u001b[0m\u001b[0;34m:\u001b[0m \u001b[0mself\u001b[0m\u001b[0;34m.\u001b[0m\u001b[0m__dict__\u001b[0m\u001b[0;34m[\u001b[0m\u001b[0mattr\u001b[0m\u001b[0;34m]\u001b[0m \u001b[0;34m=\u001b[0m \u001b[0mr\u001b[0m \u001b[0;34m=\u001b[0m \u001b[0mProp\u001b[0m\u001b[0;34m.\u001b[0m\u001b[0m_get_value_for_individual\u001b[0m \u001b[0;34m(\u001b[0m\u001b[0mself\u001b[0m\u001b[0;34m)\u001b[0m\u001b[0;34m\u001b[0m\u001b[0;34m\u001b[0m\u001b[0m\n\u001b[0m\u001b[1;32m    297\u001b[0m       \u001b[0;32melse\u001b[0m\u001b[0;34m:\u001b[0m                                      \u001b[0mself\u001b[0m\u001b[0;34m.\u001b[0m\u001b[0m__dict__\u001b[0m\u001b[0;34m[\u001b[0m\u001b[0mattr\u001b[0m\u001b[0;34m]\u001b[0m \u001b[0;34m=\u001b[0m \u001b[0mr\u001b[0m \u001b[0;34m=\u001b[0m \u001b[0mProp\u001b[0m\u001b[0;34m.\u001b[0m\u001b[0m_get_values_for_individual\u001b[0m\u001b[0;34m(\u001b[0m\u001b[0mself\u001b[0m\u001b[0;34m)\u001b[0m\u001b[0;34m\u001b[0m\u001b[0;34m\u001b[0m\u001b[0m\n\u001b[1;32m    298\u001b[0m       \u001b[0;32mreturn\u001b[0m \u001b[0mr\u001b[0m\u001b[0;34m\u001b[0m\u001b[0;34m\u001b[0m\u001b[0m\n",
      "\u001b[0;32m~/anaconda3/envs/pyiron_38/lib/python3.8/site-packages/owlready2/prop.py\u001b[0m in \u001b[0;36m__getattr__\u001b[0;34m(Prop, attr)\u001b[0m\n\u001b[1;32m    270\u001b[0m     \u001b[0;31m#Annot = ((l and l[-1]) or Prop.namespace).world._props.get(attr)\u001b[0m\u001b[0;34m\u001b[0m\u001b[0;34m\u001b[0m\u001b[0;34m\u001b[0m\u001b[0m\n\u001b[1;32m    271\u001b[0m     \u001b[0;32mif\u001b[0m \u001b[0mAnnot\u001b[0m \u001b[0;32mis\u001b[0m \u001b[0;32mNone\u001b[0m\u001b[0;34m:\u001b[0m\u001b[0;34m\u001b[0m\u001b[0;34m\u001b[0m\u001b[0m\n\u001b[0;32m--> 272\u001b[0;31m       \u001b[0;32mraise\u001b[0m \u001b[0mAttributeError\u001b[0m\u001b[0;34m(\u001b[0m\u001b[0;34m\"'%s' annotation property is not defined.\"\u001b[0m \u001b[0;34m%\u001b[0m \u001b[0mattr\u001b[0m\u001b[0;34m)\u001b[0m\u001b[0;34m\u001b[0m\u001b[0;34m\u001b[0m\u001b[0m\n\u001b[0m\u001b[1;32m    273\u001b[0m     \u001b[0;32mif\u001b[0m \u001b[0;32mnot\u001b[0m \u001b[0missubclass_python\u001b[0m\u001b[0;34m(\u001b[0m\u001b[0mAnnot\u001b[0m\u001b[0;34m,\u001b[0m \u001b[0mAnnotationProperty\u001b[0m\u001b[0;34m)\u001b[0m\u001b[0;34m:\u001b[0m\u001b[0;34m\u001b[0m\u001b[0;34m\u001b[0m\u001b[0m\n\u001b[1;32m    274\u001b[0m       \u001b[0;32mraise\u001b[0m \u001b[0mAttributeError\u001b[0m\u001b[0;34m(\u001b[0m\u001b[0;34m\"Property can only have annotation property values!\"\u001b[0m\u001b[0;34m)\u001b[0m\u001b[0;34m\u001b[0m\u001b[0;34m\u001b[0m\u001b[0m\n",
      "\u001b[0;31mAttributeError\u001b[0m: 'is_functional_for' annotation property is not defined."
     ]
    }
   ],
   "source": [
    "inverse_list = ['has_objects', 'has_transitive_objects', 'has_conditional_objects', \n",
    "               'has_optional_objects', 'has_parameters', 'output','mandatory_input', 'input']\n",
    "\n",
    "obj_lst = [] \n",
    "individuals = list(onto_orig.individuals())\n",
    "for i in individuals:\n",
    "    obj_dict = {}\n",
    "    # print (i.is_instance_of[0], i.name)\n",
    "    obj_dict['class'] = i.is_instance_of[0].name\n",
    "    obj_dict['name'] = i.name\n",
    "    for p in list(i.get_properties()):\n",
    "        if p.python_name in inverse_list:\n",
    "            continue\n",
    "        # print (\"   \", p.python_name, getattr(i, p.python_name))\n",
    "        new_item_lst = []\n",
    "        try:\n",
    "            item_lst = getattr(i, p.python_name)\n",
    "        except AttributeError:\n",
    "            print(i, i.__dict__, p.python_name)\n",
    "            raise\n",
    "        for item in item_lst:\n",
    "            if hasattr(item, 'name'):\n",
    "                new_item_lst.append(item.name)\n",
    "            else:\n",
    "                new_item_lst.append(item)\n",
    "                \n",
    "        obj_dict[p.python_name] = new_item_lst\n",
    "    obj_lst.append(obj_dict)\n",
    "df = pandas.DataFrame(obj_lst)  \n",
    "\n",
    "sorter = ['Label', 'GenericParameter', 'Code', 'InputParameter', 'OutputParameter']\n",
    "df['class'] = pandas.Categorical(df['class'], sorter)\n",
    "df = df.sort_values(by='class')\n",
    "df.to_csv('pyiron_onto.csv', index=False)\n",
    "\n",
    "df"
   ]
  },
  {
   "cell_type": "markdown",
   "id": "e517b25f-4462-4172-bba4-9c0534b502c0",
   "metadata": {},
   "source": [
    "## Read data from csv file"
   ]
  },
  {
   "cell_type": "markdown",
   "id": "260dd0eb-c472-4dbf-b499-86e7bf10ae3d",
   "metadata": {},
   "source": [
    "Define only classes and read the actual data from csv file. You can directly start here without running the first part."
   ]
  },
  {
   "cell_type": "code",
   "execution_count": null,
   "id": "503dde1c-77f1-4172-8e24-38af89837a88",
   "metadata": {},
   "outputs": [],
   "source": [
    "onto = owl.get_ontology(\"file://pyiron_csv.owl\")\n",
    "\n",
    "with onto:\n",
    "    class PyObject(owl.Thing):\n",
    "        comment = 'my pyiron object'\n",
    "    \n",
    "    class Parameter(PyObject):\n",
    "        @property\n",
    "        def description(self):\n",
    "            if len(self.generic_parameter) > 0:\n",
    "                return self.generic_parameter[0].description\n",
    "            \n",
    "    class InputParameter(Parameter): \n",
    "        # @property\n",
    "        def consistent_output(self, additional_conditions=None):\n",
    "            if additional_conditions is None:\n",
    "                conditions = self.has_conditions\n",
    "            else:\n",
    "                conditions = additional_conditions\n",
    "            if len(conditions) > 0:    \n",
    "                return [p for p in self.generic_parameter[0].has_parameters if is_subset(conditions, p.has_options)]\n",
    "                # return list(set.intersection(*map(set,[i.has_optional_objects for i in conditions])))\n",
    "            return self.generic_parameter[0].has_parameters\n",
    "\n",
    "    # class MandatoryInputParameter(InputParameter): pass         \n",
    "        \n",
    "    class OutputParameter(Parameter): pass\n",
    "    class GenericParameter(Parameter): \n",
    "        description = \"\"\n",
    "          \n",
    "    class Code(Parameter): pass\n",
    "\n",
    "    class Label(PyObject): pass    \n",
    "    \n",
    "    class has_conditions(Parameter >> Label): pass\n",
    "    class has_transitive_conditions(Parameter >> Label): pass  # condition to fulfill to fulfill option in code \n",
    "    class has_options(Parameter >> Label): pass\n",
    "\n",
    "    class has_transitive_objects(Label >> Parameter):\n",
    "        inverse_property = has_transitive_conditions     \n",
    "        \n",
    "    class has_conditional_objects(Label >> Parameter):\n",
    "        inverse_property = has_conditions  \n",
    "        \n",
    "    class has_optional_objects(Label >> Parameter):\n",
    "        inverse_property = has_options    \n",
    "        \n",
    "    class has_symbol(GenericParameter >> str):\n",
    "        class_property_type = [\"some\"]\n",
    "        python_name = \"symbols\" \n",
    "        \n",
    "    class has_unit(Parameter >> str):\n",
    "        class_property_type = [\"some\"]\n",
    "        python_name = \"unit\"        \n",
    "        \n",
    "    class is_in_domains (Parameter >> Label): \n",
    "        class_property_type = [\"some\"]\n",
    "        python_name = \"domain\" \n",
    "        \n",
    "    class domain_has_codes(Label >> Parameter):\n",
    "        python_name = \"has_objects\" \n",
    "        inverse_property = is_in_domains   \n",
    "        \n",
    "    class has_generic_parameter(Parameter >> GenericParameter):\n",
    "        class_property_type = [\"some\"]\n",
    "        python_name = \"generic_parameter\" \n",
    "        \n",
    "    class generic_parameter_has(GenericParameter >> Parameter):\n",
    "        python_name = \"has_parameters\" \n",
    "        inverse_property = has_generic_parameter        \n",
    "        \n",
    "    class is_input_of (InputParameter >> Code):\n",
    "        class_property_type = [\"some\"]\n",
    "        python_name = \"input_in\"  \n",
    "        \n",
    "    class has_input (Code >> InputParameter):\n",
    "        python_name = \"input\" \n",
    "        inverse_property = is_input_of  \n",
    "        \n",
    "    class is_mandatory_input_of (InputParameter >> Code):\n",
    "        class_property_type = [\"some\"]\n",
    "        python_name = \"mandatory_input_in\"  \n",
    "        \n",
    "    class has_mandatory_input (Code >> InputParameter):\n",
    "        python_name = \"mandatory_input\" \n",
    "        inverse_property = is_mandatory_input_of          \n",
    "        \n",
    "    class is_output_of (OutputParameter >> Code):\n",
    "        class_property_type = [\"some\"]\n",
    "        python_name = \"output_of\"      # python name has to be unique (even for different class)\n",
    "        \n",
    "    class has_output (Code >> OutputParameter):\n",
    "        python_name = \"output\" \n",
    "        inverse_property = is_output_of          \n",
    "        \n",
    "    owl.AllDisjoint([InputParameter, OutputParameter, Label])\n",
    "\n",
    "onto.save()\n",
    "\n",
    "def is_subset(a, b):\n",
    "    return np.all([aa in b for aa in a])"
   ]
  },
  {
   "cell_type": "code",
   "execution_count": null,
   "id": "ca9c0404-4c73-4566-9c94-0db4771517ef",
   "metadata": {},
   "outputs": [],
   "source": [
    "onto = owl.get_ontology(\"file://pyiron_csv.owl\")\n",
    "onto.load()"
   ]
  },
  {
   "cell_type": "markdown",
   "id": "bffbb760-88aa-4a13-993d-d9b8b77dfd4b",
   "metadata": {},
   "source": [
    "#### Load csv files as pandas table"
   ]
  },
  {
   "cell_type": "code",
   "execution_count": null,
   "id": "47c31d05-7f43-4d75-adc3-2a907dc0a1c9",
   "metadata": {},
   "outputs": [],
   "source": [
    "# pandas.read_csv('parameters.csv', skipinitialspace=True,  delimiter=',').iloc[0].domain"
   ]
  },
  {
   "cell_type": "code",
   "execution_count": null,
   "id": "980e1388-44df-49d9-9ea8-b5739576a7db",
   "metadata": {},
   "outputs": [],
   "source": [
    "eval(pandas.read_csv('pyiron_onto.csv', skipinitialspace=True,  delimiter=',').iloc[8].domain)"
   ]
  },
  {
   "cell_type": "code",
   "execution_count": null,
   "id": "c96788ac-06af-45a7-be91-6c65c6519eb0",
   "metadata": {},
   "outputs": [],
   "source": [
    "df_para = pandas.read_csv('pyiron_onto.csv', skipinitialspace=True,  delimiter=',')\n",
    "df_para"
   ]
  },
  {
   "cell_type": "code",
   "execution_count": null,
   "id": "ec5a992b-f938-40d9-82fd-d56700011f5c",
   "metadata": {},
   "outputs": [],
   "source": [
    "import numpy as np\n",
    "\n",
    "non_ontology_keys = ['symbols', 'unit']\n",
    "\n",
    "def get_args(i_0, df):\n",
    "    qwargs = {}\n",
    "    # print ('class: ', df.iloc[i_0]['class'])  \n",
    "    for key in df.keys():\n",
    "        if key in ['class']:\n",
    "            continue  \n",
    "        val = df.iloc[i_0][key]\n",
    "        if val is not np.nan:\n",
    "            # print (key, val)\n",
    "            if isinstance(val, str):\n",
    "                val = val.strip()\n",
    "                if key == 'comment':\n",
    "                    val = val[2:-2]\n",
    "                # print (key, val)\n",
    "                if len(val) == 0:\n",
    "                    continue\n",
    "                elif val[0] == '[':  # list\n",
    "                    val_lst = eval(val)\n",
    "                    if key not in non_ontology_keys:\n",
    "                        val_lst = [onto_labels[d.strip()] for d in val_lst]\n",
    "                    qwargs[key] = val_lst\n",
    "                else:       \n",
    "                    qwargs[key] = val\n",
    "                    \n",
    "    return qwargs     "
   ]
  },
  {
   "cell_type": "code",
   "execution_count": null,
   "id": "4b9bc096-a2a5-4c9b-b8ef-4b4d512c75c0",
   "metadata": {},
   "outputs": [],
   "source": [
    "# get_args(17, df_para)"
   ]
  },
  {
   "cell_type": "code",
   "execution_count": null,
   "id": "8987a72b-9d69-422e-806c-841a37b5cf17",
   "metadata": {},
   "outputs": [],
   "source": [
    "import pandas\n",
    "import types\n",
    "\n",
    "# df_labels = pandas.read_csv('label.csv', skipinitialspace=True)\n",
    "\n",
    "onto_labels = owl.get_ontology(\"file://pyiron_labels.owl\")\n",
    "onto_labels.imported_ontologies.append(onto)\n",
    "\n",
    "with onto_labels:\n",
    "#     for index, row in df_labels.iterrows():\n",
    "#         lbl = onto.Label(name=row['name'].strip())\n",
    "#         if isinstance(row['comment'], str):\n",
    "#             lbl.comment = row['comment'].strip()\n",
    "        \n",
    "    for index, row in df_para.iterrows():   \n",
    "        if isinstance(row['class'], str):\n",
    "            parent = onto[row['class']]\n",
    "            # print (parent, row['name'])\n",
    "            if parent is None:\n",
    "                print ('Invalid class:', parent)\n",
    "                continue\n",
    "\n",
    "            qwargs = get_args(index, df_para)  \n",
    "            print (row['class'], parent, qwargs)\n",
    "            individuum = parent(**qwargs)  \n",
    "            \n",
    "    owl.close_world(PyObject) \n",
    "    owl.sync_reasoner_pellet(infer_property_values = True, infer_data_property_values = True, debug=0)                \n",
    "onto_labels.save()        "
   ]
  },
  {
   "cell_type": "markdown",
   "id": "d453ed2e-cc93-403e-8792-6a99a15ce2d1",
   "metadata": {},
   "source": [
    "### Read csv generated owl file"
   ]
  },
  {
   "cell_type": "code",
   "execution_count": null,
   "id": "a362aaf5-3e63-4972-8fd7-7ff6ca94ef43",
   "metadata": {},
   "outputs": [],
   "source": [
    "onto_labels = owl.get_ontology(\"file://pyiron_labels.owl\").load()"
   ]
  },
  {
   "cell_type": "markdown",
   "id": "78fa9917-8a70-4e2f-98fa-d379b5917c2e",
   "metadata": {},
   "source": [
    "### Explore ontology (collect/test some useful commands)"
   ]
  },
  {
   "cell_type": "code",
   "execution_count": null,
   "id": "8c2b6641-4d21-40c6-9810-78bfc658c155",
   "metadata": {},
   "outputs": [],
   "source": [
    "individuals = list(onto_labels.individuals())\n",
    "individuals"
   ]
  },
  {
   "cell_type": "code",
   "execution_count": null,
   "id": "7ea3b29e-bffe-499f-9ab0-c5ac8067e8c9",
   "metadata": {},
   "outputs": [],
   "source": [
    "onto_labels['CreateStructureBulk'].get_properties()"
   ]
  },
  {
   "cell_type": "code",
   "execution_count": null,
   "id": "17479df8-f9ed-4053-adb0-801fa9c8a936",
   "metadata": {},
   "outputs": [],
   "source": [
    "onto_labels.Bulk_modulus.has_parameters"
   ]
  },
  {
   "cell_type": "code",
   "execution_count": null,
   "id": "cf933e7c-eabe-4e46-8c45-cac04c5d5dd5",
   "metadata": {},
   "outputs": [],
   "source": [
    "onto_labels.get_imported_ontologies()"
   ]
  },
  {
   "cell_type": "code",
   "execution_count": null,
   "id": "afed2943-385b-4cef-b268-5469812dd80a",
   "metadata": {},
   "outputs": [],
   "source": [
    "onto_labels.get_instances_of(onto.GenericParameter)"
   ]
  },
  {
   "cell_type": "code",
   "execution_count": null,
   "id": "77107ee6-f33a-4cc4-937e-b2b30d716b16",
   "metadata": {},
   "outputs": [],
   "source": [
    "list(onto.classes())"
   ]
  },
  {
   "cell_type": "code",
   "execution_count": null,
   "id": "69165a33-5093-4f63-96d2-3b9d173ff44f",
   "metadata": {},
   "outputs": [],
   "source": [
    "list(onto.data_properties())"
   ]
  },
  {
   "cell_type": "code",
   "execution_count": null,
   "id": "171a2279-30c2-4af7-8915-c55ae65dbc0a",
   "metadata": {},
   "outputs": [],
   "source": [
    "onto.Parameter.descendants()"
   ]
  },
  {
   "cell_type": "code",
   "execution_count": null,
   "id": "ee203c24-6121-4a8b-8ed6-9fe945fc726e",
   "metadata": {},
   "outputs": [],
   "source": [
    "# onto.Parameter.get_class_properties()"
   ]
  },
  {
   "cell_type": "code",
   "execution_count": null,
   "id": "05e0a442-a7fe-43fd-99d6-535609aa7e1d",
   "metadata": {},
   "outputs": [],
   "source": [
    "properties = list(onto.object_properties())\n",
    "properties"
   ]
  },
  {
   "cell_type": "code",
   "execution_count": null,
   "id": "a844adf1-7eee-41f5-be83-be8a63da01c7",
   "metadata": {},
   "outputs": [],
   "source": [
    "onto_labels.DFT.is_a[0].instances()"
   ]
  },
  {
   "cell_type": "code",
   "execution_count": null,
   "id": "4047a68e-4cc7-4611-83fc-1fd18158582c",
   "metadata": {},
   "outputs": [],
   "source": [
    "onto_labels.Bulk3dStructure"
   ]
  },
  {
   "cell_type": "code",
   "execution_count": null,
   "id": "f602b228-c41a-4e7c-a1bb-72e03388d925",
   "metadata": {},
   "outputs": [],
   "source": [
    "onto_labels.get_imported_ontologies()"
   ]
  },
  {
   "cell_type": "code",
   "execution_count": null,
   "id": "ce29a07c-d318-42c7-a254-9d8577fc61f7",
   "metadata": {},
   "outputs": [],
   "source": [
    "list(onto.classes())"
   ]
  },
  {
   "cell_type": "code",
   "execution_count": null,
   "id": "6c96066a-b9c1-4e47-8f6e-a248f689ac3e",
   "metadata": {},
   "outputs": [],
   "source": [
    "onto.Label.instances()[-2].get_iri()"
   ]
  },
  {
   "cell_type": "code",
   "execution_count": null,
   "id": "54704241-51f3-4bdf-b545-1514c960df45",
   "metadata": {},
   "outputs": [],
   "source": [
    "onto.base_iri"
   ]
  },
  {
   "cell_type": "code",
   "execution_count": null,
   "id": "266e321f-ff15-4056-96dd-5d2f839155da",
   "metadata": {},
   "outputs": [],
   "source": [
    "onto.Label.instances()"
   ]
  },
  {
   "cell_type": "code",
   "execution_count": null,
   "id": "bb3e3158-0638-4d5b-8e51-f64e9bd732a3",
   "metadata": {},
   "outputs": [],
   "source": [
    "onto_labels.AtomisticEnergyCalculator.is_a[0].instances()"
   ]
  }
 ],
 "metadata": {
  "kernelspec": {
   "display_name": "Python 3",
   "language": "python",
   "name": "python3"
  },
  "language_info": {
   "codemirror_mode": {
    "name": "ipython",
    "version": 3
   },
   "file_extension": ".py",
   "mimetype": "text/x-python",
   "name": "python",
   "nbconvert_exporter": "python",
   "pygments_lexer": "ipython3",
   "version": "3.8.8"
  }
 },
 "nbformat": 4,
 "nbformat_minor": 5
}
