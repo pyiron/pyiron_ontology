{
 "cells": [
  {
   "cell_type": "markdown",
   "id": "afb3f9b8-d03b-4034-9d04-6a40083fad8f",
   "metadata": {},
   "source": [
    "# Show a few prototype examples of how the owl database for pyiron can be used"
   ]
  },
  {
   "cell_type": "markdown",
   "id": "67468d00-886e-44e7-a2d3-b5aa0c94f9c0",
   "metadata": {},
   "source": [
    "Aim: Demonstrate in two example how an ontology (including a reasoner) can be used to \n",
    "\n",
    "- automatically construct workflows\n",
    "- automatically search databases"
   ]
  },
  {
   "cell_type": "markdown",
   "id": "48f3074c-5a7f-4a40-98a0-18d4a95122e4",
   "metadata": {},
   "source": [
    "### Imports and helper functions/definitions"
   ]
  },
  {
   "cell_type": "code",
   "execution_count": 1,
   "id": "9afb03f5-6147-46ca-86d6-f3cd2c55b95b",
   "metadata": {},
   "outputs": [],
   "source": [
    "import owlready2 as owl\n",
    "import pandas as pd\n",
    "import numpy as np\n",
    "from pyiron import Project"
   ]
  },
  {
   "cell_type": "code",
   "execution_count": 2,
   "id": "c9ee7ad3-5c60-4652-ba70-cafc2a6ba0c7",
   "metadata": {},
   "outputs": [],
   "source": [
    "onto = owl.get_ontology(\"file://pyiron_labels.owl\").load() "
   ]
  },
  {
   "cell_type": "code",
   "execution_count": 3,
   "id": "26878ab8-70e0-4aad-b4e0-31f10cc5d88a",
   "metadata": {},
   "outputs": [],
   "source": [
    "Bulkmodulus = onto.Bulk_modulus\n",
    "VASP = onto.VASP\n",
    "LAMMPS = onto.LAMMPS\n",
    "lblAtomistic = onto.Atomistic\n",
    "lblUserInput = onto.UserInput\n",
    "Executable = onto.Executable\n",
    "\n",
    "def consistent_output(self, additional_conditions=None):\n",
    "        if additional_conditions is None:\n",
    "            conditions = self.has_conditions  # + self.has_transitive_conditions\n",
    "        else:\n",
    "            conditions = additional_conditions\n",
    "        # print ('conditions: ', conditions)    \n",
    "        if len(conditions) > 0:    \n",
    "            return [p for p in self.generic_parameter[0].has_parameters if is_subset(conditions, p.has_options)]\n",
    "            # return list(set.intersection(*map(set,[i.has_optional_objects for i in conditions])))\n",
    "        return self.generic_parameter[0].has_parameters\n",
    "    \n",
    "def is_subset(a, b):\n",
    "    return np.all([aa in b for aa in a])   "
   ]
  },
  {
   "cell_type": "markdown",
   "id": "07f6ac63-4a5a-44fa-9c1f-087156db07be",
   "metadata": {
    "jp-MarkdownHeadingCollapsed": true,
    "tags": []
   },
   "source": [
    "#### First steps in using the ontology"
   ]
  },
  {
   "cell_type": "code",
   "execution_count": 13,
   "id": "7d9a2fb2-5661-4535-85a5-91437eea8191",
   "metadata": {},
   "outputs": [
    {
     "data": {
      "text/plain": [
       "[pyiron_labels.CreateStructureBulk,\n",
       " pyiron_labels.VASP,\n",
       " pyiron_labels.LAMMPS,\n",
       " pyiron_labels.Murnaghan/ref_job,\n",
       " pyiron_labels.CreateSurface,\n",
       " pyiron_labels.Murnaghan]"
      ]
     },
     "execution_count": 13,
     "metadata": {},
     "output_type": "execute_result"
    }
   ],
   "source": [
    "onto.Bulk_modulus.has_parameters[0].output_of[0].mandatory_input[0].generic_parameter[0].has_parameters"
   ]
  },
  {
   "cell_type": "code",
   "execution_count": 14,
   "id": "992ccdb4-2567-4b21-931b-a70b03da7881",
   "metadata": {},
   "outputs": [],
   "source": [
    "ref_job = Bulkmodulus.has_parameters[0].output_of[0].mandatory_input[0]"
   ]
  },
  {
   "cell_type": "code",
   "execution_count": 15,
   "id": "cc36d361-9e8b-4ea1-9906-a60957859438",
   "metadata": {},
   "outputs": [
    {
     "data": {
      "text/plain": [
       "([pyiron_labels.Bulk3dStructure, pyiron_labels.AtomisticEnergyCalculator],\n",
       " [pyiron_labels.CreateStructureBulk,\n",
       "  pyiron_labels.VASP,\n",
       "  pyiron_labels.LAMMPS,\n",
       "  pyiron_labels.Murnaghan/ref_job,\n",
       "  pyiron_labels.CreateSurface,\n",
       "  pyiron_labels.Murnaghan])"
      ]
     },
     "execution_count": 15,
     "metadata": {},
     "output_type": "execute_result"
    }
   ],
   "source": [
    "ref_job.generic_parameter[0].has_parameters"
   ]
  },
  {
   "cell_type": "code",
   "execution_count": 16,
   "id": "3780199d-9ad8-47a2-97c1-527074c847e4",
   "metadata": {},
   "outputs": [
    {
     "data": {
      "text/plain": [
       "[pyiron_labels.VASP, pyiron_labels.LAMMPS]"
      ]
     },
     "execution_count": 16,
     "metadata": {},
     "output_type": "execute_result"
    }
   ],
   "source": [
    "consistent_output(ref_job)"
   ]
  },
  {
   "cell_type": "code",
   "execution_count": 7,
   "id": "0af7ee91-ec0d-435c-8ebb-f030db6dfcc9",
   "metadata": {},
   "outputs": [],
   "source": [
    "list(onto.individuals());"
   ]
  },
  {
   "cell_type": "code",
   "execution_count": 10,
   "id": "37ad685e-fd8e-4451-bade-5f5f26fd9dcc",
   "metadata": {},
   "outputs": [
    {
     "data": {
      "text/plain": [
       "([pyiron_labels.MaterialProperty],\n",
       " [pyiron_labels.Murnaghan/output/equilibrium_bulk_modulus])"
      ]
     },
     "execution_count": 10,
     "metadata": {},
     "output_type": "execute_result"
    }
   ],
   "source": [
    "onto.Bulk_modulus.domain, onto.Bulk_modulus.has_parameters"
   ]
  },
  {
   "cell_type": "code",
   "execution_count": 11,
   "id": "174bccde-a3bc-4dd7-97a5-1e185387d1b3",
   "metadata": {},
   "outputs": [
    {
     "data": {
      "text/plain": [
       "[pyiron_labels.Bulk_modulus]"
      ]
     },
     "execution_count": 11,
     "metadata": {},
     "output_type": "execute_result"
    }
   ],
   "source": [
    "Bulkmodulus.has_parameters[0].generic_parameter"
   ]
  },
  {
   "cell_type": "code",
   "execution_count": 12,
   "id": "dd0e306b-a157-4f77-9d13-144f01e7d1ed",
   "metadata": {},
   "outputs": [
    {
     "data": {
      "text/plain": [
       "[pyiron_labels.Bulk_modulus]"
      ]
     },
     "execution_count": 12,
     "metadata": {},
     "output_type": "execute_result"
    }
   ],
   "source": [
    "Bulkmodulus.has_parameters[0].generic_parameter"
   ]
  },
  {
   "cell_type": "code",
   "execution_count": 13,
   "id": "d4afae4d-4b76-4647-b521-ffe6172f5990",
   "metadata": {},
   "outputs": [
    {
     "data": {
      "text/plain": [
       "[pyiron_labels.ENCUT, pyiron_labels.IBRAV]"
      ]
     },
     "execution_count": 13,
     "metadata": {},
     "output_type": "execute_result"
    }
   ],
   "source": [
    "VASP.input"
   ]
  },
  {
   "cell_type": "code",
   "execution_count": 14,
   "id": "4e624683-0a72-483b-89ad-139b68c98fef",
   "metadata": {},
   "outputs": [
    {
     "data": {
      "text/plain": [
       "pyiron_labels.Murnaghan/ref_job"
      ]
     },
     "execution_count": 14,
     "metadata": {},
     "output_type": "execute_result"
    }
   ],
   "source": [
    "inp = Bulkmodulus.has_parameters[0].output_of[0].mandatory_input[0]\n",
    "inp"
   ]
  },
  {
   "cell_type": "code",
   "execution_count": 15,
   "id": "331fb8aa-b664-49e6-b260-3066a81adefa",
   "metadata": {},
   "outputs": [
    {
     "data": {
      "text/plain": [
       "[pyiron_labels.LAMMPS/input/structure]"
      ]
     },
     "execution_count": 15,
     "metadata": {},
     "output_type": "execute_result"
    }
   ],
   "source": [
    "LAMMPS.mandatory_input"
   ]
  },
  {
   "cell_type": "code",
   "execution_count": 16,
   "id": "ae978272-00e9-4464-b834-e6eb3ffd04f7",
   "metadata": {},
   "outputs": [
    {
     "data": {
      "text/plain": [
       "pyiron_labels.Murnaghan/ref_job"
      ]
     },
     "execution_count": 16,
     "metadata": {},
     "output_type": "execute_result"
    }
   ],
   "source": [
    "Bulkmodulus.has_parameters[0].output_of[0].mandatory_input[0]"
   ]
  },
  {
   "cell_type": "code",
   "execution_count": 17,
   "id": "8126915c-84b5-4d63-90de-dd727e5d0345",
   "metadata": {},
   "outputs": [
    {
     "data": {
      "text/plain": [
       "[pyiron_labels.VASP, pyiron_labels.LAMMPS]"
      ]
     },
     "execution_count": 17,
     "metadata": {},
     "output_type": "execute_result"
    }
   ],
   "source": [
    "consistent_output(Bulkmodulus.has_parameters[0].output_of[0].mandatory_input[0])"
   ]
  },
  {
   "cell_type": "code",
   "execution_count": 18,
   "id": "9047b6af-ed8f-43fd-ba31-425b23daef0c",
   "metadata": {},
   "outputs": [
    {
     "data": {
      "text/plain": [
       "[pyiron_labels.CreateStructureBulk,\n",
       " pyiron_labels.VASP,\n",
       " pyiron_labels.LAMMPS,\n",
       " pyiron_labels.AtomicStructure,\n",
       " pyiron_labels.ChemicalElement,\n",
       " pyiron_labels.CreateSurface,\n",
       " pyiron_labels.Murnaghan]"
      ]
     },
     "execution_count": 18,
     "metadata": {},
     "output_type": "execute_result"
    }
   ],
   "source": [
    "lblAtomistic.has_objects"
   ]
  },
  {
   "cell_type": "code",
   "execution_count": 19,
   "id": "443b9bef-2fde-4955-9853-f95f8f79a211",
   "metadata": {},
   "outputs": [
    {
     "data": {
      "text/plain": [
       "[pyiron_labels.LAMMPS/input/structure,\n",
       " pyiron_labels.CreateStructureBulk/output/structure,\n",
       " pyiron_labels.CreateSurface/output/structure,\n",
       " pyiron_labels.VASP/input/structure]"
      ]
     },
     "execution_count": 19,
     "metadata": {},
     "output_type": "execute_result"
    }
   ],
   "source": [
    "consistent_output(VASP.mandatory_input[0])"
   ]
  },
  {
   "cell_type": "code",
   "execution_count": 20,
   "id": "39a22e5a-0ec0-4210-adf0-479f8592b42d",
   "metadata": {},
   "outputs": [
    {
     "data": {
      "text/plain": [
       "[pyiron_labels.Bulk3dStructure, pyiron_labels.AtomisticEnergyCalculator]"
      ]
     },
     "execution_count": 20,
     "metadata": {},
     "output_type": "execute_result"
    }
   ],
   "source": [
    "Bulkmodulus.has_parameters[0].output_of[0].mandatory_input[0].has_conditions"
   ]
  },
  {
   "cell_type": "code",
   "execution_count": 21,
   "id": "98c969af-9e5a-45b5-accd-a235484f69fd",
   "metadata": {},
   "outputs": [
    {
     "data": {
      "text/plain": [
       "[pyiron_labels.CreateStructureBulk/output/structure]"
      ]
     },
     "execution_count": 21,
     "metadata": {},
     "output_type": "execute_result"
    }
   ],
   "source": [
    "inp = consistent_output(Bulkmodulus.has_parameters[0].output_of[0].mandatory_input[0])[0].mandatory_input[0]\n",
    "consistent_output(inp, inp.has_transitive_conditions)"
   ]
  },
  {
   "cell_type": "code",
   "execution_count": 22,
   "id": "37159444-bb07-48d5-bd61-3d32655ec548",
   "metadata": {},
   "outputs": [
    {
     "data": {
      "text/plain": [
       "[pyiron_labels.Bulk3dStructure]"
      ]
     },
     "execution_count": 22,
     "metadata": {},
     "output_type": "execute_result"
    }
   ],
   "source": [
    "onto['LAMMPS/input/structure'].has_transitive_conditions"
   ]
  },
  {
   "cell_type": "code",
   "execution_count": 23,
   "id": "1d27918c-11a1-452b-9852-70d1bdffa43f",
   "metadata": {},
   "outputs": [
    {
     "data": {
      "text/plain": [
       "[pyiron_labels.LAMMPS/input/structure,\n",
       " pyiron_labels.CreateStructureBulk/output/structure,\n",
       " pyiron_labels.CreateSurface/output/structure,\n",
       " pyiron_labels.VASP/input/structure]"
      ]
     },
     "execution_count": 23,
     "metadata": {},
     "output_type": "execute_result"
    }
   ],
   "source": [
    "consistent_output(consistent_output(Bulkmodulus.has_parameters[0].output_of[0].mandatory_input[0])[0].mandatory_input[0])"
   ]
  },
  {
   "cell_type": "markdown",
   "id": "bbd8f8df-a265-4c9f-ba36-42a0d6d64eb9",
   "metadata": {},
   "source": [
    "### Automatically construct workflows"
   ]
  },
  {
   "cell_type": "markdown",
   "id": "7fba1798-ccc3-42f5-9ad7-5ec0f9957d63",
   "metadata": {},
   "source": [
    "Start from the target quantity (e.g. onto.Bulk_modulus) and let the ontology construct a workflow to automatically compute it "
   ]
  },
  {
   "cell_type": "code",
   "execution_count": 35,
   "id": "e45d8b19-b968-4b3f-8374-c926df0f2373",
   "metadata": {},
   "outputs": [
    {
     "name": "stdout",
     "output_type": "stream",
     "text": [
      "i:Murnaghan/ref_job -> c:Murnaghan -> o:Murnaghan/output/equilibrium_bulk_modulus  c:[pyiron_labels.Bulk3dStructure pyiron_labels.AtomisticEnergyCalculator]\n",
      "WARNING: More than one matching output!  [pyiron_labels.VASP, pyiron_labels.LAMMPS]\n",
      "i: VASP/input/structure -> o:VASP  c:[pyiron_labels.Bulk3dStructure]\n",
      "i:CreateStructureBulk/input/element -> c:CreateStructureBulk -> o:CreateStructureBulk/output/structure  c:[]\n"
     ]
    }
   ],
   "source": [
    "out = onto.Bulk_modulus.has_parameters[0]  # alternative: onto.B_prime\n",
    "df_dict = {'source': [], 'target': [], 'operator': []}\n",
    "for i in range(100):\n",
    "    # print ('out: ', out.name)\n",
    "    if out.generic_parameter[0] == Executable:\n",
    "        inp = out.mandatory_input[0]\n",
    "        code = None\n",
    "        # print (f'i: {inp.name} -> o:{out.name}')\n",
    "    else:\n",
    "        code = out.output_of[0]\n",
    "        inp = code.mandatory_input[0]\n",
    "        # print (f'i:{inp.name} -> c:{code.name} -> o:{out.name}')\n",
    "    if i==0:    \n",
    "        conditions = np.array(inp.has_conditions)\n",
    "    else:\n",
    "        conditions = np.array(list(conditions) + inp.has_conditions)\n",
    "        conditions = conditions[np.in1d(conditions, inp.has_transitive_conditions)]\n",
    "    # print ('conditions', conditions)\n",
    "    if code is None:\n",
    "        print (f'i: {inp.name} -> o:{out.name}  c:{conditions}')\n",
    "    else:\n",
    "        print (f'i:{inp.name} -> c:{code.name} -> o:{out.name}  c:{conditions}')  \n",
    "    df_dict['source'].append(inp.name)\n",
    "    df_dict['target'].append(out.name)\n",
    "    df_dict['operator'].append(code)\n",
    "    \n",
    "    if lblUserInput in inp.generic_parameter[0].domain: break    \n",
    "\n",
    "    out = consistent_output(inp, conditions)\n",
    "    if len(out) != 1:\n",
    "        print ('WARNING: More than one matching output! ', out)\n",
    "    out = out[0]    \n",
    "  \n",
    "df = pd.DataFrame(df_dict) "
   ]
  },
  {
   "cell_type": "code",
   "execution_count": 36,
   "id": "582b3aad-c673-44d8-8af2-7ece8ca94a57",
   "metadata": {},
   "outputs": [
    {
     "data": {
      "text/html": [
       "<div>\n",
       "<style scoped>\n",
       "    .dataframe tbody tr th:only-of-type {\n",
       "        vertical-align: middle;\n",
       "    }\n",
       "\n",
       "    .dataframe tbody tr th {\n",
       "        vertical-align: top;\n",
       "    }\n",
       "\n",
       "    .dataframe thead th {\n",
       "        text-align: right;\n",
       "    }\n",
       "</style>\n",
       "<table border=\"1\" class=\"dataframe\">\n",
       "  <thead>\n",
       "    <tr style=\"text-align: right;\">\n",
       "      <th></th>\n",
       "      <th>source</th>\n",
       "      <th>target</th>\n",
       "      <th>operator</th>\n",
       "    </tr>\n",
       "  </thead>\n",
       "  <tbody>\n",
       "    <tr>\n",
       "      <th>0</th>\n",
       "      <td>Murnaghan/ref_job</td>\n",
       "      <td>Murnaghan/output/equilibrium_bulk_modulus</td>\n",
       "      <td>pyiron_labels.Murnaghan</td>\n",
       "    </tr>\n",
       "    <tr>\n",
       "      <th>1</th>\n",
       "      <td>VASP/input/structure</td>\n",
       "      <td>VASP</td>\n",
       "      <td>None</td>\n",
       "    </tr>\n",
       "    <tr>\n",
       "      <th>2</th>\n",
       "      <td>CreateStructureBulk/input/element</td>\n",
       "      <td>CreateStructureBulk/output/structure</td>\n",
       "      <td>pyiron_labels.CreateStructureBulk</td>\n",
       "    </tr>\n",
       "  </tbody>\n",
       "</table>\n",
       "</div>"
      ],
      "text/plain": [
       "                              source  \\\n",
       "0                  Murnaghan/ref_job   \n",
       "1               VASP/input/structure   \n",
       "2  CreateStructureBulk/input/element   \n",
       "\n",
       "                                      target  \\\n",
       "0  Murnaghan/output/equilibrium_bulk_modulus   \n",
       "1                                       VASP   \n",
       "2       CreateStructureBulk/output/structure   \n",
       "\n",
       "                            operator  \n",
       "0            pyiron_labels.Murnaghan  \n",
       "1                               None  \n",
       "2  pyiron_labels.CreateStructureBulk  "
      ]
     },
     "execution_count": 36,
     "metadata": {},
     "output_type": "execute_result"
    }
   ],
   "source": [
    "df"
   ]
  },
  {
   "cell_type": "markdown",
   "id": "43f7c01a-ddce-409d-8119-6c405eacc12d",
   "metadata": {},
   "source": [
    "#### Visualize workflow"
   ]
  },
  {
   "cell_type": "code",
   "execution_count": 23,
   "id": "29f8c353-aad1-4f30-88d7-3359affbdcda",
   "metadata": {},
   "outputs": [
    {
     "data": {
      "image/svg+xml": [
       "<?xml version=\"1.0\" encoding=\"UTF-8\" standalone=\"no\"?>\n",
       "<!DOCTYPE svg PUBLIC \"-//W3C//DTD SVG 1.1//EN\"\n",
       " \"http://www.w3.org/Graphics/SVG/1.1/DTD/svg11.dtd\">\n",
       "<!-- Generated by graphviz version 3.0.0 (20220315.2325)\n",
       " -->\n",
       "<!-- Pages: 1 -->\n",
       "<svg width=\"91pt\" height=\"371pt\"\n",
       " viewBox=\"0.00 0.00 91.00 371.00\" xmlns=\"http://www.w3.org/2000/svg\" xmlns:xlink=\"http://www.w3.org/1999/xlink\">\n",
       "<g id=\"graph0\" class=\"graph\" transform=\"scale(1 1) rotate(0) translate(4 367)\">\n",
       "<polygon fill=\"white\" stroke=\"transparent\" points=\"-4,4 -4,-367 87,-367 87,4 -4,4\"/>\n",
       "<!-- CreateStructureBulk\n",
       "input\n",
       "element -->\n",
       "<g id=\"node1\" class=\"node\">\n",
       "<title>CreateStructureBulk\n",
       "input\n",
       "element</title>\n",
       "<polygon fill=\"lightgrey\" stroke=\"black\" points=\"83,-363 0,-363 0,-328 83,-328 83,-363\"/>\n",
       "<text text-anchor=\"middle\" x=\"41.5\" y=\"-352.6\" font-family=\"Times,serif\" font-size=\"8.00\">CreateStructureBulk</text>\n",
       "<text text-anchor=\"middle\" x=\"41.5\" y=\"-343.6\" font-family=\"Times,serif\" font-size=\"8.00\">input</text>\n",
       "<text text-anchor=\"middle\" x=\"41.5\" y=\"-334.6\" font-family=\"Times,serif\" font-size=\"8.00\">element</text>\n",
       "</g>\n",
       "<!-- CreateStructureBulk\n",
       "output\n",
       "structure -->\n",
       "<g id=\"node2\" class=\"node\">\n",
       "<title>CreateStructureBulk\n",
       "output\n",
       "structure</title>\n",
       "<polygon fill=\"lightgrey\" stroke=\"black\" points=\"83,-292 0,-292 0,-257 83,-257 83,-292\"/>\n",
       "<text text-anchor=\"middle\" x=\"41.5\" y=\"-281.6\" font-family=\"Times,serif\" font-size=\"8.00\">CreateStructureBulk</text>\n",
       "<text text-anchor=\"middle\" x=\"41.5\" y=\"-272.6\" font-family=\"Times,serif\" font-size=\"8.00\">output</text>\n",
       "<text text-anchor=\"middle\" x=\"41.5\" y=\"-263.6\" font-family=\"Times,serif\" font-size=\"8.00\">structure</text>\n",
       "</g>\n",
       "<!-- CreateStructureBulk\n",
       "input\n",
       "element&#45;&gt;CreateStructureBulk\n",
       "output\n",
       "structure -->\n",
       "<g id=\"edge1\" class=\"edge\">\n",
       "<title>CreateStructureBulk\n",
       "input\n",
       "element&#45;&gt;CreateStructureBulk\n",
       "output\n",
       "structure</title>\n",
       "<path fill=\"none\" stroke=\"black\" d=\"M41.5,-327.8C41.5,-320.08 41.5,-310.74 41.5,-302.09\"/>\n",
       "<polygon fill=\"black\" stroke=\"black\" points=\"45,-302.05 41.5,-292.05 38,-302.05 45,-302.05\"/>\n",
       "</g>\n",
       "<!-- VASP\n",
       "input\n",
       "structure -->\n",
       "<g id=\"node3\" class=\"node\">\n",
       "<title>VASP\n",
       "input\n",
       "structure</title>\n",
       "<polygon fill=\"lightgrey\" stroke=\"black\" points=\"68.5,-221 14.5,-221 14.5,-186 68.5,-186 68.5,-221\"/>\n",
       "<text text-anchor=\"middle\" x=\"41.5\" y=\"-210.6\" font-family=\"Times,serif\" font-size=\"8.00\">VASP</text>\n",
       "<text text-anchor=\"middle\" x=\"41.5\" y=\"-201.6\" font-family=\"Times,serif\" font-size=\"8.00\">input</text>\n",
       "<text text-anchor=\"middle\" x=\"41.5\" y=\"-192.6\" font-family=\"Times,serif\" font-size=\"8.00\">structure</text>\n",
       "</g>\n",
       "<!-- CreateStructureBulk\n",
       "output\n",
       "structure&#45;&gt;VASP\n",
       "input\n",
       "structure -->\n",
       "<g id=\"edge2\" class=\"edge\">\n",
       "<title>CreateStructureBulk\n",
       "output\n",
       "structure&#45;&gt;VASP\n",
       "input\n",
       "structure</title>\n",
       "<path fill=\"none\" stroke=\"black\" d=\"M41.5,-256.8C41.5,-249.08 41.5,-239.74 41.5,-231.09\"/>\n",
       "<polygon fill=\"black\" stroke=\"black\" points=\"45,-231.05 41.5,-221.05 38,-231.05 45,-231.05\"/>\n",
       "</g>\n",
       "<!-- VASP -->\n",
       "<g id=\"node4\" class=\"node\">\n",
       "<title>VASP</title>\n",
       "<polygon fill=\"lightgrey\" stroke=\"black\" points=\"68.5,-150 14.5,-150 14.5,-133 68.5,-133 68.5,-150\"/>\n",
       "<text text-anchor=\"middle\" x=\"41.5\" y=\"-139.6\" font-family=\"Times,serif\" font-size=\"8.00\">VASP</text>\n",
       "</g>\n",
       "<!-- VASP\n",
       "input\n",
       "structure&#45;&gt;VASP -->\n",
       "<g id=\"edge3\" class=\"edge\">\n",
       "<title>VASP\n",
       "input\n",
       "structure&#45;&gt;VASP</title>\n",
       "<path fill=\"none\" stroke=\"black\" d=\"M41.5,-185.79C41.5,-177.87 41.5,-168.4 41.5,-160.34\"/>\n",
       "<polygon fill=\"black\" stroke=\"black\" points=\"45,-160.2 41.5,-150.2 38,-160.2 45,-160.2\"/>\n",
       "</g>\n",
       "<!-- Murnaghan\n",
       "ref_job -->\n",
       "<g id=\"node5\" class=\"node\">\n",
       "<title>Murnaghan\n",
       "ref_job</title>\n",
       "<polygon fill=\"lightgrey\" stroke=\"black\" points=\"68.5,-97 14.5,-97 14.5,-71 68.5,-71 68.5,-97\"/>\n",
       "<text text-anchor=\"middle\" x=\"41.5\" y=\"-86.6\" font-family=\"Times,serif\" font-size=\"8.00\">Murnaghan</text>\n",
       "<text text-anchor=\"middle\" x=\"41.5\" y=\"-77.6\" font-family=\"Times,serif\" font-size=\"8.00\">ref_job</text>\n",
       "</g>\n",
       "<!-- VASP&#45;&gt;Murnaghan\n",
       "ref_job -->\n",
       "<g id=\"edge4\" class=\"edge\">\n",
       "<title>VASP&#45;&gt;Murnaghan\n",
       "ref_job</title>\n",
       "<path fill=\"none\" stroke=\"black\" d=\"M41.5,-132.78C41.5,-126.26 41.5,-116.58 41.5,-107.63\"/>\n",
       "<polygon fill=\"black\" stroke=\"black\" points=\"45,-107.34 41.5,-97.34 38,-107.34 45,-107.34\"/>\n",
       "</g>\n",
       "<!-- Murnaghan\n",
       "output\n",
       "equilibrium_b_prime -->\n",
       "<g id=\"node6\" class=\"node\">\n",
       "<title>Murnaghan\n",
       "output\n",
       "equilibrium_b_prime</title>\n",
       "<polygon fill=\"lightgrey\" stroke=\"black\" points=\"83,-35 0,-35 0,0 83,0 83,-35\"/>\n",
       "<text text-anchor=\"middle\" x=\"41.5\" y=\"-24.6\" font-family=\"Times,serif\" font-size=\"8.00\">Murnaghan</text>\n",
       "<text text-anchor=\"middle\" x=\"41.5\" y=\"-15.6\" font-family=\"Times,serif\" font-size=\"8.00\">output</text>\n",
       "<text text-anchor=\"middle\" x=\"41.5\" y=\"-6.6\" font-family=\"Times,serif\" font-size=\"8.00\">equilibrium_b_prime</text>\n",
       "</g>\n",
       "<!-- Murnaghan\n",
       "ref_job&#45;&gt;Murnaghan\n",
       "output\n",
       "equilibrium_b_prime -->\n",
       "<g id=\"edge5\" class=\"edge\">\n",
       "<title>Murnaghan\n",
       "ref_job&#45;&gt;Murnaghan\n",
       "output\n",
       "equilibrium_b_prime</title>\n",
       "<path fill=\"none\" stroke=\"black\" d=\"M41.5,-70.87C41.5,-63.63 41.5,-54.14 41.5,-45.23\"/>\n",
       "<polygon fill=\"black\" stroke=\"black\" points=\"45,-45.2 41.5,-35.2 38,-45.2 45,-45.2\"/>\n",
       "</g>\n",
       "</g>\n",
       "</svg>\n"
      ],
      "text/plain": [
       "<graphviz.graphs.Digraph at 0x15042e899b50>"
      ]
     },
     "execution_count": 23,
     "metadata": {},
     "output_type": "execute_result"
    }
   ],
   "source": [
    "import graphviz\n",
    "\n",
    "target = ['\\n'.join(t.split('/')) for t in df.target.values]\n",
    "source = ['\\n'.join(t.split('/')) for t in df.source.values]\n",
    "my_lst = np.array([source[::-1], target[::-1]]).T.flatten()\n",
    "To = my_lst[1:]\n",
    "From = my_lst[:-1]\n",
    "\n",
    "node_attr = dict(style='filled',\n",
    "                 shape='box',\n",
    "                 align='left',\n",
    "                 fontsize='8',\n",
    "                 ranksep='0.1',\n",
    "                 height='0.2')\n",
    "w = graphviz.Digraph(node_attr=node_attr)\n",
    "w.edges((f, t) for f,t in zip(From, To))\n",
    "w"
   ]
  },
  {
   "cell_type": "markdown",
   "id": "8b8283f2-2f6b-4e33-8e2a-55a8d2f50ed9",
   "metadata": {
    "jp-MarkdownHeadingCollapsed": true,
    "tags": []
   },
   "source": [
    "#### Towards a fully recursive creation of workflows (fragment)"
   ]
  },
  {
   "cell_type": "code",
   "execution_count": 28,
   "id": "3e372394-1015-4419-85de-a247844ed916",
   "metadata": {},
   "outputs": [],
   "source": [
    "def get_new_output(out, conditions=[]):\n",
    "    if out.generic_parameter[0] == Executable:\n",
    "        inp = out.mandatory_input[0]\n",
    "        code = None\n",
    "        # print (f'i: {inp.name} -> o:{out.name}')\n",
    "    else:\n",
    "        code = out.output_of[0]\n",
    "        inp = code.mandatory_input[0]\n",
    "        # print (f'i:{inp.name} -> c:{code.name} -> o:{out.name}')\n",
    "    # if i==0:    \n",
    "    #     conditions = np.array(inp.has_conditions)\n",
    "    # else:\n",
    "    conditions = np.array(list(conditions) + inp.has_conditions)\n",
    "    # conditions = conditions[np.in1d(conditions, inp.has_transitive_conditions)]\n",
    "    print ('transitive: ', inp.has_transitive_conditions)\n",
    "\n",
    "    if code is None:\n",
    "        print (f'i: {inp.name} -> o:{out.name}  c:{conditions}')\n",
    "    else:\n",
    "        print (f'i:{inp.name} -> c:{code.name} -> o:{out.name}  c:{conditions}')  \n",
    "    df_dict['source'].append(inp.name)\n",
    "    df_dict['target'].append(out.name)\n",
    "    df_dict['operator'].append(code)\n",
    "    \n",
    "    if lblUserInput in inp.generic_parameter[0].domain: \n",
    "        return [], []\n",
    "\n",
    "    out = consistent_output(inp, conditions)\n",
    "    # if len(out) != 1:\n",
    "    #     print ('WARNING: More than one matching output! ', out)\n",
    "    conditions = conditions[np.in1d(conditions, inp.has_transitive_conditions)]\n",
    "    return out, conditions"
   ]
  },
  {
   "cell_type": "code",
   "execution_count": 29,
   "id": "97468458-3e1c-4e88-9bd0-7cc925b696b1",
   "metadata": {},
   "outputs": [],
   "source": [
    "def get_all_paths(node, path=None, c=[]):\n",
    "    paths = []\n",
    "    if path is None:\n",
    "        path = []\n",
    "    path.append(node)\n",
    "    children, c = get_new_output(node, c)[0]\n",
    "    if len(children):\n",
    "        for child in children:\n",
    "            paths.extend(get_all_paths(child, path[:]))\n",
    "    else:\n",
    "        paths.append(path)\n",
    "    return paths"
   ]
  },
  {
   "cell_type": "code",
   "execution_count": 30,
   "id": "06a2388f-60d2-4635-86ec-77a5faca6b24",
   "metadata": {},
   "outputs": [
    {
     "name": "stdout",
     "output_type": "stream",
     "text": [
      "transitive:  []\n",
      "i:Murnaghan/ref_job -> c:Murnaghan -> o:Murnaghan/output/equilibrium_bulk_modulus  c:[pyiron_labels.Bulk3dStructure pyiron_labels.AtomisticEnergyCalculator]\n",
      "transitive:  [pyiron_labels.Bulk3dStructure]\n",
      "i: VASP/input/structure -> o:VASP  c:[]\n"
     ]
    },
    {
     "data": {
      "text/plain": [
       "([pyiron_labels.LAMMPS/input/structure,\n",
       "  pyiron_labels.CreateStructureBulk/output/structure,\n",
       "  pyiron_labels.CreateSurface/output/structure,\n",
       "  pyiron_labels.VASP/input/structure],\n",
       " array([], dtype=float64))"
      ]
     },
     "execution_count": 30,
     "metadata": {},
     "output_type": "execute_result"
    }
   ],
   "source": [
    "out = Bulkmodulus.has_parameters[0]\n",
    "df_dict = {'source': [], 'target': [], 'operator': []}\n",
    "# conditions = []\n",
    "# get_all_paths(out)\n",
    "o, c = get_new_output(out, conditions=[])\n",
    "get_new_output(o[0], c)"
   ]
  },
  {
   "cell_type": "code",
   "execution_count": 31,
   "id": "07145323-15dd-4c53-addb-840cbcc9de96",
   "metadata": {},
   "outputs": [],
   "source": [
    "# def run_recursive(out, conditions):\n",
    "#     if len(out) == 0:\n",
    "#         return None\n",
    "#     for i, o in enumerate(out):\n",
    "#         print (i)\n",
    "        \n",
    "#         o_new, c_new = get_new_output(o, conditions)"
   ]
  },
  {
   "cell_type": "code",
   "execution_count": 32,
   "id": "86c38ad2-5576-48b2-98a1-2fe7e301142c",
   "metadata": {},
   "outputs": [],
   "source": [
    "# out = [Bulkmodulus.has_parameters[0]]\n",
    "# df_dict = {'source': [], 'target': [], 'operator': []}\n",
    "# conditions = []\n",
    "# run_recursive(out, conditions)\n",
    "\n",
    "# for ind_o, o in enumerate(out):\n",
    "#     for i in range(5):\n",
    "#         print (i, ind_o)\n",
    "#         out, conditions = get_new_output(out, conditions)"
   ]
  },
  {
   "cell_type": "markdown",
   "id": "a2e2b0b7-8c83-41fd-a56c-03f3def3079e",
   "metadata": {},
   "source": [
    "## Use Ontology to access pyiron database"
   ]
  },
  {
   "cell_type": "markdown",
   "id": "9b8ecc79-7e88-47b3-b341-2543fc626732",
   "metadata": {},
   "source": [
    "### Definitions and helper tools"
   ]
  },
  {
   "cell_type": "code",
   "execution_count": 24,
   "id": "bd24c143-d157-43c3-aaf5-e701faa85e38",
   "metadata": {},
   "outputs": [],
   "source": [
    "def get_ref_job(job):\n",
    "    ref_job_name = list(set(job.project_hdf5.list_groups()) - set(['input', 'output']))\n",
    "    if len(ref_job_name) == 1:\n",
    "        return ref_job_name[0]"
   ]
  },
  {
   "cell_type": "code",
   "execution_count": 25,
   "id": "be078a0e-8158-4392-b4f3-88da4dadcbff",
   "metadata": {},
   "outputs": [],
   "source": [
    "def get_job_type(job):\n",
    "    ref_job_name = get_ref_job(job)\n",
    "    if ref_job_name is not None:\n",
    "        return job[f'{ref_job_name}/TYPE'].split('.')[-1][:-2]"
   ]
  },
  {
   "cell_type": "code",
   "execution_count": 26,
   "id": "3482acd9-9e0d-44a8-9482-0f2e77bd4b30",
   "metadata": {},
   "outputs": [],
   "source": [
    "def alloy(el):\n",
    "    if el is None:\n",
    "        return '%'\n",
    "    return f'%{el}%'  # convert to SQL search string"
   ]
  },
  {
   "cell_type": "code",
   "execution_count": 27,
   "id": "4297064b-0453-41b9-8b8b-0c7973adf8fc",
   "metadata": {},
   "outputs": [],
   "source": [
    "import pint\n",
    "ureg = pint.UnitRegistry()\n",
    "\n",
    "def convert_unit(my_parameter):\n",
    "    if hasattr(my_parameter, \"unit\"):\n",
    "        source_unit = my_parameter.unit\n",
    "        if len(source_unit) == 1:            \n",
    "            target_unit = my_parameter.generic_parameter[0].unit[0]\n",
    "            # print (source_unit, target_unit)\n",
    "            if source_unit[0] != target_unit:\n",
    "                return ureg(source_unit[0]).to(target_unit).magnitude\n",
    "        elif len(source_unit) > 1:\n",
    "            print (source_unit)\n",
    "            raise ValueError('Multiple units not supported')\n",
    "    return 1"
   ]
  },
  {
   "cell_type": "code",
   "execution_count": 28,
   "id": "7644ecec-e468-4553-8895-8cbc73aab8ae",
   "metadata": {},
   "outputs": [],
   "source": [
    "def find_property(my_property, project, select_alloy=None):\n",
    "    specific_property = my_property.has_parameters[0]\n",
    "    job_type = specific_property.output_of[0].name\n",
    "    hdf_path = '/'.join(specific_property.name.split('/')[1:])\n",
    "\n",
    "    pd_header = ['Chemical Formula', f'{my_property.name} [{my_property.unit[0]}]', 'ref_job']\n",
    "    pd_dic = {k:[] for k in pd_header}\n",
    "    sql_formula_str = alloy(select_alloy)\n",
    "    df_murn = pd.DataFrame(project.db.get_items_dict({'hamilton': job_type, 'chemicalformula': sql_formula_str}))\n",
    "    for _, row in df_murn.iterrows():\n",
    "        if row.projectpath[-1] == '/':\n",
    "            job = pr.inspect(row.id)\n",
    "            pd_dic['Chemical Formula'].append(row.chemicalformula)\n",
    "            cv = convert_unit(specific_property)\n",
    "            pd_dic[pd_header[1]].append(cv * job[hdf_path])\n",
    "            pd_dic['ref_job'].append(get_job_type(job))\n",
    "    return pd.DataFrame(pd_dic)        "
   ]
  },
  {
   "cell_type": "markdown",
   "id": "f8fa34c4-06d4-4c25-ba55-e1635f778667",
   "metadata": {},
   "source": [
    "### Application"
   ]
  },
  {
   "cell_type": "markdown",
   "id": "324f11c4-1458-432d-8224-d09628b5557a",
   "metadata": {},
   "source": [
    "Use ontology to automatically search pyiron database. "
   ]
  },
  {
   "cell_type": "code",
   "execution_count": 29,
   "id": "1c096e80-c3f7-430c-8363-3fdc9ecd8499",
   "metadata": {},
   "outputs": [],
   "source": [
    "pr = Project('../../..')"
   ]
  },
  {
   "cell_type": "code",
   "execution_count": 30,
   "id": "2cf8eee8-9b76-446b-bf63-08ac12f7854c",
   "metadata": {},
   "outputs": [
    {
     "data": {
      "text/plain": [
       "[pyiron_labels.Bulk_modulus, pyiron_labels.B_prime]"
      ]
     },
     "execution_count": 30,
     "metadata": {},
     "output_type": "execute_result"
    }
   ],
   "source": [
    "onto.MaterialProperty.has_objects"
   ]
  },
  {
   "cell_type": "code",
   "execution_count": 32,
   "id": "5e3731ca-5e8e-450a-bf83-ac7e45ed39a0",
   "metadata": {},
   "outputs": [
    {
     "name": "stdout",
     "output_type": "stream",
     "text": [
      "CPU times: user 61.5 ms, sys: 6.21 ms, total: 67.8 ms\n",
      "Wall time: 424 ms\n"
     ]
    },
    {
     "data": {
      "text/html": [
       "<div>\n",
       "<style scoped>\n",
       "    .dataframe tbody tr th:only-of-type {\n",
       "        vertical-align: middle;\n",
       "    }\n",
       "\n",
       "    .dataframe tbody tr th {\n",
       "        vertical-align: top;\n",
       "    }\n",
       "\n",
       "    .dataframe thead th {\n",
       "        text-align: right;\n",
       "    }\n",
       "</style>\n",
       "<table border=\"1\" class=\"dataframe\">\n",
       "  <thead>\n",
       "    <tr style=\"text-align: right;\">\n",
       "      <th></th>\n",
       "      <th>Chemical Formula</th>\n",
       "      <th>Bulk_modulus [MPa]</th>\n",
       "      <th>ref_job</th>\n",
       "    </tr>\n",
       "  </thead>\n",
       "  <tbody>\n",
       "    <tr>\n",
       "      <th>0</th>\n",
       "      <td>Ni500</td>\n",
       "      <td>185513.288349</td>\n",
       "      <td>Lammps</td>\n",
       "    </tr>\n",
       "    <tr>\n",
       "      <th>1</th>\n",
       "      <td>Al300Ni200</td>\n",
       "      <td>230375.100288</td>\n",
       "      <td>Lammps</td>\n",
       "    </tr>\n",
       "    <tr>\n",
       "      <th>2</th>\n",
       "      <td>Al150Ni350</td>\n",
       "      <td>160828.564398</td>\n",
       "      <td>Lammps</td>\n",
       "    </tr>\n",
       "    <tr>\n",
       "      <th>3</th>\n",
       "      <td>Al250Ni250</td>\n",
       "      <td>254207.487861</td>\n",
       "      <td>Lammps</td>\n",
       "    </tr>\n",
       "    <tr>\n",
       "      <th>4</th>\n",
       "      <td>Al50Ni450</td>\n",
       "      <td>183825.580752</td>\n",
       "      <td>Lammps</td>\n",
       "    </tr>\n",
       "    <tr>\n",
       "      <th>5</th>\n",
       "      <td>Al100Ni400</td>\n",
       "      <td>173273.260765</td>\n",
       "      <td>Lammps</td>\n",
       "    </tr>\n",
       "    <tr>\n",
       "      <th>6</th>\n",
       "      <td>Al200Ni300</td>\n",
       "      <td>153863.670694</td>\n",
       "      <td>Lammps</td>\n",
       "    </tr>\n",
       "    <tr>\n",
       "      <th>7</th>\n",
       "      <td>Al450Ni50</td>\n",
       "      <td>90651.343840</td>\n",
       "      <td>Lammps</td>\n",
       "    </tr>\n",
       "    <tr>\n",
       "      <th>8</th>\n",
       "      <td>Al350Ni150</td>\n",
       "      <td>202765.139146</td>\n",
       "      <td>Lammps</td>\n",
       "    </tr>\n",
       "    <tr>\n",
       "      <th>9</th>\n",
       "      <td>Al400Ni100</td>\n",
       "      <td>126690.387263</td>\n",
       "      <td>Lammps</td>\n",
       "    </tr>\n",
       "  </tbody>\n",
       "</table>\n",
       "</div>"
      ],
      "text/plain": [
       "  Chemical Formula  Bulk_modulus [MPa] ref_job\n",
       "0            Ni500       185513.288349  Lammps\n",
       "1       Al300Ni200       230375.100288  Lammps\n",
       "2       Al150Ni350       160828.564398  Lammps\n",
       "3       Al250Ni250       254207.487861  Lammps\n",
       "4        Al50Ni450       183825.580752  Lammps\n",
       "5       Al100Ni400       173273.260765  Lammps\n",
       "6       Al200Ni300       153863.670694  Lammps\n",
       "7        Al450Ni50        90651.343840  Lammps\n",
       "8       Al350Ni150       202765.139146  Lammps\n",
       "9       Al400Ni100       126690.387263  Lammps"
      ]
     },
     "execution_count": 32,
     "metadata": {},
     "output_type": "execute_result"
    }
   ],
   "source": [
    "%%time\n",
    "find_property(onto.Bulk_modulus, pr, select_alloy='Ni')"
   ]
  },
  {
   "cell_type": "code",
   "execution_count": 33,
   "id": "b07252ea-db02-43cf-af86-5b9688db5d0b",
   "metadata": {},
   "outputs": [
    {
     "data": {
      "text/html": [
       "<div>\n",
       "<style scoped>\n",
       "    .dataframe tbody tr th:only-of-type {\n",
       "        vertical-align: middle;\n",
       "    }\n",
       "\n",
       "    .dataframe tbody tr th {\n",
       "        vertical-align: top;\n",
       "    }\n",
       "\n",
       "    .dataframe thead th {\n",
       "        text-align: right;\n",
       "    }\n",
       "</style>\n",
       "<table border=\"1\" class=\"dataframe\">\n",
       "  <thead>\n",
       "    <tr style=\"text-align: right;\">\n",
       "      <th></th>\n",
       "      <th>Chemical Formula</th>\n",
       "      <th>B_prime [1]</th>\n",
       "      <th>ref_job</th>\n",
       "    </tr>\n",
       "  </thead>\n",
       "  <tbody>\n",
       "    <tr>\n",
       "      <th>0</th>\n",
       "      <td>Cu4</td>\n",
       "      <td>5.693501</td>\n",
       "      <td>Lammps</td>\n",
       "    </tr>\n",
       "    <tr>\n",
       "      <th>1</th>\n",
       "      <td>Al4</td>\n",
       "      <td>6.263347</td>\n",
       "      <td>Lammps</td>\n",
       "    </tr>\n",
       "    <tr>\n",
       "      <th>2</th>\n",
       "      <td>Al2</td>\n",
       "      <td>1.367559</td>\n",
       "      <td>Lammps</td>\n",
       "    </tr>\n",
       "    <tr>\n",
       "      <th>3</th>\n",
       "      <td>Ni500</td>\n",
       "      <td>4.449077</td>\n",
       "      <td>Lammps</td>\n",
       "    </tr>\n",
       "    <tr>\n",
       "      <th>4</th>\n",
       "      <td>Al4</td>\n",
       "      <td>6.375468</td>\n",
       "      <td>Lammps</td>\n",
       "    </tr>\n",
       "    <tr>\n",
       "      <th>5</th>\n",
       "      <td>Cr2</td>\n",
       "      <td>4.861313</td>\n",
       "      <td>Lammps</td>\n",
       "    </tr>\n",
       "    <tr>\n",
       "      <th>6</th>\n",
       "      <td>Al500</td>\n",
       "      <td>4.239103</td>\n",
       "      <td>Lammps</td>\n",
       "    </tr>\n",
       "    <tr>\n",
       "      <th>7</th>\n",
       "      <td>Al50Ni450</td>\n",
       "      <td>3.933827</td>\n",
       "      <td>Lammps</td>\n",
       "    </tr>\n",
       "    <tr>\n",
       "      <th>8</th>\n",
       "      <td>Al100Ni400</td>\n",
       "      <td>3.444580</td>\n",
       "      <td>Lammps</td>\n",
       "    </tr>\n",
       "    <tr>\n",
       "      <th>9</th>\n",
       "      <td>Al150Ni350</td>\n",
       "      <td>3.043943</td>\n",
       "      <td>Lammps</td>\n",
       "    </tr>\n",
       "    <tr>\n",
       "      <th>10</th>\n",
       "      <td>Al200Ni300</td>\n",
       "      <td>3.599511</td>\n",
       "      <td>Lammps</td>\n",
       "    </tr>\n",
       "    <tr>\n",
       "      <th>11</th>\n",
       "      <td>Al250Ni250</td>\n",
       "      <td>9.888893</td>\n",
       "      <td>Lammps</td>\n",
       "    </tr>\n",
       "    <tr>\n",
       "      <th>12</th>\n",
       "      <td>Al300Ni200</td>\n",
       "      <td>11.336595</td>\n",
       "      <td>Lammps</td>\n",
       "    </tr>\n",
       "    <tr>\n",
       "      <th>13</th>\n",
       "      <td>Al350Ni150</td>\n",
       "      <td>11.929502</td>\n",
       "      <td>Lammps</td>\n",
       "    </tr>\n",
       "    <tr>\n",
       "      <th>14</th>\n",
       "      <td>Al400Ni100</td>\n",
       "      <td>8.528835</td>\n",
       "      <td>Lammps</td>\n",
       "    </tr>\n",
       "    <tr>\n",
       "      <th>15</th>\n",
       "      <td>Al450Ni50</td>\n",
       "      <td>2.589813</td>\n",
       "      <td>Lammps</td>\n",
       "    </tr>\n",
       "    <tr>\n",
       "      <th>16</th>\n",
       "      <td>Al4</td>\n",
       "      <td>4.309659</td>\n",
       "      <td>Vasp</td>\n",
       "    </tr>\n",
       "  </tbody>\n",
       "</table>\n",
       "</div>"
      ],
      "text/plain": [
       "   Chemical Formula  B_prime [1] ref_job\n",
       "0               Cu4     5.693501  Lammps\n",
       "1               Al4     6.263347  Lammps\n",
       "2               Al2     1.367559  Lammps\n",
       "3             Ni500     4.449077  Lammps\n",
       "4               Al4     6.375468  Lammps\n",
       "5               Cr2     4.861313  Lammps\n",
       "6             Al500     4.239103  Lammps\n",
       "7         Al50Ni450     3.933827  Lammps\n",
       "8        Al100Ni400     3.444580  Lammps\n",
       "9        Al150Ni350     3.043943  Lammps\n",
       "10       Al200Ni300     3.599511  Lammps\n",
       "11       Al250Ni250     9.888893  Lammps\n",
       "12       Al300Ni200    11.336595  Lammps\n",
       "13       Al350Ni150    11.929502  Lammps\n",
       "14       Al400Ni100     8.528835  Lammps\n",
       "15        Al450Ni50     2.589813  Lammps\n",
       "16              Al4     4.309659    Vasp"
      ]
     },
     "execution_count": 33,
     "metadata": {},
     "output_type": "execute_result"
    }
   ],
   "source": [
    "find_property(onto.B_prime, pr)"
   ]
  },
  {
   "cell_type": "markdown",
   "id": "7bf889f2-a382-4d95-a9e4-3e8636ca02a3",
   "metadata": {},
   "source": [
    "### Old notes"
   ]
  },
  {
   "cell_type": "markdown",
   "id": "69911aa0-5e2e-4075-847a-44d75e439167",
   "metadata": {
    "tags": []
   },
   "source": [
    "Allow for more complex links between input and output\n",
    "- input + constraints\n",
    "- output + options\n",
    "\n",
    "e.g.:\n",
    "- input = ref_job, constraints=[Structure3DCrystal, AtomicEnergy]   -> can be labels, Parameters\n",
    "- VASP, options=[AtomicStricture, Structure3DCrystal, AtomicEnergy]"
   ]
  },
  {
   "cell_type": "code",
   "execution_count": null,
   "id": "c3afb03d-197c-40c0-a39b-23e177456c21",
   "metadata": {},
   "outputs": [],
   "source": []
  }
 ],
 "metadata": {
  "kernelspec": {
   "display_name": "Python 3 (ipykernel)",
   "language": "python",
   "name": "python3"
  },
  "language_info": {
   "codemirror_mode": {
    "name": "ipython",
    "version": 3
   },
   "file_extension": ".py",
   "mimetype": "text/x-python",
   "name": "python",
   "nbconvert_exporter": "python",
   "pygments_lexer": "ipython3",
   "version": "3.8.13"
  }
 },
 "nbformat": 4,
 "nbformat_minor": 5
}
